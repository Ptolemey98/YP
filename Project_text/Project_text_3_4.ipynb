{
 "cells": [
  {
   "cell_type": "markdown",
   "metadata": {},
   "source": [
    "# Проект для «Викишоп»"
   ]
  },
  {
   "cell_type": "markdown",
   "metadata": {},
   "source": [
    "### Описание проекта\n",
    "Интернет-магазин «Викишоп» запускает новый сервис. Теперь пользователи могут редактировать и дополнять описания товаров, как в вики-сообществах. То есть клиенты предлагают свои правки и комментируют изменения других. Магазину нужен инструмент, который будет искать токсичные комментарии и отправлять их на модерацию. \n",
    "\n",
    "* Обучите модель классифицировать комментарии на позитивные и негативные. В вашем распоряжении набор данных с разметкой о токсичности правок.\n",
    "\n",
    "* Постройте модель со значением метрики качества *F1* не меньше 0.75. \n",
    "\n",
    "---\n",
    "\n",
    "<h2>Содержание</h2>\n",
    "\n",
    "<div class=\"toc\">\n",
    "  <ul>\n",
    "    <li><a href=\"#Подготовка\">Подготовка</a></li>\n",
    "    <li><a href=\"#Обучение\">Обучение</a></li>\n",
    "       <ul>\n",
    "        <li><a href=\"#LogisticRegression\">LogisticRegression</a></li>\n",
    "        <li><a href=\"#RandomForestClassifier\">RandomForestClassifier</a></li>\n",
    "        <li><a href=\"#CatBoostClassifier\">CatBoostClassifier</a></li>\n",
    "      </ul>\n",
    "    <li><a href=\"#Тестирование\">Тестирование</a></li>\n",
    "    <li><a href=\"#Общий-вывод\">Общий вывод</a></li>\n",
    "  </ul>\n",
    "</div>\n",
    "\n",
    "<style>\n",
    "  .toc ul {\n",
    "    font-size: 14px;\n",
    "  }\n",
    "</style>\n",
    "\n",
    "---\n",
    "\n",
    "### Цели и задачи\n",
    "\n",
    "**Цель** - Обучить модель классифицировать комментарии на позитивные и негативные..\n",
    "\n",
    "**Задачи**:\n",
    "    \n",
    "    1. Загрузить и осмотреть данные.  \n",
    "    2. Подготовить данные для обучения моделей.\n",
    "    3. Обучение моделей и тестирование лучшей.\n",
    "    4. Сделать выводы по итогам работы.\n",
    "    \n",
    "---\n",
    "\n",
    "### Описание данных\n",
    "\n",
    "Столбец `text` текст комментария, а `toxic` — целевой признак.\n",
    "\n",
    "---"
   ]
  },
  {
   "cell_type": "markdown",
   "metadata": {},
   "source": [
    "## Подготовка"
   ]
  },
  {
   "cell_type": "code",
   "execution_count": 1,
   "metadata": {},
   "outputs": [],
   "source": [
    "import pandas as pd\n",
    "import matplotlib.pyplot as plt\n",
    "from scipy import sparse\n",
    "import re\n",
    "import nltk\n",
    "from nltk import pos_tag\n",
    "from nltk.stem import WordNetLemmatizer\n",
    "from nltk.corpus import stopwords as nltk_stopwords\n",
    "\n",
    "from catboost import CatBoostClassifier\n",
    "from sklearn.linear_model import LogisticRegression\n",
    "from sklearn.ensemble import RandomForestClassifier\n",
    "from sklearn.model_selection import train_test_split, cross_val_score, GridSearchCV, RandomizedSearchCV\n",
    "from sklearn.feature_extraction.text import TfidfVectorizer\n",
    "from sklearn.pipeline import make_pipeline\n",
    "from sklearn.metrics import f1_score\n",
    "\n",
    "pd.set_option('display.max_colwidth', 1000)\n",
    "import warnings\n",
    "warnings.filterwarnings('ignore')\n",
    "\n",
    "from tqdm.notebook import tqdm\n",
    "tqdm.pandas()"
   ]
  },
  {
   "cell_type": "code",
   "execution_count": 2,
   "metadata": {},
   "outputs": [],
   "source": [
    "df = pd.read_csv(\"C:/Users/Dell/Desktop/Data_YP/Data/text/toxic_comments.csv\")"
   ]
  },
  {
   "cell_type": "code",
   "execution_count": 3,
   "metadata": {},
   "outputs": [
    {
     "name": "stdout",
     "output_type": "stream",
     "text": [
      "<class 'pandas.core.frame.DataFrame'>\n",
      "RangeIndex: 159292 entries, 0 to 159291\n",
      "Data columns (total 3 columns):\n",
      " #   Column      Non-Null Count   Dtype \n",
      "---  ------      --------------   ----- \n",
      " 0   Unnamed: 0  159292 non-null  int64 \n",
      " 1   text        159292 non-null  object\n",
      " 2   toxic       159292 non-null  int64 \n",
      "dtypes: int64(2), object(1)\n",
      "memory usage: 3.6+ MB\n"
     ]
    },
    {
     "data": {
      "text/plain": [
       "None"
      ]
     },
     "metadata": {},
     "output_type": "display_data"
    },
    {
     "data": {
      "text/html": [
       "<div>\n",
       "<style scoped>\n",
       "    .dataframe tbody tr th:only-of-type {\n",
       "        vertical-align: middle;\n",
       "    }\n",
       "\n",
       "    .dataframe tbody tr th {\n",
       "        vertical-align: top;\n",
       "    }\n",
       "\n",
       "    .dataframe thead th {\n",
       "        text-align: right;\n",
       "    }\n",
       "</style>\n",
       "<table border=\"1\" class=\"dataframe\">\n",
       "  <thead>\n",
       "    <tr style=\"text-align: right;\">\n",
       "      <th></th>\n",
       "      <th>Unnamed: 0</th>\n",
       "      <th>text</th>\n",
       "      <th>toxic</th>\n",
       "    </tr>\n",
       "  </thead>\n",
       "  <tbody>\n",
       "    <tr>\n",
       "      <th>0</th>\n",
       "      <td>0</td>\n",
       "      <td>Explanation\\nWhy the edits made under my username Hardcore Metallica Fan were reverted? They weren't vandalisms, just closure on some GAs after I voted at New York Dolls FAC. And please don't remove the template from the talk page since I'm retired now.89.205.38.27</td>\n",
       "      <td>0</td>\n",
       "    </tr>\n",
       "    <tr>\n",
       "      <th>1</th>\n",
       "      <td>1</td>\n",
       "      <td>D'aww! He matches this background colour I'm seemingly stuck with. Thanks.  (talk) 21:51, January 11, 2016 (UTC)</td>\n",
       "      <td>0</td>\n",
       "    </tr>\n",
       "    <tr>\n",
       "      <th>2</th>\n",
       "      <td>2</td>\n",
       "      <td>Hey man, I'm really not trying to edit war. It's just that this guy is constantly removing relevant information and talking to me through edits instead of my talk page. He seems to care more about the formatting than the actual info.</td>\n",
       "      <td>0</td>\n",
       "    </tr>\n",
       "    <tr>\n",
       "      <th>3</th>\n",
       "      <td>3</td>\n",
       "      <td>\"\\nMore\\nI can't make any real suggestions on improvement - I wondered if the section statistics should be later on, or a subsection of \"\"types of accidents\"\"  -I think the references may need tidying so that they are all in the exact same format ie date format etc. I can do that later on, if no-one else does first - if you have any preferences for formatting style on references or want to do it yourself please let me know.\\n\\nThere appears to be a backlog on articles for review so I guess there may be a delay until a reviewer turns up. It's listed in the relevant form eg Wikipedia:Good_article_nominations#Transport  \"</td>\n",
       "      <td>0</td>\n",
       "    </tr>\n",
       "    <tr>\n",
       "      <th>4</th>\n",
       "      <td>4</td>\n",
       "      <td>You, sir, are my hero. Any chance you remember what page that's on?</td>\n",
       "      <td>0</td>\n",
       "    </tr>\n",
       "    <tr>\n",
       "      <th>5</th>\n",
       "      <td>5</td>\n",
       "      <td>\"\\n\\nCongratulations from me as well, use the tools well.  · talk \"</td>\n",
       "      <td>0</td>\n",
       "    </tr>\n",
       "    <tr>\n",
       "      <th>6</th>\n",
       "      <td>6</td>\n",
       "      <td>COCKSUCKER BEFORE YOU PISS AROUND ON MY WORK</td>\n",
       "      <td>1</td>\n",
       "    </tr>\n",
       "    <tr>\n",
       "      <th>7</th>\n",
       "      <td>7</td>\n",
       "      <td>Your vandalism to the Matt Shirvington article has been reverted.  Please don't do it again, or you will be banned.</td>\n",
       "      <td>0</td>\n",
       "    </tr>\n",
       "    <tr>\n",
       "      <th>8</th>\n",
       "      <td>8</td>\n",
       "      <td>Sorry if the word 'nonsense' was offensive to you. Anyway, I'm not intending to write anything in the article(wow they would jump on me for vandalism), I'm merely requesting that it be more encyclopedic so one can use it for school as a reference. I have been to the selective breeding page but it's almost a stub. It points to 'animal breeding' which is a short messy article that gives you no info. There must be someone around with expertise in eugenics? 93.161.107.169</td>\n",
       "      <td>0</td>\n",
       "    </tr>\n",
       "    <tr>\n",
       "      <th>9</th>\n",
       "      <td>9</td>\n",
       "      <td>alignment on this subject and which are contrary to those of DuLithgow</td>\n",
       "      <td>0</td>\n",
       "    </tr>\n",
       "  </tbody>\n",
       "</table>\n",
       "</div>"
      ],
      "text/plain": [
       "   Unnamed: 0  \\\n",
       "0           0   \n",
       "1           1   \n",
       "2           2   \n",
       "3           3   \n",
       "4           4   \n",
       "5           5   \n",
       "6           6   \n",
       "7           7   \n",
       "8           8   \n",
       "9           9   \n",
       "\n",
       "                                                                                                                                                                                                                                                                                                                                                                                                                                                                                                                                                                                                                                                 text  \\\n",
       "0                                                                                                                                                                                                                                                                                                                                                                           Explanation\\nWhy the edits made under my username Hardcore Metallica Fan were reverted? They weren't vandalisms, just closure on some GAs after I voted at New York Dolls FAC. And please don't remove the template from the talk page since I'm retired now.89.205.38.27   \n",
       "1                                                                                                                                                                                                                                                                                                                                                                                                                                                                                                                                    D'aww! He matches this background colour I'm seemingly stuck with. Thanks.  (talk) 21:51, January 11, 2016 (UTC)   \n",
       "2                                                                                                                                                                                                                                                                                                                                                                                                           Hey man, I'm really not trying to edit war. It's just that this guy is constantly removing relevant information and talking to me through edits instead of my talk page. He seems to care more about the formatting than the actual info.   \n",
       "3  \"\\nMore\\nI can't make any real suggestions on improvement - I wondered if the section statistics should be later on, or a subsection of \"\"types of accidents\"\"  -I think the references may need tidying so that they are all in the exact same format ie date format etc. I can do that later on, if no-one else does first - if you have any preferences for formatting style on references or want to do it yourself please let me know.\\n\\nThere appears to be a backlog on articles for review so I guess there may be a delay until a reviewer turns up. It's listed in the relevant form eg Wikipedia:Good_article_nominations#Transport  \"   \n",
       "4                                                                                                                                                                                                                                                                                                                                                                                                                                                                                                                                                                                 You, sir, are my hero. Any chance you remember what page that's on?   \n",
       "5                                                                                                                                                                                                                                                                                                                                                                                                                                                                                                                                                                                 \"\\n\\nCongratulations from me as well, use the tools well.  · talk \"   \n",
       "6                                                                                                                                                                                                                                                                                                                                                                                                                                                                                                                                                                                                        COCKSUCKER BEFORE YOU PISS AROUND ON MY WORK   \n",
       "7                                                                                                                                                                                                                                                                                                                                                                                                                                                                                                                                 Your vandalism to the Matt Shirvington article has been reverted.  Please don't do it again, or you will be banned.   \n",
       "8                                                                                                                                                            Sorry if the word 'nonsense' was offensive to you. Anyway, I'm not intending to write anything in the article(wow they would jump on me for vandalism), I'm merely requesting that it be more encyclopedic so one can use it for school as a reference. I have been to the selective breeding page but it's almost a stub. It points to 'animal breeding' which is a short messy article that gives you no info. There must be someone around with expertise in eugenics? 93.161.107.169   \n",
       "9                                                                                                                                                                                                                                                                                                                                                                                                                                                                                                                                                                              alignment on this subject and which are contrary to those of DuLithgow   \n",
       "\n",
       "   toxic  \n",
       "0      0  \n",
       "1      0  \n",
       "2      0  \n",
       "3      0  \n",
       "4      0  \n",
       "5      0  \n",
       "6      1  \n",
       "7      0  \n",
       "8      0  \n",
       "9      0  "
      ]
     },
     "metadata": {},
     "output_type": "display_data"
    },
    {
     "name": "stdout",
     "output_type": "stream",
     "text": [
      "\n",
      "Число дубликатов: 0\n"
     ]
    }
   ],
   "source": [
    "display(df.info())\n",
    "display(df.head(10))\n",
    "print('\\nЧисло дубликатов:', df.duplicated().sum())"
   ]
  },
  {
   "cell_type": "markdown",
   "metadata": {},
   "source": [
    "\"Unnamed: 0\" - не информативный столбец. Удалим его."
   ]
  },
  {
   "cell_type": "code",
   "execution_count": 4,
   "metadata": {},
   "outputs": [],
   "source": [
    "df = df.drop([\"Unnamed: 0\"], axis = 1)"
   ]
  },
  {
   "cell_type": "markdown",
   "metadata": {},
   "source": [
    "Проверим целевой признак на дисбаланс классов"
   ]
  },
  {
   "cell_type": "code",
   "execution_count": 5,
   "metadata": {},
   "outputs": [
    {
     "data": {
      "image/png": "[encoded data removed]",
      "text/plain": [
       "<Figure size 600x300 with 1 Axes>"
      ]
     },
     "metadata": {},
     "output_type": "display_data"
    },
    {
     "data": {
      "text/plain": [
       "0    0.898388\n",
       "1    0.101612\n",
       "Name: toxic, dtype: float64"
      ]
     },
     "execution_count": 5,
     "metadata": {},
     "output_type": "execute_result"
    }
   ],
   "source": [
    "(df\n",
    "    .pivot_table(index='toxic', values='text', aggfunc='count')\n",
    "    .plot(kind='bar', title='Баланс токсичных комментариев', grid=True, figsize=(6,3))\n",
    ")\n",
    "plt.xlabel('Разметка о токсичности')\n",
    "plt.ylabel('Количество комментариев')\n",
    "plt.show()\n",
    "df[\"toxic\"].value_counts(normalize = True)"
   ]
  },
  {
   "cell_type": "markdown",
   "metadata": {},
   "source": [
    "В нашем целевом признаке отрицательных комментариев ≈ 10% , положитительные комментарии ≈ 90%. С уверенностью можем сказать, что имеется дисбаланс. При обучении учтем это."
   ]
  },
  {
   "cell_type": "code",
   "execution_count": 6,
   "metadata": {},
   "outputs": [
    {
     "name": "stderr",
     "output_type": "stream",
     "text": [
      "[nltk_data] Downloading package averaged_perceptron_tagger to\n",
      "[nltk_data]     C:\\Users\\Dell\\AppData\\Roaming\\nltk_data...\n",
      "[nltk_data]   Package averaged_perceptron_tagger is already up-to-\n",
      "[nltk_data]       date!\n"
     ]
    }
   ],
   "source": [
    "lemmatizer = WordNetLemmatizer()\n",
    "nltk.download('averaged_perceptron_tagger')\n",
    "     \n",
    "def penn2morphy(penntag):#  присваиваем POS-tag определенный токен (части речи) каждому слову\n",
    "    morphy_tag = {'NN':'n', 'JJ':'a',\n",
    "                  'VB':'v', 'RB':'r'}\n",
    "    try:\n",
    "        return morphy_tag[penntag[:2]]\n",
    "    except:\n",
    "        return 'n' \n",
    "\n",
    "def lemmatize_text(text):\n",
    "    text = text.lower()# некоторые комментарии написаны в верхнем регистре\n",
    "    cleared_text = re.sub(r'[^a-zA-Z]', ' ', text) #регэксп\n",
    "    lemm_text =\" \".join([lemmatizer.lemmatize(word.lower(), pos=penn2morphy(tag))# леммитизируем текст \n",
    "                         for word, tag in pos_tag(nltk.word_tokenize(cleared_text))])\n",
    "    return \" \".join(lemm_text.split()) "
   ]
  },
  {
   "cell_type": "code",
   "execution_count": 7,
   "metadata": {
    "scrolled": true
   },
   "outputs": [
    {
     "data": {
      "application/vnd.jupyter.widget-view+json": {
       "model_id": "b30b10236dcb411c96be890aad3e21de",
       "version_major": 2,
       "version_minor": 0
      },
      "text/plain": [
       "  0%|          | 0/159292 [00:00<?, ?it/s]"
      ]
     },
     "metadata": {},
     "output_type": "display_data"
    },
    {
     "data": {
      "text/html": [
       "<div>\n",
       "<style scoped>\n",
       "    .dataframe tbody tr th:only-of-type {\n",
       "        vertical-align: middle;\n",
       "    }\n",
       "\n",
       "    .dataframe tbody tr th {\n",
       "        vertical-align: top;\n",
       "    }\n",
       "\n",
       "    .dataframe thead th {\n",
       "        text-align: right;\n",
       "    }\n",
       "</style>\n",
       "<table border=\"1\" class=\"dataframe\">\n",
       "  <thead>\n",
       "    <tr style=\"text-align: right;\">\n",
       "      <th></th>\n",
       "      <th>text</th>\n",
       "      <th>toxic</th>\n",
       "      <th>lemm_text</th>\n",
       "    </tr>\n",
       "  </thead>\n",
       "  <tbody>\n",
       "    <tr>\n",
       "      <th>0</th>\n",
       "      <td>Explanation\\nWhy the edits made under my username Hardcore Metallica Fan were reverted? They weren't vandalisms, just closure on some GAs after I voted at New York Dolls FAC. And please don't remove the template from the talk page since I'm retired now.89.205.38.27</td>\n",
       "      <td>0</td>\n",
       "      <td>explanation why the edits make under my username hardcore metallica fan be revert they weren t vandalism just closure on some gas after i vote at new york doll fac and please don t remove the template from the talk page since i m retire now</td>\n",
       "    </tr>\n",
       "    <tr>\n",
       "      <th>1</th>\n",
       "      <td>D'aww! He matches this background colour I'm seemingly stuck with. Thanks.  (talk) 21:51, January 11, 2016 (UTC)</td>\n",
       "      <td>0</td>\n",
       "      <td>d aww he match this background colour i m seemingly stick with thanks talk january utc</td>\n",
       "    </tr>\n",
       "    <tr>\n",
       "      <th>2</th>\n",
       "      <td>Hey man, I'm really not trying to edit war. It's just that this guy is constantly removing relevant information and talking to me through edits instead of my talk page. He seems to care more about the formatting than the actual info.</td>\n",
       "      <td>0</td>\n",
       "      <td>hey man i m really not try to edit war it s just that this guy be constantly remove relevant information and talk to me through edits instead of my talk page he seem to care more about the formatting than the actual info</td>\n",
       "    </tr>\n",
       "    <tr>\n",
       "      <th>3</th>\n",
       "      <td>\"\\nMore\\nI can't make any real suggestions on improvement - I wondered if the section statistics should be later on, or a subsection of \"\"types of accidents\"\"  -I think the references may need tidying so that they are all in the exact same format ie date format etc. I can do that later on, if no-one else does first - if you have any preferences for formatting style on references or want to do it yourself please let me know.\\n\\nThere appears to be a backlog on articles for review so I guess there may be a delay until a reviewer turns up. It's listed in the relevant form eg Wikipedia:Good_article_nominations#Transport  \"</td>\n",
       "      <td>0</td>\n",
       "      <td>more i can t make any real suggestion on improvement i wonder if the section statistic should be later on or a subsection of type of accident i think the reference may need tidy so that they be all in the exact same format ie date format etc i can do that later on if no one else do first if you have any preference for format style on reference or want to do it yourself please let me know there appear to be a backlog on article for review so i guess there may be a delay until a reviewer turn up it s list in the relevant form eg wikipedia good article nomination transport</td>\n",
       "    </tr>\n",
       "    <tr>\n",
       "      <th>4</th>\n",
       "      <td>You, sir, are my hero. Any chance you remember what page that's on?</td>\n",
       "      <td>0</td>\n",
       "      <td>you sir be my hero any chance you remember what page that s on</td>\n",
       "    </tr>\n",
       "  </tbody>\n",
       "</table>\n",
       "</div>"
      ],
      "text/plain": [
       "                                                                                                                                                                                                                                                                                                                                                                                                                                                                                                                                                                                                                                                 text  \\\n",
       "0                                                                                                                                                                                                                                                                                                                                                                           Explanation\\nWhy the edits made under my username Hardcore Metallica Fan were reverted? They weren't vandalisms, just closure on some GAs after I voted at New York Dolls FAC. And please don't remove the template from the talk page since I'm retired now.89.205.38.27   \n",
       "1                                                                                                                                                                                                                                                                                                                                                                                                                                                                                                                                    D'aww! He matches this background colour I'm seemingly stuck with. Thanks.  (talk) 21:51, January 11, 2016 (UTC)   \n",
       "2                                                                                                                                                                                                                                                                                                                                                                                                           Hey man, I'm really not trying to edit war. It's just that this guy is constantly removing relevant information and talking to me through edits instead of my talk page. He seems to care more about the formatting than the actual info.   \n",
       "3  \"\\nMore\\nI can't make any real suggestions on improvement - I wondered if the section statistics should be later on, or a subsection of \"\"types of accidents\"\"  -I think the references may need tidying so that they are all in the exact same format ie date format etc. I can do that later on, if no-one else does first - if you have any preferences for formatting style on references or want to do it yourself please let me know.\\n\\nThere appears to be a backlog on articles for review so I guess there may be a delay until a reviewer turns up. It's listed in the relevant form eg Wikipedia:Good_article_nominations#Transport  \"   \n",
       "4                                                                                                                                                                                                                                                                                                                                                                                                                                                                                                                                                                                 You, sir, are my hero. Any chance you remember what page that's on?   \n",
       "\n",
       "   toxic  \\\n",
       "0      0   \n",
       "1      0   \n",
       "2      0   \n",
       "3      0   \n",
       "4      0   \n",
       "\n",
       "                                                                                                                                                                                                                                                                                                                                                                                                                                                                                                                                                                                          lemm_text  \n",
       "0                                                                                                                                                                                                                                                                                                                                                  explanation why the edits make under my username hardcore metallica fan be revert they weren t vandalism just closure on some gas after i vote at new york doll fac and please don t remove the template from the talk page since i m retire now  \n",
       "1                                                                                                                                                                                                                                                                                                                                                                                                                                                                                                            d aww he match this background colour i m seemingly stick with thanks talk january utc  \n",
       "2                                                                                                                                                                                                                                                                                                                                                                      hey man i m really not try to edit war it s just that this guy be constantly remove relevant information and talk to me through edits instead of my talk page he seem to care more about the formatting than the actual info  \n",
       "3  more i can t make any real suggestion on improvement i wonder if the section statistic should be later on or a subsection of type of accident i think the reference may need tidy so that they be all in the exact same format ie date format etc i can do that later on if no one else do first if you have any preference for format style on reference or want to do it yourself please let me know there appear to be a backlog on article for review so i guess there may be a delay until a reviewer turn up it s list in the relevant form eg wikipedia good article nomination transport  \n",
       "4                                                                                                                                                                                                                                                                                                                                                                                                                                                                                                                                    you sir be my hero any chance you remember what page that s on  "
      ]
     },
     "execution_count": 7,
     "metadata": {},
     "output_type": "execute_result"
    }
   ],
   "source": [
    "df['lemm_text'] = df['text'].progress_apply(lemmatize_text)\n",
    "df.head()"
   ]
  },
  {
   "cell_type": "markdown",
   "metadata": {},
   "source": [
    "Лемматизация прошла успешно. Разобьем выборку на тренировочную и тестовую в отношении 90/10."
   ]
  },
  {
   "cell_type": "code",
   "execution_count": 8,
   "metadata": {},
   "outputs": [
    {
     "name": "stdout",
     "output_type": "stream",
     "text": [
      "(143362,)\n",
      "(15930,)\n"
     ]
    }
   ],
   "source": [
    "target = df['toxic']\n",
    "features = df['lemm_text']\n",
    "\n",
    "features_train, features_test, target_train, target_test = train_test_split(features, \n",
    "                                                                            target, \n",
    "                                                                            test_size=0.1, \n",
    "                                                                            random_state=54321)\n",
    "print(features_train.shape)\n",
    "print(features_test.shape)"
   ]
  },
  {
   "cell_type": "code",
   "execution_count": 9,
   "metadata": {},
   "outputs": [
    {
     "name": "stderr",
     "output_type": "stream",
     "text": [
      "[nltk_data] Downloading package stopwords to\n",
      "[nltk_data]     C:\\Users\\Dell\\AppData\\Roaming\\nltk_data...\n",
      "[nltk_data]   Package stopwords is already up-to-date!\n",
      "[nltk_data] Downloading package wordnet to\n",
      "[nltk_data]     C:\\Users\\Dell\\AppData\\Roaming\\nltk_data...\n",
      "[nltk_data]   Package wordnet is already up-to-date!\n",
      "[nltk_data] Downloading package punkt to\n",
      "[nltk_data]     C:\\Users\\Dell\\AppData\\Roaming\\nltk_data...\n",
      "[nltk_data]   Package punkt is already up-to-date!\n"
     ]
    },
    {
     "name": "stdout",
     "output_type": "stream",
     "text": [
      "(143362, 146541)\n",
      "(15930, 146541)\n"
     ]
    }
   ],
   "source": [
    "# Векторизация данных\n",
    "nltk.download('stopwords')\n",
    "nltk.download('wordnet')\n",
    "nltk.download('punkt')\n",
    "stopwords = nltk_stopwords.words('english')\n",
    "\n",
    "count_tf_idf = TfidfVectorizer(stop_words=stopwords)\n",
    "\n",
    "features_train_idf = count_tf_idf.fit_transform(features_train)\n",
    "features_test_idf = count_tf_idf.transform(features_test)\n",
    "\n",
    "features_train_idf = pd.DataFrame.sparse.from_spmatrix(features_train_idf, columns=count_tf_idf.get_feature_names_out())\n",
    "features_test_idf = pd.DataFrame.sparse.from_spmatrix(features_test_idf, columns=count_tf_idf.get_feature_names_out())\n",
    "\n",
    "print(features_train_idf.shape)\n",
    "print(features_test_idf.shape)"
   ]
  },
  {
   "cell_type": "markdown",
   "metadata": {},
   "source": [
    "Количество признаков одинаково.\n",
    "\n",
    "### Вывод\n",
    "\n",
    "- Провели очистку от лишних символов и лемматизацию слов корпуса\n",
    "- Разделили обработанные данные на тренировочную и тестовую\n",
    "- Векторизировали данные\n",
    "- Данные подготовленны для обучения"
   ]
  },
  {
   "cell_type": "markdown",
   "metadata": {},
   "source": [
    "## Обучение"
   ]
  },
  {
   "cell_type": "markdown",
   "metadata": {},
   "source": [
    "### LogisticRegression"
   ]
  },
  {
   "cell_type": "code",
   "execution_count": 10,
   "metadata": {},
   "outputs": [
    {
     "name": "stdout",
     "output_type": "stream",
     "text": [
      "[Parallel(n_jobs=-1)]: Using backend LokyBackend with 4 concurrent workers.\n",
      "[Parallel(n_jobs=-1)]: Done   1 tasks      | elapsed:   15.0s\n",
      "[Parallel(n_jobs=-1)]: Done   1 out of   1 | elapsed:   15.0s finished\n",
      "[Parallel(n_jobs=-1)]: Using backend LokyBackend with 4 concurrent workers.\n",
      "[Parallel(n_jobs=-1)]: Done   1 tasks      | elapsed:   11.6s\n",
      "[Parallel(n_jobs=-1)]: Done   1 out of   1 | elapsed:   11.7s finished\n",
      "[Parallel(n_jobs=-1)]: Using backend LokyBackend with 4 concurrent workers.\n",
      "[Parallel(n_jobs=-1)]: Done   1 tasks      | elapsed:   11.6s\n",
      "[Parallel(n_jobs=-1)]: Done   1 out of   1 | elapsed:   11.6s finished\n",
      "[Parallel(n_jobs=-1)]: Using backend LokyBackend with 4 concurrent workers.\n",
      "[Parallel(n_jobs=-1)]: Done   1 tasks      | elapsed:   12.3s\n",
      "[Parallel(n_jobs=-1)]: Done   1 out of   1 | elapsed:   12.3s finished\n",
      "[Parallel(n_jobs=-1)]: Using backend LokyBackend with 4 concurrent workers.\n",
      "[Parallel(n_jobs=-1)]: Done   1 tasks      | elapsed:   11.3s\n",
      "[Parallel(n_jobs=-1)]: Done   1 out of   1 | elapsed:   11.3s finished\n",
      "[Parallel(n_jobs=-1)]: Using backend LokyBackend with 4 concurrent workers.\n",
      "[Parallel(n_jobs=-1)]: Done   1 tasks      | elapsed:   10.7s\n",
      "[Parallel(n_jobs=-1)]: Done   1 out of   1 | elapsed:   10.7s finished\n",
      "[Parallel(n_jobs=-1)]: Using backend LokyBackend with 4 concurrent workers.\n",
      "[Parallel(n_jobs=-1)]: Done   1 tasks      | elapsed:   10.6s\n",
      "[Parallel(n_jobs=-1)]: Done   1 out of   1 | elapsed:   10.7s finished\n",
      "[Parallel(n_jobs=-1)]: Using backend LokyBackend with 4 concurrent workers.\n",
      "[Parallel(n_jobs=-1)]: Done   1 tasks      | elapsed:   10.7s\n",
      "[Parallel(n_jobs=-1)]: Done   1 out of   1 | elapsed:   10.7s finished\n",
      "[Parallel(n_jobs=-1)]: Using backend LokyBackend with 4 concurrent workers.\n",
      "[Parallel(n_jobs=-1)]: Done   1 tasks      | elapsed:   10.5s\n",
      "[Parallel(n_jobs=-1)]: Done   1 out of   1 | elapsed:   10.5s finished\n",
      "[Parallel(n_jobs=-1)]: Using backend LokyBackend with 4 concurrent workers.\n",
      "[Parallel(n_jobs=-1)]: Done   1 tasks      | elapsed:   11.0s\n",
      "[Parallel(n_jobs=-1)]: Done   1 out of   1 | elapsed:   11.0s finished\n",
      "[Parallel(n_jobs=-1)]: Using backend LokyBackend with 4 concurrent workers.\n",
      "[Parallel(n_jobs=-1)]: Done   1 tasks      | elapsed:   11.3s\n",
      "[Parallel(n_jobs=-1)]: Done   1 out of   1 | elapsed:   11.3s finished\n",
      "[Parallel(n_jobs=-1)]: Using backend LokyBackend with 4 concurrent workers.\n",
      "[Parallel(n_jobs=-1)]: Done   1 tasks      | elapsed:   10.9s\n",
      "[Parallel(n_jobs=-1)]: Done   1 out of   1 | elapsed:   10.9s finished\n",
      "[Parallel(n_jobs=-1)]: Using backend LokyBackend with 4 concurrent workers.\n",
      "[Parallel(n_jobs=-1)]: Done   1 tasks      | elapsed:   10.7s\n",
      "[Parallel(n_jobs=-1)]: Done   1 out of   1 | elapsed:   10.8s finished\n",
      "[Parallel(n_jobs=-1)]: Using backend LokyBackend with 4 concurrent workers.\n",
      "[Parallel(n_jobs=-1)]: Done   1 tasks      | elapsed:   10.7s\n",
      "[Parallel(n_jobs=-1)]: Done   1 out of   1 | elapsed:   10.7s finished\n",
      "[Parallel(n_jobs=-1)]: Using backend LokyBackend with 4 concurrent workers.\n",
      "[Parallel(n_jobs=-1)]: Done   1 tasks      | elapsed:   10.5s\n",
      "[Parallel(n_jobs=-1)]: Done   1 out of   1 | elapsed:   10.5s finished\n",
      "[Parallel(n_jobs=-1)]: Using backend LokyBackend with 4 concurrent workers.\n",
      "[Parallel(n_jobs=-1)]: Done   1 tasks      | elapsed:   11.1s\n",
      "[Parallel(n_jobs=-1)]: Done   1 out of   1 | elapsed:   11.1s finished\n",
      "[Parallel(n_jobs=-1)]: Using backend LokyBackend with 4 concurrent workers.\n",
      "[Parallel(n_jobs=-1)]: Done   1 tasks      | elapsed:   11.3s\n",
      "[Parallel(n_jobs=-1)]: Done   1 out of   1 | elapsed:   11.3s finished\n",
      "[Parallel(n_jobs=-1)]: Using backend LokyBackend with 4 concurrent workers.\n",
      "[Parallel(n_jobs=-1)]: Done   1 tasks      | elapsed:   11.0s\n",
      "[Parallel(n_jobs=-1)]: Done   1 out of   1 | elapsed:   11.0s finished\n",
      "[Parallel(n_jobs=-1)]: Using backend LokyBackend with 4 concurrent workers.\n",
      "[Parallel(n_jobs=-1)]: Done   1 tasks      | elapsed:   10.4s\n",
      "[Parallel(n_jobs=-1)]: Done   1 out of   1 | elapsed:   10.4s finished\n",
      "[Parallel(n_jobs=-1)]: Using backend LokyBackend with 4 concurrent workers.\n",
      "[Parallel(n_jobs=-1)]: Done   1 tasks      | elapsed:   10.7s\n",
      "[Parallel(n_jobs=-1)]: Done   1 out of   1 | elapsed:   10.7s finished\n",
      "[Parallel(n_jobs=-1)]: Using backend LokyBackend with 4 concurrent workers.\n",
      "[Parallel(n_jobs=-1)]: Done   1 tasks      | elapsed:   10.7s\n",
      "[Parallel(n_jobs=-1)]: Done   1 out of   1 | elapsed:   10.7s finished\n",
      "[Parallel(n_jobs=-1)]: Using backend LokyBackend with 4 concurrent workers.\n",
      "[Parallel(n_jobs=-1)]: Done   1 tasks      | elapsed:   11.3s\n",
      "[Parallel(n_jobs=-1)]: Done   1 out of   1 | elapsed:   11.3s finished\n",
      "[Parallel(n_jobs=-1)]: Using backend LokyBackend with 4 concurrent workers.\n",
      "[Parallel(n_jobs=-1)]: Done   1 tasks      | elapsed:   11.3s\n",
      "[Parallel(n_jobs=-1)]: Done   1 out of   1 | elapsed:   11.3s finished\n",
      "[Parallel(n_jobs=-1)]: Using backend LokyBackend with 4 concurrent workers.\n",
      "[Parallel(n_jobs=-1)]: Done   1 tasks      | elapsed:   11.1s\n",
      "[Parallel(n_jobs=-1)]: Done   1 out of   1 | elapsed:   11.1s finished\n",
      "[Parallel(n_jobs=-1)]: Using backend LokyBackend with 4 concurrent workers.\n",
      "[Parallel(n_jobs=-1)]: Done   1 tasks      | elapsed:   10.4s\n",
      "[Parallel(n_jobs=-1)]: Done   1 out of   1 | elapsed:   10.4s finished\n",
      "[Parallel(n_jobs=-1)]: Using backend LokyBackend with 4 concurrent workers.\n",
      "[Parallel(n_jobs=-1)]: Done   1 tasks      | elapsed:   10.7s\n",
      "[Parallel(n_jobs=-1)]: Done   1 out of   1 | elapsed:   10.8s finished\n",
      "[Parallel(n_jobs=-1)]: Using backend LokyBackend with 4 concurrent workers.\n",
      "[Parallel(n_jobs=-1)]: Done   1 tasks      | elapsed:   10.8s\n",
      "[Parallel(n_jobs=-1)]: Done   1 out of   1 | elapsed:   10.8s finished\n",
      "[Parallel(n_jobs=-1)]: Using backend LokyBackend with 4 concurrent workers.\n",
      "[Parallel(n_jobs=-1)]: Done   1 tasks      | elapsed:   10.7s\n",
      "[Parallel(n_jobs=-1)]: Done   1 out of   1 | elapsed:   10.7s finished\n",
      "[Parallel(n_jobs=-1)]: Using backend LokyBackend with 4 concurrent workers.\n",
      "[Parallel(n_jobs=-1)]: Done   1 tasks      | elapsed:   11.3s\n",
      "[Parallel(n_jobs=-1)]: Done   1 out of   1 | elapsed:   11.3s finished\n",
      "[Parallel(n_jobs=-1)]: Using backend LokyBackend with 4 concurrent workers.\n",
      "[Parallel(n_jobs=-1)]: Done   1 tasks      | elapsed:   11.2s\n",
      "[Parallel(n_jobs=-1)]: Done   1 out of   1 | elapsed:   11.3s finished\n",
      "[Parallel(n_jobs=-1)]: Using backend ThreadingBackend with 4 concurrent workers.\n",
      "max_iter reached after 17 seconds\n",
      "[Parallel(n_jobs=-1)]: Done   1 tasks      | elapsed:   16.6s\n",
      "[Parallel(n_jobs=-1)]: Done   1 out of   1 | elapsed:   16.6s finished\n",
      "Лучшие гиппепараметры: {'logisticregression__verbose': 100, 'logisticregression__solver': 'sag', 'logisticregression__class_weight': 'balanced', 'logisticregression__C': 8}\n",
      "\n",
      " F1 на LogisticRegression = 0.7560969842733214\n"
     ]
    }
   ],
   "source": [
    "classificator = LogisticRegression(random_state=1, n_jobs=-1)\n",
    "params = [{\n",
    "           'logisticregression__class_weight':['balanced'],\n",
    "           'logisticregression__C': range(5,15),\n",
    "           \"logisticregression__verbose\":[100], \"logisticregression__solver\":[\"saga\",\"sag\"]}]\n",
    "\n",
    "pipe_lr = make_pipeline (count_tf_idf, classificator)\n",
    "\n",
    "LR = RandomizedSearchCV(pipe_lr, params, scoring='f1',cv=3)\n",
    "LR.fit(features_train, target_train)\n",
    "\n",
    "LR_best_params = LR.best_params_\n",
    "print(\"Лучшие гиппепараметры:\", LR_best_params)\n",
    "\n",
    "LR_f1 = LR.best_score_\n",
    "print('\\n F1 на LogisticRegression =', LR_f1)"
   ]
  },
  {
   "cell_type": "markdown",
   "metadata": {},
   "source": [
    "### RandomForestClassifier"
   ]
  },
  {
   "cell_type": "code",
   "execution_count": 11,
   "metadata": {},
   "outputs": [
    {
     "name": "stdout",
     "output_type": "stream",
     "text": [
      "[Pipeline] ... (step 1 of 2) Processing tfidfvectorizer, total=   7.0s\n",
      "[Pipeline]  (step 2 of 2) Processing randomforestclassifier, total= 9.5min\n",
      "[Pipeline] ... (step 1 of 2) Processing tfidfvectorizer, total=   6.7s\n",
      "[Pipeline]  (step 2 of 2) Processing randomforestclassifier, total=10.4min\n",
      "[Pipeline] ... (step 1 of 2) Processing tfidfvectorizer, total=   7.9s\n",
      "[Pipeline]  (step 2 of 2) Processing randomforestclassifier, total=10.5min\n",
      "[Pipeline] ... (step 1 of 2) Processing tfidfvectorizer, total=  11.5s\n",
      "[Pipeline]  (step 2 of 2) Processing randomforestclassifier, total=20.3min\n",
      "Лучшие гиперпараметры: {'verbose': 100}\n",
      "\n",
      " F1 на RandomForestClassifier: 0.6869083836114843\n"
     ]
    }
   ],
   "source": [
    "classificator = RandomForestClassifier(random_state = 1, n_jobs=-1)\n",
    "param = [{\"verbose\":[100]}]\n",
    "\n",
    "pipe_rfc = make_pipeline (count_tf_idf, classificator)\n",
    "\n",
    "RFC = RandomizedSearchCV(pipe_rfc, param, scoring='f1',cv=3)\n",
    "RFC.fit(features_train, target_train)\n",
    "RFC_best_params = RFC.best_params_\n",
    "print(\"Лучшие гиперпараметры:\", RFC_best_params)\n",
    "\n",
    "RFC_f1 = RFC.best_score_\n",
    "print('\\n F1 на RandomForestClassifier:', RFC_f1)"
   ]
  },
  {
   "cell_type": "markdown",
   "metadata": {},
   "source": [
    "### CatBoostClassifier"
   ]
  },
  {
   "cell_type": "code",
   "execution_count": 12,
   "metadata": {},
   "outputs": [
    {
     "name": "stdout",
     "output_type": "stream",
     "text": [
      "Learning rate set to 0.375567\n",
      "0:\tlearn: 0.3922086\ttotal: 7.1s\tremaining: 23m 33s\n",
      "100:\tlearn: 0.1265953\ttotal: 3m 39s\tremaining: 3m 34s\n",
      "199:\tlearn: 0.1105785\ttotal: 7m 13s\tremaining: 0us\n",
      "Learning rate set to 0.31586\n",
      "0:\tlearn: 0.4334845\ttotal: 1.77s\tremaining: 5m 53s\n",
      "100:\tlearn: 0.1299119\ttotal: 2m 48s\tremaining: 2m 45s\n",
      "199:\tlearn: 0.1111492\ttotal: 5m 33s\tremaining: 0us\n",
      "Learning rate set to 0.315861\n",
      "0:\tlearn: 0.4363359\ttotal: 1.93s\tremaining: 6m 24s\n",
      "100:\tlearn: 0.1308510\ttotal: 2m 52s\tremaining: 2m 48s\n",
      "199:\tlearn: 0.1108237\ttotal: 5m 37s\tremaining: 0us\n",
      "Learning rate set to 0.315861\n",
      "0:\tlearn: 0.4346358\ttotal: 1.96s\tremaining: 6m 30s\n",
      "100:\tlearn: 0.1292453\ttotal: 2m 50s\tremaining: 2m 46s\n",
      "199:\tlearn: 0.1104642\ttotal: 5m 34s\tremaining: 0us\n",
      "F1 на CatBoostClassifier: 0.7452909418116377\n"
     ]
    }
   ],
   "source": [
    "classificator = CatBoostClassifier(verbose=100, iterations=200)\n",
    "\n",
    "pipe_cbc = make_pipeline (count_tf_idf, classificator)\n",
    "\n",
    "pipe_cbc.fit(features_train, target_train)\n",
    "target_predict = pipe_cbc.predict(features_test)\n",
    "CBC_f1 = cross_val_score(pipe_cbc,\n",
    "                      features_train, \n",
    "                      target_train, \n",
    "                      cv=3, \n",
    "                      scoring='f1').max()\n",
    "\n",
    "\n",
    "print('F1 на CatBoostClassifier:', CBC_f1)"
   ]
  },
  {
   "cell_type": "markdown",
   "metadata": {},
   "source": [
    "### Вывод"
   ]
  },
  {
   "cell_type": "code",
   "execution_count": 13,
   "metadata": {},
   "outputs": [
    {
     "data": {
      "text/html": [
       "<div>\n",
       "<style scoped>\n",
       "    .dataframe tbody tr th:only-of-type {\n",
       "        vertical-align: middle;\n",
       "    }\n",
       "\n",
       "    .dataframe tbody tr th {\n",
       "        vertical-align: top;\n",
       "    }\n",
       "\n",
       "    .dataframe thead th {\n",
       "        text-align: right;\n",
       "    }\n",
       "</style>\n",
       "<table border=\"1\" class=\"dataframe\">\n",
       "  <thead>\n",
       "    <tr style=\"text-align: right;\">\n",
       "      <th></th>\n",
       "      <th>CatBoostClassifier</th>\n",
       "      <th>RandomForestClassifier</th>\n",
       "      <th>LogisticRegression</th>\n",
       "    </tr>\n",
       "  </thead>\n",
       "  <tbody>\n",
       "    <tr>\n",
       "      <th>Результат F1</th>\n",
       "      <td>0.745291</td>\n",
       "      <td>0.686908</td>\n",
       "      <td>0.756097</td>\n",
       "    </tr>\n",
       "  </tbody>\n",
       "</table>\n",
       "</div>"
      ],
      "text/plain": [
       "              CatBoostClassifier  RandomForestClassifier  LogisticRegression\n",
       "Результат F1            0.745291                0.686908            0.756097"
      ]
     },
     "execution_count": 13,
     "metadata": {},
     "output_type": "execute_result"
    }
   ],
   "source": [
    "# выводим результаты\n",
    "comparison_tabl = pd.DataFrame(index=['Результат F1'], columns=['CatBoostClassifier','RandomForestClassifier', 'LogisticRegression'])\n",
    "comparison_tabl['CatBoostClassifier'] =  CBC_f1\n",
    "comparison_tabl['RandomForestClassifier'] =  RFC_f1\n",
    "comparison_tabl['LogisticRegression'] =  LR_f1\n",
    "comparison_tabl"
   ]
  },
  {
   "cell_type": "markdown",
   "metadata": {},
   "source": [
    "LogisticRegression единственная модель которая прошла порог F1 в 0,75. Проверем ее на тесте."
   ]
  },
  {
   "cell_type": "markdown",
   "metadata": {},
   "source": [
    "## Тестирование"
   ]
  },
  {
   "cell_type": "code",
   "execution_count": 14,
   "metadata": {},
   "outputs": [
    {
     "name": "stdout",
     "output_type": "stream",
     "text": [
      "F1 при обучении 0.7560969842733214\n",
      "F1 на тесте 0.7500742942050521\n"
     ]
    }
   ],
   "source": [
    "predict_LR = LR.predict(features_test)\n",
    "test_f1 = f1_score(target_test, predict_LR)\n",
    "print('F1 при обучении', LR_f1)\n",
    "print('F1 на тесте', test_f1)"
   ]
  },
  {
   "cell_type": "markdown",
   "metadata": {},
   "source": [
    "Тест успешно пройден."
   ]
  },
  {
   "cell_type": "markdown",
   "metadata": {},
   "source": [
    "## Общий вывод"
   ]
  },
  {
   "cell_type": "markdown",
   "metadata": {},
   "source": [
    "В ходе работы были выполнены следующие этапы \n",
    "- Преподготовка данных для обучения.\n",
    "- Обучены 3 модели, *CatBoostClassifier*, *RandomForestClassifier*, *LogisticRegression* и получены их результаты.\n",
    "- Проведено успешное тестирование лучшей модели *LogisticRegression*. \n",
    "\n",
    "В итоге, обучена модель способная классифицировать комментарии на позитивные и негативные. Значением метрики модели качества F1 выше 0.75."
   ]
  }
 ],
 "metadata": {
  "ExecuteTimeLog": [
   {
    "duration": 1665,
    "start_time": "2023-03-21T14:02:26.561Z"
   },
   {
    "duration": 229,
    "start_time": "2023-03-21T14:02:28.229Z"
   },
   {
    "duration": 0,
    "start_time": "2023-03-21T14:02:28.461Z"
   },
   {
    "duration": 2,
    "start_time": "2023-03-21T14:02:28.462Z"
   },
   {
    "duration": 0,
    "start_time": "2023-03-21T14:02:28.466Z"
   },
   {
    "duration": 0,
    "start_time": "2023-03-21T14:02:28.468Z"
   },
   {
    "duration": 0,
    "start_time": "2023-03-21T14:02:28.469Z"
   },
   {
    "duration": 0,
    "start_time": "2023-03-21T14:02:28.470Z"
   },
   {
    "duration": 0,
    "start_time": "2023-03-21T14:02:28.471Z"
   },
   {
    "duration": 0,
    "start_time": "2023-03-21T14:02:28.472Z"
   },
   {
    "duration": 0,
    "start_time": "2023-03-21T14:02:28.473Z"
   },
   {
    "duration": 0,
    "start_time": "2023-03-21T14:02:28.474Z"
   },
   {
    "duration": 0,
    "start_time": "2023-03-21T14:02:28.477Z"
   },
   {
    "duration": 0,
    "start_time": "2023-03-21T14:02:28.478Z"
   },
   {
    "duration": 1673,
    "start_time": "2023-03-21T14:02:49.162Z"
   },
   {
    "duration": 4966,
    "start_time": "2023-03-21T14:02:50.837Z"
   },
   {
    "duration": 362,
    "start_time": "2023-03-21T14:02:55.805Z"
   },
   {
    "duration": 27,
    "start_time": "2023-03-21T14:02:56.173Z"
   },
   {
    "duration": 794,
    "start_time": "2023-03-21T14:02:56.203Z"
   },
   {
    "duration": 5,
    "start_time": "2023-03-21T14:02:57.003Z"
   },
   {
    "duration": 8635,
    "start_time": "2023-03-21T14:02:57.011Z"
   },
   {
    "duration": 62,
    "start_time": "2023-03-21T14:03:05.647Z"
   },
   {
    "duration": 13448,
    "start_time": "2023-03-21T14:03:05.711Z"
   },
   {
    "duration": 1508,
    "start_time": "2023-03-21T14:59:02.530Z"
   },
   {
    "duration": 997,
    "start_time": "2023-03-21T14:59:04.041Z"
   },
   {
    "duration": 364,
    "start_time": "2023-03-21T14:59:05.040Z"
   },
   {
    "duration": 21,
    "start_time": "2023-03-21T14:59:05.407Z"
   },
   {
    "duration": 466,
    "start_time": "2023-03-21T14:59:05.431Z"
   },
   {
    "duration": 4,
    "start_time": "2023-03-21T14:59:05.900Z"
   },
   {
    "duration": 7928,
    "start_time": "2023-03-21T14:59:05.906Z"
   },
   {
    "duration": 52,
    "start_time": "2023-03-21T14:59:13.836Z"
   },
   {
    "duration": 13144,
    "start_time": "2023-03-21T14:59:13.889Z"
   },
   {
    "duration": 1585,
    "start_time": "2023-03-21T15:34:30.897Z"
   },
   {
    "duration": 1068,
    "start_time": "2023-03-21T15:34:32.487Z"
   },
   {
    "duration": 321,
    "start_time": "2023-03-21T15:34:33.557Z"
   },
   {
    "duration": 42,
    "start_time": "2023-03-21T15:34:33.881Z"
   },
   {
    "duration": 644,
    "start_time": "2023-03-21T15:34:33.926Z"
   },
   {
    "duration": 3,
    "start_time": "2023-03-21T15:34:34.572Z"
   },
   {
    "duration": 8207,
    "start_time": "2023-03-21T15:34:34.577Z"
   },
   {
    "duration": 40,
    "start_time": "2023-03-21T15:34:42.786Z"
   },
   {
    "duration": 14129,
    "start_time": "2023-03-21T15:34:42.828Z"
   },
   {
    "duration": 1382,
    "start_time": "2023-03-21T15:53:32.820Z"
   },
   {
    "duration": 930,
    "start_time": "2023-03-21T15:53:34.204Z"
   },
   {
    "duration": 338,
    "start_time": "2023-03-21T15:53:35.136Z"
   },
   {
    "duration": 17,
    "start_time": "2023-03-21T15:53:35.477Z"
   },
   {
    "duration": 483,
    "start_time": "2023-03-21T15:53:35.496Z"
   },
   {
    "duration": 4,
    "start_time": "2023-03-21T15:53:35.981Z"
   },
   {
    "duration": 7296,
    "start_time": "2023-03-21T15:53:35.987Z"
   },
   {
    "duration": 36,
    "start_time": "2023-03-21T15:53:43.285Z"
   },
   {
    "duration": 12423,
    "start_time": "2023-03-21T15:53:43.323Z"
   },
   {
    "duration": 1475,
    "start_time": "2023-03-21T15:54:55.214Z"
   },
   {
    "duration": 899,
    "start_time": "2023-03-21T15:54:56.691Z"
   },
   {
    "duration": 299,
    "start_time": "2023-03-21T15:54:57.593Z"
   },
   {
    "duration": 17,
    "start_time": "2023-03-21T15:54:57.894Z"
   },
   {
    "duration": 529,
    "start_time": "2023-03-21T15:54:57.913Z"
   },
   {
    "duration": 4,
    "start_time": "2023-03-21T15:54:58.444Z"
   },
   {
    "duration": 7903,
    "start_time": "2023-03-21T15:54:58.450Z"
   },
   {
    "duration": 53,
    "start_time": "2023-03-21T15:55:06.354Z"
   },
   {
    "duration": 13449,
    "start_time": "2023-03-21T15:55:06.409Z"
   },
   {
    "duration": 1693,
    "start_time": "2023-03-21T17:18:44.611Z"
   },
   {
    "duration": 1072,
    "start_time": "2023-03-21T17:18:46.306Z"
   },
   {
    "duration": 342,
    "start_time": "2023-03-21T17:18:47.386Z"
   },
   {
    "duration": 23,
    "start_time": "2023-03-21T17:18:47.730Z"
   },
   {
    "duration": 619,
    "start_time": "2023-03-21T17:18:47.762Z"
   },
   {
    "duration": 5,
    "start_time": "2023-03-21T17:18:48.384Z"
   },
   {
    "duration": 9735,
    "start_time": "2023-03-21T17:18:48.391Z"
   },
   {
    "duration": 62,
    "start_time": "2023-03-21T17:18:58.129Z"
   },
   {
    "duration": 15216,
    "start_time": "2023-03-21T17:18:58.192Z"
   },
   {
    "duration": 1456,
    "start_time": "2023-03-21T18:09:18.588Z"
   },
   {
    "duration": 902,
    "start_time": "2023-03-21T18:09:20.046Z"
   },
   {
    "duration": 346,
    "start_time": "2023-03-21T18:09:20.951Z"
   },
   {
    "duration": 16,
    "start_time": "2023-03-21T18:09:21.300Z"
   },
   {
    "duration": 484,
    "start_time": "2023-03-21T18:09:21.318Z"
   },
   {
    "duration": 4,
    "start_time": "2023-03-21T18:09:21.804Z"
   },
   {
    "duration": 7632,
    "start_time": "2023-03-21T18:09:21.810Z"
   },
   {
    "duration": 60,
    "start_time": "2023-03-21T18:09:29.444Z"
   },
   {
    "duration": 12819,
    "start_time": "2023-03-21T18:09:29.506Z"
   },
   {
    "duration": 169528,
    "start_time": "2023-03-21T18:09:48.750Z"
   },
   {
    "duration": 567162,
    "start_time": "2023-03-21T18:13:14.984Z"
   },
   {
    "duration": 158,
    "start_time": "2023-03-21T18:23:55.806Z"
   },
   {
    "duration": 3200,
    "start_time": "2023-03-22T13:09:14.233Z"
   },
   {
    "duration": 7025,
    "start_time": "2023-03-22T13:09:17.436Z"
   },
   {
    "duration": 367,
    "start_time": "2023-03-22T13:09:24.467Z"
   },
   {
    "duration": 28,
    "start_time": "2023-03-22T13:09:24.842Z"
   },
   {
    "duration": 632,
    "start_time": "2023-03-22T13:09:24.878Z"
   },
   {
    "duration": 14,
    "start_time": "2023-03-22T13:09:25.512Z"
   },
   {
    "duration": 11576,
    "start_time": "2023-03-22T13:09:25.528Z"
   },
   {
    "duration": 70,
    "start_time": "2023-03-22T13:09:37.106Z"
   },
   {
    "duration": 1360,
    "start_time": "2023-03-22T13:47:34.768Z"
   },
   {
    "duration": 3921,
    "start_time": "2023-03-22T13:47:36.130Z"
   },
   {
    "duration": 277,
    "start_time": "2023-03-22T13:47:40.052Z"
   },
   {
    "duration": 12,
    "start_time": "2023-03-22T13:47:40.331Z"
   },
   {
    "duration": 947,
    "start_time": "2023-03-22T13:47:40.345Z"
   },
   {
    "duration": 398,
    "start_time": "2023-03-22T13:47:59.152Z"
   },
   {
    "duration": 48,
    "start_time": "2023-03-22T14:03:42.424Z"
   },
   {
    "duration": 1306,
    "start_time": "2023-03-22T14:03:48.827Z"
   },
   {
    "duration": 1579,
    "start_time": "2023-03-22T14:03:50.135Z"
   },
   {
    "duration": 267,
    "start_time": "2023-03-22T14:03:51.715Z"
   },
   {
    "duration": 9,
    "start_time": "2023-03-22T14:03:51.983Z"
   },
   {
    "duration": 694,
    "start_time": "2023-03-22T14:03:51.994Z"
   },
   {
    "duration": 115,
    "start_time": "2023-03-22T14:04:17.051Z"
   },
   {
    "duration": 1964,
    "start_time": "2023-03-23T00:27:56.608Z"
   },
   {
    "duration": 3741,
    "start_time": "2023-03-23T00:27:58.575Z"
   },
   {
    "duration": 291,
    "start_time": "2023-03-23T00:28:02.317Z"
   },
   {
    "duration": 10,
    "start_time": "2023-03-23T00:28:02.609Z"
   },
   {
    "duration": 177,
    "start_time": "2023-03-23T00:28:02.622Z"
   },
   {
    "duration": 157,
    "start_time": "2023-03-23T00:28:17.329Z"
   },
   {
    "duration": 152,
    "start_time": "2023-03-23T00:28:24.779Z"
   },
   {
    "duration": 145,
    "start_time": "2023-03-23T00:28:35.990Z"
   },
   {
    "duration": 149,
    "start_time": "2023-03-23T00:28:40.519Z"
   },
   {
    "duration": 152,
    "start_time": "2023-03-23T00:28:51.500Z"
   },
   {
    "duration": 148,
    "start_time": "2023-03-23T00:28:56.977Z"
   },
   {
    "duration": 161,
    "start_time": "2023-03-23T00:29:00.839Z"
   },
   {
    "duration": 150,
    "start_time": "2023-03-23T00:29:05.225Z"
   },
   {
    "duration": 1507,
    "start_time": "2023-03-23T00:50:19.525Z"
   },
   {
    "duration": 816,
    "start_time": "2023-03-23T00:50:21.034Z"
   },
   {
    "duration": 273,
    "start_time": "2023-03-23T00:50:21.851Z"
   },
   {
    "duration": 14,
    "start_time": "2023-03-23T00:50:22.126Z"
   },
   {
    "duration": 170,
    "start_time": "2023-03-23T00:50:22.142Z"
   },
   {
    "duration": 5,
    "start_time": "2023-03-23T00:50:22.313Z"
   },
   {
    "duration": 368,
    "start_time": "2023-03-23T00:50:22.319Z"
   },
   {
    "duration": 0,
    "start_time": "2023-03-23T00:50:22.689Z"
   },
   {
    "duration": 0,
    "start_time": "2023-03-23T00:50:22.690Z"
   },
   {
    "duration": 1579,
    "start_time": "2023-03-23T00:52:11.909Z"
   },
   {
    "duration": 849,
    "start_time": "2023-03-23T00:52:13.489Z"
   },
   {
    "duration": 282,
    "start_time": "2023-03-23T00:52:14.339Z"
   },
   {
    "duration": 8,
    "start_time": "2023-03-23T00:52:14.622Z"
   },
   {
    "duration": 158,
    "start_time": "2023-03-23T00:52:14.639Z"
   },
   {
    "duration": 590,
    "start_time": "2023-03-23T00:52:14.798Z"
   },
   {
    "duration": 336,
    "start_time": "2023-03-23T00:52:22.783Z"
   },
   {
    "duration": 1521,
    "start_time": "2023-03-23T00:53:56.611Z"
   },
   {
    "duration": 803,
    "start_time": "2023-03-23T00:53:58.134Z"
   },
   {
    "duration": 270,
    "start_time": "2023-03-23T00:53:58.938Z"
   },
   {
    "duration": 8,
    "start_time": "2023-03-23T00:53:59.210Z"
   },
   {
    "duration": 162,
    "start_time": "2023-03-23T00:53:59.220Z"
   },
   {
    "duration": 611,
    "start_time": "2023-03-23T00:53:59.384Z"
   },
   {
    "duration": 122168,
    "start_time": "2023-03-23T00:53:59.997Z"
   },
   {
    "duration": 0,
    "start_time": "2023-03-23T00:56:02.166Z"
   },
   {
    "duration": 0,
    "start_time": "2023-03-23T00:56:02.167Z"
   },
   {
    "duration": 1522,
    "start_time": "2023-03-23T00:58:46.926Z"
   },
   {
    "duration": 1858,
    "start_time": "2023-03-23T00:58:48.450Z"
   },
   {
    "duration": 0,
    "start_time": "2023-03-23T00:58:50.310Z"
   },
   {
    "duration": 0,
    "start_time": "2023-03-23T00:58:50.312Z"
   },
   {
    "duration": 0,
    "start_time": "2023-03-23T00:58:50.312Z"
   },
   {
    "duration": 0,
    "start_time": "2023-03-23T00:58:50.313Z"
   },
   {
    "duration": 0,
    "start_time": "2023-03-23T00:58:50.314Z"
   },
   {
    "duration": 0,
    "start_time": "2023-03-23T00:58:50.315Z"
   },
   {
    "duration": 0,
    "start_time": "2023-03-23T00:58:50.316Z"
   },
   {
    "duration": 0,
    "start_time": "2023-03-23T00:58:50.317Z"
   },
   {
    "duration": 0,
    "start_time": "2023-03-23T00:58:50.318Z"
   },
   {
    "duration": 0,
    "start_time": "2023-03-23T00:58:50.318Z"
   },
   {
    "duration": 0,
    "start_time": "2023-03-23T00:58:50.319Z"
   },
   {
    "duration": 0,
    "start_time": "2023-03-23T00:58:50.320Z"
   },
   {
    "duration": 1528,
    "start_time": "2023-03-23T00:59:23.202Z"
   },
   {
    "duration": 795,
    "start_time": "2023-03-23T00:59:24.732Z"
   },
   {
    "duration": 265,
    "start_time": "2023-03-23T00:59:25.528Z"
   },
   {
    "duration": 8,
    "start_time": "2023-03-23T00:59:25.795Z"
   },
   {
    "duration": 157,
    "start_time": "2023-03-23T00:59:25.805Z"
   },
   {
    "duration": 144,
    "start_time": "2023-03-23T00:59:25.963Z"
   },
   {
    "duration": 484148,
    "start_time": "2023-03-23T00:59:26.108Z"
   },
   {
    "duration": 23,
    "start_time": "2023-03-23T01:07:30.257Z"
   },
   {
    "duration": 6008,
    "start_time": "2023-03-23T01:07:30.282Z"
   },
   {
    "duration": 26657,
    "start_time": "2023-03-23T01:07:36.293Z"
   },
   {
    "duration": 150484,
    "start_time": "2023-03-23T01:08:02.951Z"
   },
   {
    "duration": 445527,
    "start_time": "2023-03-23T01:10:33.440Z"
   },
   {
    "duration": 9,
    "start_time": "2023-03-23T01:17:58.969Z"
   },
   {
    "duration": 9281,
    "start_time": "2023-03-23T01:17:58.980Z"
   },
   {
    "duration": 117018,
    "start_time": "2023-03-23T01:20:02.378Z"
   },
   {
    "duration": 150425,
    "start_time": "2023-03-23T01:21:59.398Z"
   },
   {
    "duration": 1381778,
    "start_time": "2023-03-23T01:24:29.824Z"
   },
   {
    "duration": 9,
    "start_time": "2023-03-23T01:47:31.604Z"
   },
   {
    "duration": 8551,
    "start_time": "2023-03-23T01:47:31.614Z"
   },
   {
    "duration": 1530,
    "start_time": "2023-03-23T02:08:26.923Z"
   },
   {
    "duration": 797,
    "start_time": "2023-03-23T02:08:28.455Z"
   },
   {
    "duration": 281,
    "start_time": "2023-03-23T02:08:29.254Z"
   },
   {
    "duration": 10,
    "start_time": "2023-03-23T02:08:29.541Z"
   },
   {
    "duration": 167,
    "start_time": "2023-03-23T02:08:29.553Z"
   },
   {
    "duration": 157,
    "start_time": "2023-03-23T02:08:29.722Z"
   },
   {
    "duration": 489175,
    "start_time": "2023-03-23T02:08:29.881Z"
   },
   {
    "duration": 24,
    "start_time": "2023-03-23T02:16:39.058Z"
   },
   {
    "duration": 6013,
    "start_time": "2023-03-23T02:16:39.084Z"
   },
   {
    "duration": 132655,
    "start_time": "2023-03-23T02:16:45.099Z"
   },
   {
    "duration": 174751,
    "start_time": "2023-03-23T02:18:57.756Z"
   },
   {
    "duration": 1534515,
    "start_time": "2023-03-23T02:21:52.508Z"
   },
   {
    "duration": 16,
    "start_time": "2023-03-23T02:47:27.024Z"
   },
   {
    "duration": 10439,
    "start_time": "2023-03-23T02:47:27.041Z"
   },
   {
    "duration": 2144,
    "start_time": "2023-03-23T20:39:30.295Z"
   },
   {
    "duration": 1433,
    "start_time": "2023-03-23T20:39:32.441Z"
   },
   {
    "duration": 304,
    "start_time": "2023-03-23T20:39:33.876Z"
   },
   {
    "duration": 16,
    "start_time": "2023-03-23T20:39:34.182Z"
   },
   {
    "duration": 231,
    "start_time": "2023-03-23T20:39:34.200Z"
   },
   {
    "duration": 1135,
    "start_time": "2023-03-23T20:39:34.433Z"
   },
   {
    "duration": 1534,
    "start_time": "2023-03-23T20:39:35.570Z"
   },
   {
    "duration": 0,
    "start_time": "2023-03-23T20:39:37.106Z"
   },
   {
    "duration": 1,
    "start_time": "2023-03-23T20:39:37.107Z"
   },
   {
    "duration": 6,
    "start_time": "2023-03-23T20:39:42.394Z"
   },
   {
    "duration": 851,
    "start_time": "2023-03-23T20:39:42.401Z"
   },
   {
    "duration": 311,
    "start_time": "2023-03-23T20:39:43.254Z"
   },
   {
    "duration": 17,
    "start_time": "2023-03-23T20:39:43.569Z"
   },
   {
    "duration": 283,
    "start_time": "2023-03-23T20:39:43.589Z"
   },
   {
    "duration": 12,
    "start_time": "2023-03-23T20:39:43.874Z"
   },
   {
    "duration": 1995,
    "start_time": "2023-03-23T20:40:34.665Z"
   },
   {
    "duration": 889,
    "start_time": "2023-03-23T20:40:36.663Z"
   },
   {
    "duration": 325,
    "start_time": "2023-03-23T20:40:37.553Z"
   },
   {
    "duration": 16,
    "start_time": "2023-03-23T20:40:37.880Z"
   },
   {
    "duration": 214,
    "start_time": "2023-03-23T20:40:37.898Z"
   },
   {
    "duration": 265,
    "start_time": "2023-03-23T20:40:38.114Z"
   },
   {
    "duration": 607873,
    "start_time": "2023-03-23T20:40:38.381Z"
   },
   {
    "duration": 37,
    "start_time": "2023-03-23T20:50:46.255Z"
   },
   {
    "duration": 7231,
    "start_time": "2023-03-23T20:50:46.294Z"
   },
   {
    "duration": 664,
    "start_time": "2023-03-23T20:50:53.527Z"
   },
   {
    "duration": 5,
    "start_time": "2023-03-23T20:52:16.132Z"
   },
   {
    "duration": 18,
    "start_time": "2023-03-23T21:02:20.202Z"
   },
   {
    "duration": 23,
    "start_time": "2023-03-23T21:02:39.206Z"
   },
   {
    "duration": 1855,
    "start_time": "2023-03-23T21:02:57.410Z"
   },
   {
    "duration": 841,
    "start_time": "2023-03-23T21:02:59.268Z"
   },
   {
    "duration": 310,
    "start_time": "2023-03-23T21:03:00.111Z"
   },
   {
    "duration": 26,
    "start_time": "2023-03-23T21:03:00.424Z"
   },
   {
    "duration": 247,
    "start_time": "2023-03-23T21:03:00.453Z"
   },
   {
    "duration": 217,
    "start_time": "2023-03-23T21:03:00.702Z"
   },
   {
    "duration": 614238,
    "start_time": "2023-03-23T21:03:00.921Z"
   },
   {
    "duration": 44,
    "start_time": "2023-03-23T21:13:15.163Z"
   },
   {
    "duration": 7708,
    "start_time": "2023-03-23T21:13:15.209Z"
   },
   {
    "duration": 0,
    "start_time": "2023-03-23T21:13:22.918Z"
   },
   {
    "duration": 0,
    "start_time": "2023-03-23T21:13:22.919Z"
   },
   {
    "duration": 6,
    "start_time": "2023-03-23T21:21:38.710Z"
   },
   {
    "duration": 53,
    "start_time": "2023-03-23T21:21:51.060Z"
   },
   {
    "duration": 1956,
    "start_time": "2023-03-23T21:21:59.791Z"
   },
   {
    "duration": 852,
    "start_time": "2023-03-23T21:22:01.754Z"
   },
   {
    "duration": 308,
    "start_time": "2023-03-23T21:22:02.608Z"
   },
   {
    "duration": 23,
    "start_time": "2023-03-23T21:22:02.919Z"
   },
   {
    "duration": 248,
    "start_time": "2023-03-23T21:22:02.951Z"
   },
   {
    "duration": 213,
    "start_time": "2023-03-23T21:22:03.202Z"
   },
   {
    "duration": 645554,
    "start_time": "2023-03-23T21:22:03.417Z"
   },
   {
    "duration": 39,
    "start_time": "2023-03-23T21:32:48.974Z"
   },
   {
    "duration": 8150,
    "start_time": "2023-03-23T21:32:49.014Z"
   },
   {
    "duration": 15,
    "start_time": "2023-03-23T21:34:41.247Z"
   },
   {
    "duration": 12,
    "start_time": "2023-03-23T21:35:38.796Z"
   },
   {
    "duration": 6365,
    "start_time": "2023-03-23T21:38:26.505Z"
   },
   {
    "duration": 83587,
    "start_time": "2023-03-23T21:38:37.327Z"
   },
   {
    "duration": 87,
    "start_time": "2023-03-23T21:40:58.397Z"
   },
   {
    "duration": 7,
    "start_time": "2023-03-23T21:41:07.479Z"
   },
   {
    "duration": 15,
    "start_time": "2023-03-23T21:42:06.140Z"
   },
   {
    "duration": 32233,
    "start_time": "2023-03-23T21:42:28.487Z"
   },
   {
    "duration": 16,
    "start_time": "2023-03-23T21:43:06.489Z"
   },
   {
    "duration": 406115,
    "start_time": "2023-03-23T21:44:19.157Z"
   },
   {
    "duration": 20611,
    "start_time": "2023-03-23T21:52:09.270Z"
   },
   {
    "duration": 1792192,
    "start_time": "2023-03-23T21:52:42.637Z"
   },
   {
    "duration": 1742,
    "start_time": "2023-03-23T22:24:04.038Z"
   },
   {
    "duration": 875,
    "start_time": "2023-03-23T22:24:05.783Z"
   },
   {
    "duration": 338,
    "start_time": "2023-03-23T22:24:06.659Z"
   },
   {
    "duration": 19,
    "start_time": "2023-03-23T22:24:06.999Z"
   },
   {
    "duration": 247,
    "start_time": "2023-03-23T22:24:07.022Z"
   },
   {
    "duration": 138,
    "start_time": "2023-03-23T22:24:07.271Z"
   },
   {
    "duration": 597125,
    "start_time": "2023-03-23T22:24:07.411Z"
   },
   {
    "duration": 51,
    "start_time": "2023-03-23T22:34:04.537Z"
   },
   {
    "duration": 7610,
    "start_time": "2023-03-23T22:34:04.590Z"
   },
   {
    "duration": 1833,
    "start_time": "2023-03-23T22:45:20.499Z"
   },
   {
    "duration": 835,
    "start_time": "2023-03-23T22:45:22.334Z"
   },
   {
    "duration": 325,
    "start_time": "2023-03-23T22:45:23.171Z"
   },
   {
    "duration": 16,
    "start_time": "2023-03-23T22:45:23.498Z"
   },
   {
    "duration": 234,
    "start_time": "2023-03-23T22:45:23.517Z"
   },
   {
    "duration": 174,
    "start_time": "2023-03-23T22:45:23.757Z"
   },
   {
    "duration": 634164,
    "start_time": "2023-03-23T22:45:23.933Z"
   },
   {
    "duration": 57,
    "start_time": "2023-03-23T22:55:58.099Z"
   },
   {
    "duration": 8014,
    "start_time": "2023-03-23T22:55:58.158Z"
   },
   {
    "duration": 161,
    "start_time": "2023-03-23T22:58:21.427Z"
   },
   {
    "duration": 39,
    "start_time": "2023-03-23T22:58:46.394Z"
   },
   {
    "duration": 553601,
    "start_time": "2023-03-23T22:59:11.179Z"
   },
   {
    "duration": 1883573,
    "start_time": "2023-03-23T23:08:35.913Z"
   },
   {
    "duration": 554572,
    "start_time": "2023-03-23T23:40:27.502Z"
   },
   {
    "duration": 1794896,
    "start_time": "2023-03-23T23:51:22.978Z"
   },
   {
    "duration": 15,
    "start_time": "2023-03-24T00:21:26.632Z"
   },
   {
    "duration": 768,
    "start_time": "2023-03-24T00:21:34.240Z"
   },
   {
    "duration": 732,
    "start_time": "2023-03-24T00:22:28.850Z"
   },
   {
    "duration": 1876,
    "start_time": "2023-03-24T01:54:07.573Z"
   },
   {
    "duration": 842,
    "start_time": "2023-03-24T01:54:09.451Z"
   },
   {
    "duration": 313,
    "start_time": "2023-03-24T01:54:10.295Z"
   },
   {
    "duration": 18,
    "start_time": "2023-03-24T01:54:10.610Z"
   },
   {
    "duration": 219,
    "start_time": "2023-03-24T01:54:10.640Z"
   },
   {
    "duration": 215,
    "start_time": "2023-03-24T01:54:10.861Z"
   },
   {
    "duration": 602733,
    "start_time": "2023-03-24T01:54:11.078Z"
   },
   {
    "duration": 64,
    "start_time": "2023-03-24T02:04:13.813Z"
   },
   {
    "duration": 7678,
    "start_time": "2023-03-24T02:04:13.879Z"
   },
   {
    "duration": 685,
    "start_time": "2023-03-24T02:04:21.562Z"
   },
   {
    "duration": 0,
    "start_time": "2023-03-24T02:04:22.249Z"
   },
   {
    "duration": 0,
    "start_time": "2023-03-24T02:04:22.250Z"
   },
   {
    "duration": 0,
    "start_time": "2023-03-24T02:04:22.253Z"
   },
   {
    "duration": 0,
    "start_time": "2023-03-24T02:04:22.254Z"
   },
   {
    "duration": 1833,
    "start_time": "2023-03-24T02:09:58.020Z"
   },
   {
    "duration": 884,
    "start_time": "2023-03-24T02:09:59.855Z"
   },
   {
    "duration": 338,
    "start_time": "2023-03-24T02:10:00.743Z"
   },
   {
    "duration": 18,
    "start_time": "2023-03-24T02:10:01.082Z"
   },
   {
    "duration": 261,
    "start_time": "2023-03-24T02:10:01.103Z"
   },
   {
    "duration": 151,
    "start_time": "2023-03-24T02:10:01.365Z"
   },
   {
    "duration": 1958,
    "start_time": "2023-03-24T02:13:04.040Z"
   },
   {
    "duration": 1029,
    "start_time": "2023-03-24T02:13:06.001Z"
   },
   {
    "duration": 339,
    "start_time": "2023-03-24T02:13:07.032Z"
   },
   {
    "duration": 16,
    "start_time": "2023-03-24T02:13:07.374Z"
   },
   {
    "duration": 225,
    "start_time": "2023-03-24T02:13:07.393Z"
   },
   {
    "duration": 245,
    "start_time": "2023-03-24T02:13:07.620Z"
   },
   {
    "duration": 872691,
    "start_time": "2023-03-24T02:13:07.867Z"
   },
   {
    "duration": 67,
    "start_time": "2023-03-24T02:27:40.560Z"
   },
   {
    "duration": 10448,
    "start_time": "2023-03-24T02:27:40.629Z"
   },
   {
    "duration": 0,
    "start_time": "2023-03-24T02:27:51.083Z"
   },
   {
    "duration": 0,
    "start_time": "2023-03-24T02:27:51.088Z"
   },
   {
    "duration": 0,
    "start_time": "2023-03-24T02:27:51.093Z"
   },
   {
    "duration": 0,
    "start_time": "2023-03-24T02:27:51.098Z"
   },
   {
    "duration": 0,
    "start_time": "2023-03-24T02:27:51.103Z"
   },
   {
    "duration": 15091,
    "start_time": "2023-03-24T03:03:01.374Z"
   },
   {
    "duration": 608062,
    "start_time": "2023-03-24T03:03:27.604Z"
   },
   {
    "duration": 62,
    "start_time": "2023-03-24T03:13:35.670Z"
   },
   {
    "duration": 0,
    "start_time": "2023-03-24T03:13:35.738Z"
   },
   {
    "duration": 0,
    "start_time": "2023-03-24T03:13:35.740Z"
   },
   {
    "duration": 0,
    "start_time": "2023-03-24T03:13:35.742Z"
   },
   {
    "duration": 2101299,
    "start_time": "2023-03-24T03:29:36.319Z"
   },
   {
    "duration": 2007076,
    "start_time": "2023-03-24T04:04:37.620Z"
   },
   {
    "duration": 13,
    "start_time": "2023-03-24T04:38:04.698Z"
   },
   {
    "duration": 898,
    "start_time": "2023-03-24T04:38:04.712Z"
   },
   {
    "duration": 798,
    "start_time": "2023-03-24T04:44:29.019Z"
   },
   {
    "duration": 2471,
    "start_time": "2023-03-24T18:07:58.830Z"
   },
   {
    "duration": 856,
    "start_time": "2023-03-24T18:08:01.303Z"
   },
   {
    "duration": 287,
    "start_time": "2023-03-24T18:08:02.160Z"
   },
   {
    "duration": 14,
    "start_time": "2023-03-24T18:08:02.449Z"
   },
   {
    "duration": 212,
    "start_time": "2023-03-24T18:08:02.465Z"
   },
   {
    "duration": 687,
    "start_time": "2023-03-24T18:08:02.679Z"
   },
   {
    "duration": 556071,
    "start_time": "2023-03-24T18:08:03.367Z"
   },
   {
    "duration": 49,
    "start_time": "2023-03-24T18:17:19.440Z"
   },
   {
    "duration": 12474,
    "start_time": "2023-03-24T18:17:19.491Z"
   },
   {
    "duration": 472691,
    "start_time": "2023-03-24T18:17:31.968Z"
   }
  ],
  "kernelspec": {
   "display_name": "Python 3 (ipykernel)",
   "language": "python",
   "name": "python3"
  },
  "language_info": {
   "codemirror_mode": {
    "name": "ipython",
    "version": 3
   },
   "file_extension": ".py",
   "mimetype": "text/x-python",
   "name": "python",
   "nbconvert_exporter": "python",
   "pygments_lexer": "ipython3",
   "version": "3.9.13"
  },
  "toc": {
   "base_numbering": 1,
   "nav_menu": {},
   "number_sections": false,
   "sideBar": true,
   "skip_h1_title": true,
   "title_cell": "Содержание",
   "title_sidebar": "Contents",
   "toc_cell": true,
   "toc_position": {
    "height": "calc(100% - 180px)",
    "left": "10px",
    "top": "150px",
    "width": "302.391px"
   },
   "toc_section_display": true,
   "toc_window_display": false
  }
 },
 "nbformat": 4,
 "nbformat_minor": 2
}
