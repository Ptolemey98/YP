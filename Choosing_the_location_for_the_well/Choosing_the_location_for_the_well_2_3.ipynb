{
 "cells": [
  {
   "cell_type": "markdown",
   "metadata": {},
   "source": [
    "# Выбор локации для скважины"
   ]
  },
  {
   "cell_type": "markdown",
   "metadata": {},
   "source": [
    "## Описание проекта\n",
    "Допустим, вы работаете в добывающей компании «ГлавРосГосНефть». Нужно решить, где бурить новую скважину.\n",
    "\n",
    "Шаги для выбора локации:\n",
    "\n",
    "- В избранном регионе ищут месторождения, для каждого определяют значения признаков;\n",
    "- Строят модель и оценивают объём запасов;\n",
    "- Выбирают месторождения с самым высокими оценками значений. Количество месторождений зависит от бюджета компании и стоимости разработки одной скважины;\n",
    "- Прибыль равна суммарной прибыли отобранных месторождений.\n",
    "\n",
    "Вам предоставлены пробы нефти в трёх регионах: в каждом 10 000 месторождений, где измерили качество нефти и объём её запасов. Постройте модель машинного обучения, которая поможет определить регион, где добыча принесёт наибольшую прибыль. \n",
    "\n",
    "---\n",
    "\n",
    "<h2>Содержание</h2>\n",
    "\n",
    "<div class=\"toc\">\n",
    "  <ul>\n",
    "    <li><a href=\"#Загрузка-и-подготовка-данных\">Загрузка и подготовка данных</a></li>\n",
    "    <li><a href=\"#Обучение-и-проверка-модели\">Обучение и проверка модели</a></li>\n",
    "    <li><a href=\"#Подготовка-к-расчёту-прибыли\">Подготовка к расчёту прибыли</a></li>\n",
    "    <li><a href=\"#Расчёт-прибыли-и-рисков\">Расчёт прибыли и рисков</a></li>\n",
    "    <li><a href=\"#Общий-вывод\">Общий вывод</a></li>\n",
    "  </ul>\n",
    "</div>\n",
    "\n",
    "<style>\n",
    "  .toc ul {\n",
    "    font-size: 14px;\n",
    "  }\n",
    "</style>\n",
    "\n",
    "---\n",
    "\n",
    "### Цели и задачи\n",
    "\n",
    "**Цель** - Построить модель для определения региона, где добыча принесёт наибольшую прибыль.\n",
    "\n",
    "**Задачи**:\n",
    "    \n",
    "    1. Загрузить и подготовить данные.  \n",
    "    \n",
    "    2. Обучить и проверить модель для каждого региона.\n",
    "        2.1 Разбить данные на обучающую и валидационную выборки в соотношении 75:25.\n",
    "        2.2 Обучить модель и сделать предсказания на валидационной выборке.\n",
    "        2.3 Сохранить предсказания и правильные ответы на валидационной выборке.\n",
    "        2.4 Напечатать средний запас предсказанного сырья и RMSE модели.\n",
    "        2.5 Проанализировать результаты.\n",
    "        \n",
    "    3. Подготовить данные к расчёту прибыли.\n",
    "        3.1 Все ключевые значения для расчётов сохранить в отдельных переменных.\n",
    "        3.2 Рассчитать достаточный объём сырья для безубыточной разработки новой скважины. Сравнить полученный объём сырья со средним запасом в каждом регионе. \n",
    "        3.3 Написать выводы по этапу подготовки расчёта прибыли.\n",
    "        \n",
    "    4. Написать функцию для расчёта прибыли по выбранным скважинам и предсказаниям модели.\n",
    "        4.1 Выбрать скважины с максимальными значениями предсказаний.\n",
    "        4.2 Просуммировать целевое значение объёма сырья, соответствующее этим предсказаниям.\n",
    "        4.3 Рассчитайть прибыль для полученного объёма сырья.\n",
    "        \n",
    "    5. Посчитать риски и прибыль для каждого региона.\n",
    "        5.1 Применить технику Bootstrap с 1000 выборок, чтобы найти распределение прибыли.\n",
    "        5.2 Найти среднюю прибыль, 95%-й доверительный интервал и риск убытков.\n",
    "\n",
    "    6. Сделать выводы по итогам работы и предложить регион для разработки скважин.    \n",
    "    \n",
    "---\n",
    "    \n",
    "### Описание данных\n",
    "\n",
    "- `id` — уникальный идентификатор скважины.\n",
    "- `f0`, `f1`, `f2` — три признака точек.\n",
    "- `product` — объём запасов в скважине (тыс. баррелей).\n",
    "\n",
    "---"
   ]
  },
  {
   "cell_type": "markdown",
   "metadata": {},
   "source": [
    "## Загрузка и подготовка данных"
   ]
  },
  {
   "cell_type": "code",
   "execution_count": 1,
   "metadata": {},
   "outputs": [],
   "source": [
    "import pandas as pd \n",
    "import matplotlib.pyplot as plt\n",
    "import seaborn as sns\n",
    "import numpy as np\n",
    "\n",
    "from sklearn.model_selection import train_test_split\n",
    "from sklearn.model_selection import cross_val_score\n",
    "from sklearn.linear_model import LinearRegression\n",
    "from sklearn.metrics import mean_squared_error\n",
    "from sklearn.utils import shuffle\n",
    "from sklearn.preprocessing import StandardScaler"
   ]
  },
  {
   "cell_type": "code",
   "execution_count": 2,
   "metadata": {},
   "outputs": [],
   "source": [
    "# Константы\n",
    "TOTAL_BUDGET = 10**10 # Бюджет на разработку скважин в регионе\n",
    "EXP_WELL = 500 # количество исследуемых скважин\n",
    "WELL = 200 # количество реализуемых скважин\n",
    "INCOME = 450 * 10**3 # доход с каждой единицы сырья"
   ]
  },
  {
   "cell_type": "code",
   "execution_count": 3,
   "metadata": {},
   "outputs": [],
   "source": [
    "df1 = pd.read_csv(\"/datasets/geo_data_0.csv\")\n",
    "df2 = pd.read_csv(\"/datasets/geo_data_1.csv\")\n",
    "df3 = pd.read_csv(\"/datasets/geo_data_2.csv\")"
   ]
  },
  {
   "cell_type": "code",
   "execution_count": 4,
   "metadata": {},
   "outputs": [],
   "source": [
    "def data_view (data):\n",
    "    data.info()\n",
    "    display(data.head())\n",
    "    print('Число дубликатов:', data.duplicated().sum())\n",
    "    print('Пропуски:\\n', data.isnull().sum())\n",
    "    display(data.describe())\n",
    "    print(\"Корреляция:\")\n",
    "    display(data.corr().style.background_gradient(axis=0))  "
   ]
  },
  {
   "cell_type": "code",
   "execution_count": 5,
   "metadata": {},
   "outputs": [
    {
     "name": "stdout",
     "output_type": "stream",
     "text": [
      "<class 'pandas.core.frame.DataFrame'>\n",
      "RangeIndex: 100000 entries, 0 to 99999\n",
      "Data columns (total 5 columns):\n",
      " #   Column   Non-Null Count   Dtype  \n",
      "---  ------   --------------   -----  \n",
      " 0   id       100000 non-null  object \n",
      " 1   f0       100000 non-null  float64\n",
      " 2   f1       100000 non-null  float64\n",
      " 3   f2       100000 non-null  float64\n",
      " 4   product  100000 non-null  float64\n",
      "dtypes: float64(4), object(1)\n",
      "memory usage: 3.8+ MB\n"
     ]
    },
    {
     "data": {
      "text/html": [
       "<div>\n",
       "<style scoped>\n",
       "    .dataframe tbody tr th:only-of-type {\n",
       "        vertical-align: middle;\n",
       "    }\n",
       "\n",
       "    .dataframe tbody tr th {\n",
       "        vertical-align: top;\n",
       "    }\n",
       "\n",
       "    .dataframe thead th {\n",
       "        text-align: right;\n",
       "    }\n",
       "</style>\n",
       "<table border=\"1\" class=\"dataframe\">\n",
       "  <thead>\n",
       "    <tr style=\"text-align: right;\">\n",
       "      <th></th>\n",
       "      <th>id</th>\n",
       "      <th>f0</th>\n",
       "      <th>f1</th>\n",
       "      <th>f2</th>\n",
       "      <th>product</th>\n",
       "    </tr>\n",
       "  </thead>\n",
       "  <tbody>\n",
       "    <tr>\n",
       "      <th>0</th>\n",
       "      <td>txEyH</td>\n",
       "      <td>0.705745</td>\n",
       "      <td>-0.497823</td>\n",
       "      <td>1.221170</td>\n",
       "      <td>105.280062</td>\n",
       "    </tr>\n",
       "    <tr>\n",
       "      <th>1</th>\n",
       "      <td>2acmU</td>\n",
       "      <td>1.334711</td>\n",
       "      <td>-0.340164</td>\n",
       "      <td>4.365080</td>\n",
       "      <td>73.037750</td>\n",
       "    </tr>\n",
       "    <tr>\n",
       "      <th>2</th>\n",
       "      <td>409Wp</td>\n",
       "      <td>1.022732</td>\n",
       "      <td>0.151990</td>\n",
       "      <td>1.419926</td>\n",
       "      <td>85.265647</td>\n",
       "    </tr>\n",
       "    <tr>\n",
       "      <th>3</th>\n",
       "      <td>iJLyR</td>\n",
       "      <td>-0.032172</td>\n",
       "      <td>0.139033</td>\n",
       "      <td>2.978566</td>\n",
       "      <td>168.620776</td>\n",
       "    </tr>\n",
       "    <tr>\n",
       "      <th>4</th>\n",
       "      <td>Xdl7t</td>\n",
       "      <td>1.988431</td>\n",
       "      <td>0.155413</td>\n",
       "      <td>4.751769</td>\n",
       "      <td>154.036647</td>\n",
       "    </tr>\n",
       "  </tbody>\n",
       "</table>\n",
       "</div>"
      ],
      "text/plain": [
       "      id        f0        f1        f2     product\n",
       "0  txEyH  0.705745 -0.497823  1.221170  105.280062\n",
       "1  2acmU  1.334711 -0.340164  4.365080   73.037750\n",
       "2  409Wp  1.022732  0.151990  1.419926   85.265647\n",
       "3  iJLyR -0.032172  0.139033  2.978566  168.620776\n",
       "4  Xdl7t  1.988431  0.155413  4.751769  154.036647"
      ]
     },
     "metadata": {},
     "output_type": "display_data"
    },
    {
     "name": "stdout",
     "output_type": "stream",
     "text": [
      "Число дубликатов: 0\n",
      "Пропуски:\n",
      " id         0\n",
      "f0         0\n",
      "f1         0\n",
      "f2         0\n",
      "product    0\n",
      "dtype: int64\n"
     ]
    },
    {
     "data": {
      "text/html": [
       "<div>\n",
       "<style scoped>\n",
       "    .dataframe tbody tr th:only-of-type {\n",
       "        vertical-align: middle;\n",
       "    }\n",
       "\n",
       "    .dataframe tbody tr th {\n",
       "        vertical-align: top;\n",
       "    }\n",
       "\n",
       "    .dataframe thead th {\n",
       "        text-align: right;\n",
       "    }\n",
       "</style>\n",
       "<table border=\"1\" class=\"dataframe\">\n",
       "  <thead>\n",
       "    <tr style=\"text-align: right;\">\n",
       "      <th></th>\n",
       "      <th>f0</th>\n",
       "      <th>f1</th>\n",
       "      <th>f2</th>\n",
       "      <th>product</th>\n",
       "    </tr>\n",
       "  </thead>\n",
       "  <tbody>\n",
       "    <tr>\n",
       "      <th>count</th>\n",
       "      <td>100000.000000</td>\n",
       "      <td>100000.000000</td>\n",
       "      <td>100000.000000</td>\n",
       "      <td>100000.000000</td>\n",
       "    </tr>\n",
       "    <tr>\n",
       "      <th>mean</th>\n",
       "      <td>0.500419</td>\n",
       "      <td>0.250143</td>\n",
       "      <td>2.502647</td>\n",
       "      <td>92.500000</td>\n",
       "    </tr>\n",
       "    <tr>\n",
       "      <th>std</th>\n",
       "      <td>0.871832</td>\n",
       "      <td>0.504433</td>\n",
       "      <td>3.248248</td>\n",
       "      <td>44.288691</td>\n",
       "    </tr>\n",
       "    <tr>\n",
       "      <th>min</th>\n",
       "      <td>-1.408605</td>\n",
       "      <td>-0.848218</td>\n",
       "      <td>-12.088328</td>\n",
       "      <td>0.000000</td>\n",
       "    </tr>\n",
       "    <tr>\n",
       "      <th>25%</th>\n",
       "      <td>-0.072580</td>\n",
       "      <td>-0.200881</td>\n",
       "      <td>0.287748</td>\n",
       "      <td>56.497507</td>\n",
       "    </tr>\n",
       "    <tr>\n",
       "      <th>50%</th>\n",
       "      <td>0.502360</td>\n",
       "      <td>0.250252</td>\n",
       "      <td>2.515969</td>\n",
       "      <td>91.849972</td>\n",
       "    </tr>\n",
       "    <tr>\n",
       "      <th>75%</th>\n",
       "      <td>1.073581</td>\n",
       "      <td>0.700646</td>\n",
       "      <td>4.715088</td>\n",
       "      <td>128.564089</td>\n",
       "    </tr>\n",
       "    <tr>\n",
       "      <th>max</th>\n",
       "      <td>2.362331</td>\n",
       "      <td>1.343769</td>\n",
       "      <td>16.003790</td>\n",
       "      <td>185.364347</td>\n",
       "    </tr>\n",
       "  </tbody>\n",
       "</table>\n",
       "</div>"
      ],
      "text/plain": [
       "                  f0             f1             f2        product\n",
       "count  100000.000000  100000.000000  100000.000000  100000.000000\n",
       "mean        0.500419       0.250143       2.502647      92.500000\n",
       "std         0.871832       0.504433       3.248248      44.288691\n",
       "min        -1.408605      -0.848218     -12.088328       0.000000\n",
       "25%        -0.072580      -0.200881       0.287748      56.497507\n",
       "50%         0.502360       0.250252       2.515969      91.849972\n",
       "75%         1.073581       0.700646       4.715088     128.564089\n",
       "max         2.362331       1.343769      16.003790     185.364347"
      ]
     },
     "metadata": {},
     "output_type": "display_data"
    },
    {
     "name": "stdout",
     "output_type": "stream",
     "text": [
      "Корреляция:\n"
     ]
    },
    {
     "data": {
      "text/html": [
       "<style  type=\"text/css\" >\n",
       "#T_d02d0_row0_col0,#T_d02d0_row1_col1,#T_d02d0_row2_col2,#T_d02d0_row3_col3{\n",
       "            background-color:  #023858;\n",
       "            color:  #f1f1f1;\n",
       "        }#T_d02d0_row0_col1,#T_d02d0_row0_col2,#T_d02d0_row1_col0,#T_d02d0_row1_col3{\n",
       "            background-color:  #fff7fb;\n",
       "            color:  #000000;\n",
       "        }#T_d02d0_row0_col3{\n",
       "            background-color:  #c5cce3;\n",
       "            color:  #000000;\n",
       "        }#T_d02d0_row1_col2{\n",
       "            background-color:  #fef6fb;\n",
       "            color:  #000000;\n",
       "        }#T_d02d0_row2_col0{\n",
       "            background-color:  #bfc9e1;\n",
       "            color:  #000000;\n",
       "        }#T_d02d0_row2_col1{\n",
       "            background-color:  #bdc8e1;\n",
       "            color:  #000000;\n",
       "        }#T_d02d0_row2_col3{\n",
       "            background-color:  #529bc7;\n",
       "            color:  #000000;\n",
       "        }#T_d02d0_row3_col0{\n",
       "            background-color:  #9ab8d8;\n",
       "            color:  #000000;\n",
       "        }#T_d02d0_row3_col1{\n",
       "            background-color:  #e1dfed;\n",
       "            color:  #000000;\n",
       "        }#T_d02d0_row3_col2{\n",
       "            background-color:  #79abd0;\n",
       "            color:  #000000;\n",
       "        }</style><table id=\"T_d02d0_\" ><thead>    <tr>        <th class=\"blank level0\" ></th>        <th class=\"col_heading level0 col0\" >f0</th>        <th class=\"col_heading level0 col1\" >f1</th>        <th class=\"col_heading level0 col2\" >f2</th>        <th class=\"col_heading level0 col3\" >product</th>    </tr></thead><tbody>\n",
       "                <tr>\n",
       "                        <th id=\"T_d02d0_level0_row0\" class=\"row_heading level0 row0\" >f0</th>\n",
       "                        <td id=\"T_d02d0_row0_col0\" class=\"data row0 col0\" >1.000000</td>\n",
       "                        <td id=\"T_d02d0_row0_col1\" class=\"data row0 col1\" >-0.440723</td>\n",
       "                        <td id=\"T_d02d0_row0_col2\" class=\"data row0 col2\" >-0.003153</td>\n",
       "                        <td id=\"T_d02d0_row0_col3\" class=\"data row0 col3\" >0.143536</td>\n",
       "            </tr>\n",
       "            <tr>\n",
       "                        <th id=\"T_d02d0_level0_row1\" class=\"row_heading level0 row1\" >f1</th>\n",
       "                        <td id=\"T_d02d0_row1_col0\" class=\"data row1 col0\" >-0.440723</td>\n",
       "                        <td id=\"T_d02d0_row1_col1\" class=\"data row1 col1\" >1.000000</td>\n",
       "                        <td id=\"T_d02d0_row1_col2\" class=\"data row1 col2\" >0.001724</td>\n",
       "                        <td id=\"T_d02d0_row1_col3\" class=\"data row1 col3\" >-0.192356</td>\n",
       "            </tr>\n",
       "            <tr>\n",
       "                        <th id=\"T_d02d0_level0_row2\" class=\"row_heading level0 row2\" >f2</th>\n",
       "                        <td id=\"T_d02d0_row2_col0\" class=\"data row2 col0\" >-0.003153</td>\n",
       "                        <td id=\"T_d02d0_row2_col1\" class=\"data row2 col1\" >0.001724</td>\n",
       "                        <td id=\"T_d02d0_row2_col2\" class=\"data row2 col2\" >1.000000</td>\n",
       "                        <td id=\"T_d02d0_row2_col3\" class=\"data row2 col3\" >0.483663</td>\n",
       "            </tr>\n",
       "            <tr>\n",
       "                        <th id=\"T_d02d0_level0_row3\" class=\"row_heading level0 row3\" >product</th>\n",
       "                        <td id=\"T_d02d0_row3_col0\" class=\"data row3 col0\" >0.143536</td>\n",
       "                        <td id=\"T_d02d0_row3_col1\" class=\"data row3 col1\" >-0.192356</td>\n",
       "                        <td id=\"T_d02d0_row3_col2\" class=\"data row3 col2\" >0.483663</td>\n",
       "                        <td id=\"T_d02d0_row3_col3\" class=\"data row3 col3\" >1.000000</td>\n",
       "            </tr>\n",
       "    </tbody></table>"
      ],
      "text/plain": [
       "<pandas.io.formats.style.Styler at 0x7f5894c56a90>"
      ]
     },
     "metadata": {},
     "output_type": "display_data"
    }
   ],
   "source": [
    "# 1 регион\n",
    "data_view (df1)"
   ]
  },
  {
   "cell_type": "code",
   "execution_count": 6,
   "metadata": {},
   "outputs": [
    {
     "name": "stdout",
     "output_type": "stream",
     "text": [
      "<class 'pandas.core.frame.DataFrame'>\n",
      "RangeIndex: 100000 entries, 0 to 99999\n",
      "Data columns (total 5 columns):\n",
      " #   Column   Non-Null Count   Dtype  \n",
      "---  ------   --------------   -----  \n",
      " 0   id       100000 non-null  object \n",
      " 1   f0       100000 non-null  float64\n",
      " 2   f1       100000 non-null  float64\n",
      " 3   f2       100000 non-null  float64\n",
      " 4   product  100000 non-null  float64\n",
      "dtypes: float64(4), object(1)\n",
      "memory usage: 3.8+ MB\n"
     ]
    },
    {
     "data": {
      "text/html": [
       "<div>\n",
       "<style scoped>\n",
       "    .dataframe tbody tr th:only-of-type {\n",
       "        vertical-align: middle;\n",
       "    }\n",
       "\n",
       "    .dataframe tbody tr th {\n",
       "        vertical-align: top;\n",
       "    }\n",
       "\n",
       "    .dataframe thead th {\n",
       "        text-align: right;\n",
       "    }\n",
       "</style>\n",
       "<table border=\"1\" class=\"dataframe\">\n",
       "  <thead>\n",
       "    <tr style=\"text-align: right;\">\n",
       "      <th></th>\n",
       "      <th>id</th>\n",
       "      <th>f0</th>\n",
       "      <th>f1</th>\n",
       "      <th>f2</th>\n",
       "      <th>product</th>\n",
       "    </tr>\n",
       "  </thead>\n",
       "  <tbody>\n",
       "    <tr>\n",
       "      <th>0</th>\n",
       "      <td>kBEdx</td>\n",
       "      <td>-15.001348</td>\n",
       "      <td>-8.276000</td>\n",
       "      <td>-0.005876</td>\n",
       "      <td>3.179103</td>\n",
       "    </tr>\n",
       "    <tr>\n",
       "      <th>1</th>\n",
       "      <td>62mP7</td>\n",
       "      <td>14.272088</td>\n",
       "      <td>-3.475083</td>\n",
       "      <td>0.999183</td>\n",
       "      <td>26.953261</td>\n",
       "    </tr>\n",
       "    <tr>\n",
       "      <th>2</th>\n",
       "      <td>vyE1P</td>\n",
       "      <td>6.263187</td>\n",
       "      <td>-5.948386</td>\n",
       "      <td>5.001160</td>\n",
       "      <td>134.766305</td>\n",
       "    </tr>\n",
       "    <tr>\n",
       "      <th>3</th>\n",
       "      <td>KcrkZ</td>\n",
       "      <td>-13.081196</td>\n",
       "      <td>-11.506057</td>\n",
       "      <td>4.999415</td>\n",
       "      <td>137.945408</td>\n",
       "    </tr>\n",
       "    <tr>\n",
       "      <th>4</th>\n",
       "      <td>AHL4O</td>\n",
       "      <td>12.702195</td>\n",
       "      <td>-8.147433</td>\n",
       "      <td>5.004363</td>\n",
       "      <td>134.766305</td>\n",
       "    </tr>\n",
       "  </tbody>\n",
       "</table>\n",
       "</div>"
      ],
      "text/plain": [
       "      id         f0         f1        f2     product\n",
       "0  kBEdx -15.001348  -8.276000 -0.005876    3.179103\n",
       "1  62mP7  14.272088  -3.475083  0.999183   26.953261\n",
       "2  vyE1P   6.263187  -5.948386  5.001160  134.766305\n",
       "3  KcrkZ -13.081196 -11.506057  4.999415  137.945408\n",
       "4  AHL4O  12.702195  -8.147433  5.004363  134.766305"
      ]
     },
     "metadata": {},
     "output_type": "display_data"
    },
    {
     "name": "stdout",
     "output_type": "stream",
     "text": [
      "Число дубликатов: 0\n",
      "Пропуски:\n",
      " id         0\n",
      "f0         0\n",
      "f1         0\n",
      "f2         0\n",
      "product    0\n",
      "dtype: int64\n"
     ]
    },
    {
     "data": {
      "text/html": [
       "<div>\n",
       "<style scoped>\n",
       "    .dataframe tbody tr th:only-of-type {\n",
       "        vertical-align: middle;\n",
       "    }\n",
       "\n",
       "    .dataframe tbody tr th {\n",
       "        vertical-align: top;\n",
       "    }\n",
       "\n",
       "    .dataframe thead th {\n",
       "        text-align: right;\n",
       "    }\n",
       "</style>\n",
       "<table border=\"1\" class=\"dataframe\">\n",
       "  <thead>\n",
       "    <tr style=\"text-align: right;\">\n",
       "      <th></th>\n",
       "      <th>f0</th>\n",
       "      <th>f1</th>\n",
       "      <th>f2</th>\n",
       "      <th>product</th>\n",
       "    </tr>\n",
       "  </thead>\n",
       "  <tbody>\n",
       "    <tr>\n",
       "      <th>count</th>\n",
       "      <td>100000.000000</td>\n",
       "      <td>100000.000000</td>\n",
       "      <td>100000.000000</td>\n",
       "      <td>100000.000000</td>\n",
       "    </tr>\n",
       "    <tr>\n",
       "      <th>mean</th>\n",
       "      <td>1.141296</td>\n",
       "      <td>-4.796579</td>\n",
       "      <td>2.494541</td>\n",
       "      <td>68.825000</td>\n",
       "    </tr>\n",
       "    <tr>\n",
       "      <th>std</th>\n",
       "      <td>8.965932</td>\n",
       "      <td>5.119872</td>\n",
       "      <td>1.703572</td>\n",
       "      <td>45.944423</td>\n",
       "    </tr>\n",
       "    <tr>\n",
       "      <th>min</th>\n",
       "      <td>-31.609576</td>\n",
       "      <td>-26.358598</td>\n",
       "      <td>-0.018144</td>\n",
       "      <td>0.000000</td>\n",
       "    </tr>\n",
       "    <tr>\n",
       "      <th>25%</th>\n",
       "      <td>-6.298551</td>\n",
       "      <td>-8.267985</td>\n",
       "      <td>1.000021</td>\n",
       "      <td>26.953261</td>\n",
       "    </tr>\n",
       "    <tr>\n",
       "      <th>50%</th>\n",
       "      <td>1.153055</td>\n",
       "      <td>-4.813172</td>\n",
       "      <td>2.011479</td>\n",
       "      <td>57.085625</td>\n",
       "    </tr>\n",
       "    <tr>\n",
       "      <th>75%</th>\n",
       "      <td>8.621015</td>\n",
       "      <td>-1.332816</td>\n",
       "      <td>3.999904</td>\n",
       "      <td>107.813044</td>\n",
       "    </tr>\n",
       "    <tr>\n",
       "      <th>max</th>\n",
       "      <td>29.421755</td>\n",
       "      <td>18.734063</td>\n",
       "      <td>5.019721</td>\n",
       "      <td>137.945408</td>\n",
       "    </tr>\n",
       "  </tbody>\n",
       "</table>\n",
       "</div>"
      ],
      "text/plain": [
       "                  f0             f1             f2        product\n",
       "count  100000.000000  100000.000000  100000.000000  100000.000000\n",
       "mean        1.141296      -4.796579       2.494541      68.825000\n",
       "std         8.965932       5.119872       1.703572      45.944423\n",
       "min       -31.609576     -26.358598      -0.018144       0.000000\n",
       "25%        -6.298551      -8.267985       1.000021      26.953261\n",
       "50%         1.153055      -4.813172       2.011479      57.085625\n",
       "75%         8.621015      -1.332816       3.999904     107.813044\n",
       "max        29.421755      18.734063       5.019721     137.945408"
      ]
     },
     "metadata": {},
     "output_type": "display_data"
    },
    {
     "name": "stdout",
     "output_type": "stream",
     "text": [
      "Корреляция:\n"
     ]
    },
    {
     "data": {
      "text/html": [
       "<style  type=\"text/css\" >\n",
       "#T_61730_row0_col0,#T_61730_row1_col1,#T_61730_row2_col2,#T_61730_row2_col3,#T_61730_row3_col2,#T_61730_row3_col3{\n",
       "            background-color:  #023858;\n",
       "            color:  #f1f1f1;\n",
       "        }#T_61730_row0_col1{\n",
       "            background-color:  #dedcec;\n",
       "            color:  #000000;\n",
       "        }#T_61730_row0_col2,#T_61730_row0_col3,#T_61730_row1_col2,#T_61730_row3_col0,#T_61730_row3_col1{\n",
       "            background-color:  #fff7fb;\n",
       "            color:  #000000;\n",
       "        }#T_61730_row1_col0{\n",
       "            background-color:  #dad9ea;\n",
       "            color:  #000000;\n",
       "        }#T_61730_row1_col3{\n",
       "            background-color:  #fcf4fa;\n",
       "            color:  #000000;\n",
       "        }#T_61730_row2_col0{\n",
       "            background-color:  #fbf3f9;\n",
       "            color:  #000000;\n",
       "        }#T_61730_row2_col1{\n",
       "            background-color:  #fef6fb;\n",
       "            color:  #000000;\n",
       "        }</style><table id=\"T_61730_\" ><thead>    <tr>        <th class=\"blank level0\" ></th>        <th class=\"col_heading level0 col0\" >f0</th>        <th class=\"col_heading level0 col1\" >f1</th>        <th class=\"col_heading level0 col2\" >f2</th>        <th class=\"col_heading level0 col3\" >product</th>    </tr></thead><tbody>\n",
       "                <tr>\n",
       "                        <th id=\"T_61730_level0_row0\" class=\"row_heading level0 row0\" >f0</th>\n",
       "                        <td id=\"T_61730_row0_col0\" class=\"data row0 col0\" >1.000000</td>\n",
       "                        <td id=\"T_61730_row0_col1\" class=\"data row0 col1\" >0.182287</td>\n",
       "                        <td id=\"T_61730_row0_col2\" class=\"data row0 col2\" >-0.001777</td>\n",
       "                        <td id=\"T_61730_row0_col3\" class=\"data row0 col3\" >-0.030491</td>\n",
       "            </tr>\n",
       "            <tr>\n",
       "                        <th id=\"T_61730_level0_row1\" class=\"row_heading level0 row1\" >f1</th>\n",
       "                        <td id=\"T_61730_row1_col0\" class=\"data row1 col0\" >0.182287</td>\n",
       "                        <td id=\"T_61730_row1_col1\" class=\"data row1 col1\" >1.000000</td>\n",
       "                        <td id=\"T_61730_row1_col2\" class=\"data row1 col2\" >-0.002595</td>\n",
       "                        <td id=\"T_61730_row1_col3\" class=\"data row1 col3\" >-0.010155</td>\n",
       "            </tr>\n",
       "            <tr>\n",
       "                        <th id=\"T_61730_level0_row2\" class=\"row_heading level0 row2\" >f2</th>\n",
       "                        <td id=\"T_61730_row2_col0\" class=\"data row2 col0\" >-0.001777</td>\n",
       "                        <td id=\"T_61730_row2_col1\" class=\"data row2 col1\" >-0.002595</td>\n",
       "                        <td id=\"T_61730_row2_col2\" class=\"data row2 col2\" >1.000000</td>\n",
       "                        <td id=\"T_61730_row2_col3\" class=\"data row2 col3\" >0.999397</td>\n",
       "            </tr>\n",
       "            <tr>\n",
       "                        <th id=\"T_61730_level0_row3\" class=\"row_heading level0 row3\" >product</th>\n",
       "                        <td id=\"T_61730_row3_col0\" class=\"data row3 col0\" >-0.030491</td>\n",
       "                        <td id=\"T_61730_row3_col1\" class=\"data row3 col1\" >-0.010155</td>\n",
       "                        <td id=\"T_61730_row3_col2\" class=\"data row3 col2\" >0.999397</td>\n",
       "                        <td id=\"T_61730_row3_col3\" class=\"data row3 col3\" >1.000000</td>\n",
       "            </tr>\n",
       "    </tbody></table>"
      ],
      "text/plain": [
       "<pandas.io.formats.style.Styler at 0x7f591b851520>"
      ]
     },
     "metadata": {},
     "output_type": "display_data"
    }
   ],
   "source": [
    "# 2 регион\n",
    "data_view (df2)"
   ]
  },
  {
   "cell_type": "code",
   "execution_count": 7,
   "metadata": {},
   "outputs": [
    {
     "name": "stdout",
     "output_type": "stream",
     "text": [
      "<class 'pandas.core.frame.DataFrame'>\n",
      "RangeIndex: 100000 entries, 0 to 99999\n",
      "Data columns (total 5 columns):\n",
      " #   Column   Non-Null Count   Dtype  \n",
      "---  ------   --------------   -----  \n",
      " 0   id       100000 non-null  object \n",
      " 1   f0       100000 non-null  float64\n",
      " 2   f1       100000 non-null  float64\n",
      " 3   f2       100000 non-null  float64\n",
      " 4   product  100000 non-null  float64\n",
      "dtypes: float64(4), object(1)\n",
      "memory usage: 3.8+ MB\n"
     ]
    },
    {
     "data": {
      "text/html": [
       "<div>\n",
       "<style scoped>\n",
       "    .dataframe tbody tr th:only-of-type {\n",
       "        vertical-align: middle;\n",
       "    }\n",
       "\n",
       "    .dataframe tbody tr th {\n",
       "        vertical-align: top;\n",
       "    }\n",
       "\n",
       "    .dataframe thead th {\n",
       "        text-align: right;\n",
       "    }\n",
       "</style>\n",
       "<table border=\"1\" class=\"dataframe\">\n",
       "  <thead>\n",
       "    <tr style=\"text-align: right;\">\n",
       "      <th></th>\n",
       "      <th>id</th>\n",
       "      <th>f0</th>\n",
       "      <th>f1</th>\n",
       "      <th>f2</th>\n",
       "      <th>product</th>\n",
       "    </tr>\n",
       "  </thead>\n",
       "  <tbody>\n",
       "    <tr>\n",
       "      <th>0</th>\n",
       "      <td>fwXo0</td>\n",
       "      <td>-1.146987</td>\n",
       "      <td>0.963328</td>\n",
       "      <td>-0.828965</td>\n",
       "      <td>27.758673</td>\n",
       "    </tr>\n",
       "    <tr>\n",
       "      <th>1</th>\n",
       "      <td>WJtFt</td>\n",
       "      <td>0.262778</td>\n",
       "      <td>0.269839</td>\n",
       "      <td>-2.530187</td>\n",
       "      <td>56.069697</td>\n",
       "    </tr>\n",
       "    <tr>\n",
       "      <th>2</th>\n",
       "      <td>ovLUW</td>\n",
       "      <td>0.194587</td>\n",
       "      <td>0.289035</td>\n",
       "      <td>-5.586433</td>\n",
       "      <td>62.871910</td>\n",
       "    </tr>\n",
       "    <tr>\n",
       "      <th>3</th>\n",
       "      <td>q6cA6</td>\n",
       "      <td>2.236060</td>\n",
       "      <td>-0.553760</td>\n",
       "      <td>0.930038</td>\n",
       "      <td>114.572842</td>\n",
       "    </tr>\n",
       "    <tr>\n",
       "      <th>4</th>\n",
       "      <td>WPMUX</td>\n",
       "      <td>-0.515993</td>\n",
       "      <td>1.716266</td>\n",
       "      <td>5.899011</td>\n",
       "      <td>149.600746</td>\n",
       "    </tr>\n",
       "  </tbody>\n",
       "</table>\n",
       "</div>"
      ],
      "text/plain": [
       "      id        f0        f1        f2     product\n",
       "0  fwXo0 -1.146987  0.963328 -0.828965   27.758673\n",
       "1  WJtFt  0.262778  0.269839 -2.530187   56.069697\n",
       "2  ovLUW  0.194587  0.289035 -5.586433   62.871910\n",
       "3  q6cA6  2.236060 -0.553760  0.930038  114.572842\n",
       "4  WPMUX -0.515993  1.716266  5.899011  149.600746"
      ]
     },
     "metadata": {},
     "output_type": "display_data"
    },
    {
     "name": "stdout",
     "output_type": "stream",
     "text": [
      "Число дубликатов: 0\n",
      "Пропуски:\n",
      " id         0\n",
      "f0         0\n",
      "f1         0\n",
      "f2         0\n",
      "product    0\n",
      "dtype: int64\n"
     ]
    },
    {
     "data": {
      "text/html": [
       "<div>\n",
       "<style scoped>\n",
       "    .dataframe tbody tr th:only-of-type {\n",
       "        vertical-align: middle;\n",
       "    }\n",
       "\n",
       "    .dataframe tbody tr th {\n",
       "        vertical-align: top;\n",
       "    }\n",
       "\n",
       "    .dataframe thead th {\n",
       "        text-align: right;\n",
       "    }\n",
       "</style>\n",
       "<table border=\"1\" class=\"dataframe\">\n",
       "  <thead>\n",
       "    <tr style=\"text-align: right;\">\n",
       "      <th></th>\n",
       "      <th>f0</th>\n",
       "      <th>f1</th>\n",
       "      <th>f2</th>\n",
       "      <th>product</th>\n",
       "    </tr>\n",
       "  </thead>\n",
       "  <tbody>\n",
       "    <tr>\n",
       "      <th>count</th>\n",
       "      <td>100000.000000</td>\n",
       "      <td>100000.000000</td>\n",
       "      <td>100000.000000</td>\n",
       "      <td>100000.000000</td>\n",
       "    </tr>\n",
       "    <tr>\n",
       "      <th>mean</th>\n",
       "      <td>0.002023</td>\n",
       "      <td>-0.002081</td>\n",
       "      <td>2.495128</td>\n",
       "      <td>95.000000</td>\n",
       "    </tr>\n",
       "    <tr>\n",
       "      <th>std</th>\n",
       "      <td>1.732045</td>\n",
       "      <td>1.730417</td>\n",
       "      <td>3.473445</td>\n",
       "      <td>44.749921</td>\n",
       "    </tr>\n",
       "    <tr>\n",
       "      <th>min</th>\n",
       "      <td>-8.760004</td>\n",
       "      <td>-7.084020</td>\n",
       "      <td>-11.970335</td>\n",
       "      <td>0.000000</td>\n",
       "    </tr>\n",
       "    <tr>\n",
       "      <th>25%</th>\n",
       "      <td>-1.162288</td>\n",
       "      <td>-1.174820</td>\n",
       "      <td>0.130359</td>\n",
       "      <td>59.450441</td>\n",
       "    </tr>\n",
       "    <tr>\n",
       "      <th>50%</th>\n",
       "      <td>0.009424</td>\n",
       "      <td>-0.009482</td>\n",
       "      <td>2.484236</td>\n",
       "      <td>94.925613</td>\n",
       "    </tr>\n",
       "    <tr>\n",
       "      <th>75%</th>\n",
       "      <td>1.158535</td>\n",
       "      <td>1.163678</td>\n",
       "      <td>4.858794</td>\n",
       "      <td>130.595027</td>\n",
       "    </tr>\n",
       "    <tr>\n",
       "      <th>max</th>\n",
       "      <td>7.238262</td>\n",
       "      <td>7.844801</td>\n",
       "      <td>16.739402</td>\n",
       "      <td>190.029838</td>\n",
       "    </tr>\n",
       "  </tbody>\n",
       "</table>\n",
       "</div>"
      ],
      "text/plain": [
       "                  f0             f1             f2        product\n",
       "count  100000.000000  100000.000000  100000.000000  100000.000000\n",
       "mean        0.002023      -0.002081       2.495128      95.000000\n",
       "std         1.732045       1.730417       3.473445      44.749921\n",
       "min        -8.760004      -7.084020     -11.970335       0.000000\n",
       "25%        -1.162288      -1.174820       0.130359      59.450441\n",
       "50%         0.009424      -0.009482       2.484236      94.925613\n",
       "75%         1.158535       1.163678       4.858794     130.595027\n",
       "max         7.238262       7.844801      16.739402     190.029838"
      ]
     },
     "metadata": {},
     "output_type": "display_data"
    },
    {
     "name": "stdout",
     "output_type": "stream",
     "text": [
      "Корреляция:\n"
     ]
    },
    {
     "data": {
      "text/html": [
       "<style  type=\"text/css\" >\n",
       "#T_327ce_row0_col0,#T_327ce_row1_col1,#T_327ce_row2_col2,#T_327ce_row3_col3{\n",
       "            background-color:  #023858;\n",
       "            color:  #f1f1f1;\n",
       "        }#T_327ce_row0_col1,#T_327ce_row0_col2,#T_327ce_row0_col3,#T_327ce_row1_col0,#T_327ce_row1_col2,#T_327ce_row1_col3,#T_327ce_row2_col0,#T_327ce_row2_col1,#T_327ce_row3_col0,#T_327ce_row3_col1{\n",
       "            background-color:  #fff7fb;\n",
       "            color:  #000000;\n",
       "        }#T_327ce_row2_col3,#T_327ce_row3_col2{\n",
       "            background-color:  #89b1d4;\n",
       "            color:  #000000;\n",
       "        }</style><table id=\"T_327ce_\" ><thead>    <tr>        <th class=\"blank level0\" ></th>        <th class=\"col_heading level0 col0\" >f0</th>        <th class=\"col_heading level0 col1\" >f1</th>        <th class=\"col_heading level0 col2\" >f2</th>        <th class=\"col_heading level0 col3\" >product</th>    </tr></thead><tbody>\n",
       "                <tr>\n",
       "                        <th id=\"T_327ce_level0_row0\" class=\"row_heading level0 row0\" >f0</th>\n",
       "                        <td id=\"T_327ce_row0_col0\" class=\"data row0 col0\" >1.000000</td>\n",
       "                        <td id=\"T_327ce_row0_col1\" class=\"data row0 col1\" >0.000528</td>\n",
       "                        <td id=\"T_327ce_row0_col2\" class=\"data row0 col2\" >-0.000448</td>\n",
       "                        <td id=\"T_327ce_row0_col3\" class=\"data row0 col3\" >-0.001987</td>\n",
       "            </tr>\n",
       "            <tr>\n",
       "                        <th id=\"T_327ce_level0_row1\" class=\"row_heading level0 row1\" >f1</th>\n",
       "                        <td id=\"T_327ce_row1_col0\" class=\"data row1 col0\" >0.000528</td>\n",
       "                        <td id=\"T_327ce_row1_col1\" class=\"data row1 col1\" >1.000000</td>\n",
       "                        <td id=\"T_327ce_row1_col2\" class=\"data row1 col2\" >0.000779</td>\n",
       "                        <td id=\"T_327ce_row1_col3\" class=\"data row1 col3\" >-0.001012</td>\n",
       "            </tr>\n",
       "            <tr>\n",
       "                        <th id=\"T_327ce_level0_row2\" class=\"row_heading level0 row2\" >f2</th>\n",
       "                        <td id=\"T_327ce_row2_col0\" class=\"data row2 col0\" >-0.000448</td>\n",
       "                        <td id=\"T_327ce_row2_col1\" class=\"data row2 col1\" >0.000779</td>\n",
       "                        <td id=\"T_327ce_row2_col2\" class=\"data row2 col2\" >1.000000</td>\n",
       "                        <td id=\"T_327ce_row2_col3\" class=\"data row2 col3\" >0.445871</td>\n",
       "            </tr>\n",
       "            <tr>\n",
       "                        <th id=\"T_327ce_level0_row3\" class=\"row_heading level0 row3\" >product</th>\n",
       "                        <td id=\"T_327ce_row3_col0\" class=\"data row3 col0\" >-0.001987</td>\n",
       "                        <td id=\"T_327ce_row3_col1\" class=\"data row3 col1\" >-0.001012</td>\n",
       "                        <td id=\"T_327ce_row3_col2\" class=\"data row3 col2\" >0.445871</td>\n",
       "                        <td id=\"T_327ce_row3_col3\" class=\"data row3 col3\" >1.000000</td>\n",
       "            </tr>\n",
       "    </tbody></table>"
      ],
      "text/plain": [
       "<pandas.io.formats.style.Styler at 0x7f5893c94460>"
      ]
     },
     "metadata": {},
     "output_type": "display_data"
    }
   ],
   "source": [
    "# 3 регион\n",
    "data_view (df3)"
   ]
  },
  {
   "cell_type": "code",
   "execution_count": 8,
   "metadata": {},
   "outputs": [
    {
     "data": {
      "image/png": "[encoded data removed]",
      "text/plain": [
       "<Figure size 864x576 with 1 Axes>"
      ]
     },
     "metadata": {
      "needs_background": "light"
     },
     "output_type": "display_data"
    }
   ],
   "source": [
    "plt.rcParams['figure.figsize'] = (12, 8)\n",
    "plt.title('Графики распределения запасов сырья в регионах')\n",
    "df1['product'].plot(kind='hist', grid=True, legend=True, alpha=0.6, histtype='step', linewidth=5, label='1 регион')\n",
    "df2['product'].plot(kind='hist', grid=True, legend=True, alpha=0.6, histtype='step', linewidth=5, label='2 регион')\n",
    "df3['product'].plot(kind='hist', grid=True, legend=True, alpha=0.6, histtype='step', linewidth=5, label='3 регион')\n",
    "plt.xlabel('Запасы сырья, тыс.баррелей')\n",
    "plt.ylabel('Распределение данных по количеству скважен регионах')\n",
    "plt.show()"
   ]
  },
  {
   "cell_type": "markdown",
   "metadata": {},
   "source": [
    "### Вывод\n",
    "* Данные чистые, без пропусков и дубликатов.\n",
    "* На графике показана отличающаяся кривая распределения запасов сырья по скважинам 2 региона.\n",
    "* Так же в данных по корреляции значений второго регоина, мы видим сильную зависимость *product* от *f2*."
   ]
  },
  {
   "cell_type": "markdown",
   "metadata": {},
   "source": [
    "## Обучение и проверка модели"
   ]
  },
  {
   "cell_type": "code",
   "execution_count": 9,
   "metadata": {},
   "outputs": [],
   "source": [
    "# обучение моделей\n",
    "def model_line (data):\n",
    "    target = data['product'] #целевой признак\n",
    "    features = data.drop(['product', 'id'], axis=1) # признаки\n",
    "\n",
    "    features_train, features_valid, target_train,target_valid = train_test_split(features, \n",
    "                                                                                  target, \n",
    "                                                                                  test_size=0.25, \n",
    "                                                                                  random_state=54321) # разбиваем на выборки\n",
    "\n",
    "    model = LinearRegression().fit(features_train, target_train)# обучаем\n",
    "    prediction_model = model.predict(features_valid) #прогноз\n",
    "    \n",
    "    rmse = mean_squared_error(target_valid, prediction_model)**0.5 # считаем rmse\n",
    "    average_product = prediction_model.sum()/len(prediction_model) # прогнозируемые запасы\n",
    "\n",
    "    return target_valid, prediction_model, rmse, average_product"
   ]
  },
  {
   "cell_type": "code",
   "execution_count": 10,
   "metadata": {},
   "outputs": [],
   "source": [
    "target_valid_1, predicted_valid_1, rmse_1, average_product_1 = model_line(df1) \n",
    "target_valid_2, predicted_valid_2, rmse_2, average_product_2 = model_line(df2)\n",
    "target_valid_3, predicted_valid_3, rmse_3, average_product_3 = model_line(df3)"
   ]
  },
  {
   "cell_type": "code",
   "execution_count": 11,
   "metadata": {},
   "outputs": [
    {
     "data": {
      "text/html": [
       "<div>\n",
       "<style scoped>\n",
       "    .dataframe tbody tr th:only-of-type {\n",
       "        vertical-align: middle;\n",
       "    }\n",
       "\n",
       "    .dataframe tbody tr th {\n",
       "        vertical-align: top;\n",
       "    }\n",
       "\n",
       "    .dataframe thead th {\n",
       "        text-align: right;\n",
       "    }\n",
       "</style>\n",
       "<table border=\"1\" class=\"dataframe\">\n",
       "  <thead>\n",
       "    <tr style=\"text-align: right;\">\n",
       "      <th></th>\n",
       "      <th>1 Регион</th>\n",
       "      <th>2 Регион</th>\n",
       "      <th>3 Регион</th>\n",
       "    </tr>\n",
       "  </thead>\n",
       "  <tbody>\n",
       "    <tr>\n",
       "      <th>Cредний запас предсказанного сырья</th>\n",
       "      <td>92.159212</td>\n",
       "      <td>68.445941</td>\n",
       "      <td>94.922295</td>\n",
       "    </tr>\n",
       "    <tr>\n",
       "      <th>RMSE модели</th>\n",
       "      <td>37.683411</td>\n",
       "      <td>0.892282</td>\n",
       "      <td>40.152505</td>\n",
       "    </tr>\n",
       "  </tbody>\n",
       "</table>\n",
       "</div>"
      ],
      "text/plain": [
       "                                     1 Регион   2 Регион   3 Регион\n",
       "Cредний запас предсказанного сырья  92.159212  68.445941  94.922295\n",
       "RMSE модели                         37.683411   0.892282  40.152505"
      ]
     },
     "execution_count": 11,
     "metadata": {},
     "output_type": "execute_result"
    }
   ],
   "source": [
    "comparison_tabl = pd.DataFrame(index=['Cредний запас предсказанного сырья','RMSE модели'], columns=['1 Регион','2 Регион','3 Регион'])\n",
    "comparison_tabl['1 Регион'] = average_product_1, rmse_1\n",
    "comparison_tabl['2 Регион'] = average_product_2, rmse_2\n",
    "comparison_tabl['3 Регион'] = average_product_3, rmse_3\n",
    "comparison_tabl"
   ]
  },
  {
   "cell_type": "markdown",
   "metadata": {},
   "source": [
    "### Вывод\n",
    "* Данные разбиты на обучающую и валидационную выборки в соотношении 75:25.\n",
    "* Модель обучена и сделаны предсказания на валидационной выборке. Предсказания и правильные ответы на валидационной выборке сохранены в соответстующих переменных.\n",
    "* Модели обучены и проверены на качество предсказания метрикой RMSE. Исходя из полученных данных, можно заметить, что величина RMSE во втором регионе сильно отличается от других регионов, предположу, что модель обучилась на практически равных по величине данных, что видно из распределения данных на графике."
   ]
  },
  {
   "cell_type": "markdown",
   "metadata": {},
   "source": [
    "## Подготовка к расчёту прибыли"
   ]
  },
  {
   "cell_type": "markdown",
   "metadata": {},
   "source": [
    "При разведке региона исследуем 500 точек, из которых с помощью машинного обучения выберем 200 лучших для разработки.\n",
    "\n",
    "Бюджет на разработку скважин в регионе — 10 млрд рублей.\n",
    "\n",
    "При нынешних ценах один баррель сырья приносит 450 рублей дохода. Доход с каждой единицы продукта составляет 450 тыс.рублей, поскольку объём указан в тысячах баррелей.\n",
    "\n",
    "После оценки рисков оставим лишь те регионы, в которых вероятность убытков меньше 2.5%. Среди них выберем регион с наибольшей средней прибылью."
   ]
  },
  {
   "cell_type": "markdown",
   "metadata": {},
   "source": [
    "Как я понял из условий, за 10 млд. руб. исследуют 500 точек, затем только в 200 из них добывают нефть"
   ]
  },
  {
   "cell_type": "code",
   "execution_count": 12,
   "metadata": {},
   "outputs": [
    {
     "name": "stdout",
     "output_type": "stream",
     "text": [
      "Каждая скважина должна заработать: 50000.0 млн.руб\n"
     ]
    }
   ],
   "source": [
    "budget_per_1 = TOTAL_BUDGET/WELL\n",
    "print(\"Каждая скважина должна заработать:\", budget_per_1/1000 ,\"млн.руб\")"
   ]
  },
  {
   "cell_type": "code",
   "execution_count": 13,
   "metadata": {},
   "outputs": [
    {
     "name": "stdout",
     "output_type": "stream",
     "text": [
      "Объём каждой скважины для безубыточной разработки должен составлять не менее: 111.11 тыс.баррелей\n"
     ]
    }
   ],
   "source": [
    "extraction=budget_per_1/INCOME\n",
    "print('Объём каждой скважины для безубыточной разработки должен составлять не менее: %.2f'%extraction,'тыс.баррелей')"
   ]
  },
  {
   "cell_type": "code",
   "execution_count": 14,
   "metadata": {},
   "outputs": [
    {
     "data": {
      "text/html": [
       "<div>\n",
       "<style scoped>\n",
       "    .dataframe tbody tr th:only-of-type {\n",
       "        vertical-align: middle;\n",
       "    }\n",
       "\n",
       "    .dataframe tbody tr th {\n",
       "        vertical-align: top;\n",
       "    }\n",
       "\n",
       "    .dataframe thead th {\n",
       "        text-align: right;\n",
       "    }\n",
       "</style>\n",
       "<table border=\"1\" class=\"dataframe\">\n",
       "  <thead>\n",
       "    <tr style=\"text-align: right;\">\n",
       "      <th></th>\n",
       "      <th>1 Регион</th>\n",
       "      <th>2 Регион</th>\n",
       "      <th>3 Регион</th>\n",
       "    </tr>\n",
       "  </thead>\n",
       "  <tbody>\n",
       "    <tr>\n",
       "      <th>Cредний запас предсказанного сырья</th>\n",
       "      <td>92.159212</td>\n",
       "      <td>68.445941</td>\n",
       "      <td>94.922295</td>\n",
       "    </tr>\n",
       "    <tr>\n",
       "      <th>RMSE модели</th>\n",
       "      <td>37.683411</td>\n",
       "      <td>0.892282</td>\n",
       "      <td>40.152505</td>\n",
       "    </tr>\n",
       "    <tr>\n",
       "      <th>Объём для безубыточной разработки</th>\n",
       "      <td>111.110000</td>\n",
       "      <td>111.110000</td>\n",
       "      <td>111.110000</td>\n",
       "    </tr>\n",
       "  </tbody>\n",
       "</table>\n",
       "</div>"
      ],
      "text/plain": [
       "                                      1 Регион    2 Регион    3 Регион\n",
       "Cредний запас предсказанного сырья   92.159212   68.445941   94.922295\n",
       "RMSE модели                          37.683411    0.892282   40.152505\n",
       "Объём для безубыточной разработки   111.110000  111.110000  111.110000"
      ]
     },
     "execution_count": 14,
     "metadata": {},
     "output_type": "execute_result"
    }
   ],
   "source": [
    "comparison_tabl = pd.DataFrame(index=['Cредний запас предсказанного сырья','RMSE модели', \"Объём для безубыточной разработки\"], columns=['1 Регион','2 Регион','3 Регион'])\n",
    "comparison_tabl['1 Регион'] = average_product_1, rmse_1, round(extraction, 2)\n",
    "comparison_tabl['2 Регион'] = average_product_2, rmse_2, round(extraction, 2)\n",
    "comparison_tabl['3 Регион'] = average_product_3, rmse_3, round(extraction, 2)\n",
    "comparison_tabl"
   ]
  },
  {
   "cell_type": "code",
   "execution_count": 15,
   "metadata": {},
   "outputs": [
    {
     "name": "stdout",
     "output_type": "stream",
     "text": [
      "Регион_1:\n"
     ]
    },
    {
     "data": {
      "text/html": [
       "<div>\n",
       "<style scoped>\n",
       "    .dataframe tbody tr th:only-of-type {\n",
       "        vertical-align: middle;\n",
       "    }\n",
       "\n",
       "    .dataframe tbody tr th {\n",
       "        vertical-align: top;\n",
       "    }\n",
       "\n",
       "    .dataframe thead th {\n",
       "        text-align: right;\n",
       "    }\n",
       "</style>\n",
       "<table border=\"1\" class=\"dataframe\">\n",
       "  <thead>\n",
       "    <tr style=\"text-align: right;\">\n",
       "      <th></th>\n",
       "      <th>f0</th>\n",
       "      <th>f1</th>\n",
       "      <th>f2</th>\n",
       "      <th>product</th>\n",
       "    </tr>\n",
       "  </thead>\n",
       "  <tbody>\n",
       "    <tr>\n",
       "      <th>count</th>\n",
       "      <td>100000.000000</td>\n",
       "      <td>100000.000000</td>\n",
       "      <td>100000.000000</td>\n",
       "      <td>100000.000000</td>\n",
       "    </tr>\n",
       "    <tr>\n",
       "      <th>mean</th>\n",
       "      <td>0.500419</td>\n",
       "      <td>0.250143</td>\n",
       "      <td>2.502647</td>\n",
       "      <td>92.500000</td>\n",
       "    </tr>\n",
       "    <tr>\n",
       "      <th>std</th>\n",
       "      <td>0.871832</td>\n",
       "      <td>0.504433</td>\n",
       "      <td>3.248248</td>\n",
       "      <td>44.288691</td>\n",
       "    </tr>\n",
       "    <tr>\n",
       "      <th>min</th>\n",
       "      <td>-1.408605</td>\n",
       "      <td>-0.848218</td>\n",
       "      <td>-12.088328</td>\n",
       "      <td>0.000000</td>\n",
       "    </tr>\n",
       "    <tr>\n",
       "      <th>25%</th>\n",
       "      <td>-0.072580</td>\n",
       "      <td>-0.200881</td>\n",
       "      <td>0.287748</td>\n",
       "      <td>56.497507</td>\n",
       "    </tr>\n",
       "    <tr>\n",
       "      <th>50%</th>\n",
       "      <td>0.502360</td>\n",
       "      <td>0.250252</td>\n",
       "      <td>2.515969</td>\n",
       "      <td>91.849972</td>\n",
       "    </tr>\n",
       "    <tr>\n",
       "      <th>75%</th>\n",
       "      <td>1.073581</td>\n",
       "      <td>0.700646</td>\n",
       "      <td>4.715088</td>\n",
       "      <td>128.564089</td>\n",
       "    </tr>\n",
       "    <tr>\n",
       "      <th>max</th>\n",
       "      <td>2.362331</td>\n",
       "      <td>1.343769</td>\n",
       "      <td>16.003790</td>\n",
       "      <td>185.364347</td>\n",
       "    </tr>\n",
       "  </tbody>\n",
       "</table>\n",
       "</div>"
      ],
      "text/plain": [
       "                  f0             f1             f2        product\n",
       "count  100000.000000  100000.000000  100000.000000  100000.000000\n",
       "mean        0.500419       0.250143       2.502647      92.500000\n",
       "std         0.871832       0.504433       3.248248      44.288691\n",
       "min        -1.408605      -0.848218     -12.088328       0.000000\n",
       "25%        -0.072580      -0.200881       0.287748      56.497507\n",
       "50%         0.502360       0.250252       2.515969      91.849972\n",
       "75%         1.073581       0.700646       4.715088     128.564089\n",
       "max         2.362331       1.343769      16.003790     185.364347"
      ]
     },
     "metadata": {},
     "output_type": "display_data"
    },
    {
     "name": "stdout",
     "output_type": "stream",
     "text": [
      "Регион_2:\n"
     ]
    },
    {
     "data": {
      "text/html": [
       "<div>\n",
       "<style scoped>\n",
       "    .dataframe tbody tr th:only-of-type {\n",
       "        vertical-align: middle;\n",
       "    }\n",
       "\n",
       "    .dataframe tbody tr th {\n",
       "        vertical-align: top;\n",
       "    }\n",
       "\n",
       "    .dataframe thead th {\n",
       "        text-align: right;\n",
       "    }\n",
       "</style>\n",
       "<table border=\"1\" class=\"dataframe\">\n",
       "  <thead>\n",
       "    <tr style=\"text-align: right;\">\n",
       "      <th></th>\n",
       "      <th>f0</th>\n",
       "      <th>f1</th>\n",
       "      <th>f2</th>\n",
       "      <th>product</th>\n",
       "    </tr>\n",
       "  </thead>\n",
       "  <tbody>\n",
       "    <tr>\n",
       "      <th>count</th>\n",
       "      <td>100000.000000</td>\n",
       "      <td>100000.000000</td>\n",
       "      <td>100000.000000</td>\n",
       "      <td>100000.000000</td>\n",
       "    </tr>\n",
       "    <tr>\n",
       "      <th>mean</th>\n",
       "      <td>1.141296</td>\n",
       "      <td>-4.796579</td>\n",
       "      <td>2.494541</td>\n",
       "      <td>68.825000</td>\n",
       "    </tr>\n",
       "    <tr>\n",
       "      <th>std</th>\n",
       "      <td>8.965932</td>\n",
       "      <td>5.119872</td>\n",
       "      <td>1.703572</td>\n",
       "      <td>45.944423</td>\n",
       "    </tr>\n",
       "    <tr>\n",
       "      <th>min</th>\n",
       "      <td>-31.609576</td>\n",
       "      <td>-26.358598</td>\n",
       "      <td>-0.018144</td>\n",
       "      <td>0.000000</td>\n",
       "    </tr>\n",
       "    <tr>\n",
       "      <th>25%</th>\n",
       "      <td>-6.298551</td>\n",
       "      <td>-8.267985</td>\n",
       "      <td>1.000021</td>\n",
       "      <td>26.953261</td>\n",
       "    </tr>\n",
       "    <tr>\n",
       "      <th>50%</th>\n",
       "      <td>1.153055</td>\n",
       "      <td>-4.813172</td>\n",
       "      <td>2.011479</td>\n",
       "      <td>57.085625</td>\n",
       "    </tr>\n",
       "    <tr>\n",
       "      <th>75%</th>\n",
       "      <td>8.621015</td>\n",
       "      <td>-1.332816</td>\n",
       "      <td>3.999904</td>\n",
       "      <td>107.813044</td>\n",
       "    </tr>\n",
       "    <tr>\n",
       "      <th>max</th>\n",
       "      <td>29.421755</td>\n",
       "      <td>18.734063</td>\n",
       "      <td>5.019721</td>\n",
       "      <td>137.945408</td>\n",
       "    </tr>\n",
       "  </tbody>\n",
       "</table>\n",
       "</div>"
      ],
      "text/plain": [
       "                  f0             f1             f2        product\n",
       "count  100000.000000  100000.000000  100000.000000  100000.000000\n",
       "mean        1.141296      -4.796579       2.494541      68.825000\n",
       "std         8.965932       5.119872       1.703572      45.944423\n",
       "min       -31.609576     -26.358598      -0.018144       0.000000\n",
       "25%        -6.298551      -8.267985       1.000021      26.953261\n",
       "50%         1.153055      -4.813172       2.011479      57.085625\n",
       "75%         8.621015      -1.332816       3.999904     107.813044\n",
       "max        29.421755      18.734063       5.019721     137.945408"
      ]
     },
     "metadata": {},
     "output_type": "display_data"
    },
    {
     "name": "stdout",
     "output_type": "stream",
     "text": [
      "Регион_3:\n"
     ]
    },
    {
     "data": {
      "text/html": [
       "<div>\n",
       "<style scoped>\n",
       "    .dataframe tbody tr th:only-of-type {\n",
       "        vertical-align: middle;\n",
       "    }\n",
       "\n",
       "    .dataframe tbody tr th {\n",
       "        vertical-align: top;\n",
       "    }\n",
       "\n",
       "    .dataframe thead th {\n",
       "        text-align: right;\n",
       "    }\n",
       "</style>\n",
       "<table border=\"1\" class=\"dataframe\">\n",
       "  <thead>\n",
       "    <tr style=\"text-align: right;\">\n",
       "      <th></th>\n",
       "      <th>f0</th>\n",
       "      <th>f1</th>\n",
       "      <th>f2</th>\n",
       "      <th>product</th>\n",
       "    </tr>\n",
       "  </thead>\n",
       "  <tbody>\n",
       "    <tr>\n",
       "      <th>count</th>\n",
       "      <td>100000.000000</td>\n",
       "      <td>100000.000000</td>\n",
       "      <td>100000.000000</td>\n",
       "      <td>100000.000000</td>\n",
       "    </tr>\n",
       "    <tr>\n",
       "      <th>mean</th>\n",
       "      <td>0.002023</td>\n",
       "      <td>-0.002081</td>\n",
       "      <td>2.495128</td>\n",
       "      <td>95.000000</td>\n",
       "    </tr>\n",
       "    <tr>\n",
       "      <th>std</th>\n",
       "      <td>1.732045</td>\n",
       "      <td>1.730417</td>\n",
       "      <td>3.473445</td>\n",
       "      <td>44.749921</td>\n",
       "    </tr>\n",
       "    <tr>\n",
       "      <th>min</th>\n",
       "      <td>-8.760004</td>\n",
       "      <td>-7.084020</td>\n",
       "      <td>-11.970335</td>\n",
       "      <td>0.000000</td>\n",
       "    </tr>\n",
       "    <tr>\n",
       "      <th>25%</th>\n",
       "      <td>-1.162288</td>\n",
       "      <td>-1.174820</td>\n",
       "      <td>0.130359</td>\n",
       "      <td>59.450441</td>\n",
       "    </tr>\n",
       "    <tr>\n",
       "      <th>50%</th>\n",
       "      <td>0.009424</td>\n",
       "      <td>-0.009482</td>\n",
       "      <td>2.484236</td>\n",
       "      <td>94.925613</td>\n",
       "    </tr>\n",
       "    <tr>\n",
       "      <th>75%</th>\n",
       "      <td>1.158535</td>\n",
       "      <td>1.163678</td>\n",
       "      <td>4.858794</td>\n",
       "      <td>130.595027</td>\n",
       "    </tr>\n",
       "    <tr>\n",
       "      <th>max</th>\n",
       "      <td>7.238262</td>\n",
       "      <td>7.844801</td>\n",
       "      <td>16.739402</td>\n",
       "      <td>190.029838</td>\n",
       "    </tr>\n",
       "  </tbody>\n",
       "</table>\n",
       "</div>"
      ],
      "text/plain": [
       "                  f0             f1             f2        product\n",
       "count  100000.000000  100000.000000  100000.000000  100000.000000\n",
       "mean        0.002023      -0.002081       2.495128      95.000000\n",
       "std         1.732045       1.730417       3.473445      44.749921\n",
       "min        -8.760004      -7.084020     -11.970335       0.000000\n",
       "25%        -1.162288      -1.174820       0.130359      59.450441\n",
       "50%         0.009424      -0.009482       2.484236      94.925613\n",
       "75%         1.158535       1.163678       4.858794     130.595027\n",
       "max         7.238262       7.844801      16.739402     190.029838"
      ]
     },
     "metadata": {},
     "output_type": "display_data"
    }
   ],
   "source": [
    "print(\"Регион_1:\")\n",
    "display(df1.describe())\n",
    "print(\"Регион_2:\")\n",
    "display(df2.describe())\n",
    "print(\"Регион_3:\")\n",
    "display(df3.describe())"
   ]
  },
  {
   "cell_type": "code",
   "execution_count": 16,
   "metadata": {},
   "outputs": [
    {
     "name": "stdout",
     "output_type": "stream",
     "text": [
      "36% скважин в 1 регионе содержат больше сырья, чем  111.87\n",
      "16% скважин в 2 регионе содержат больше сырья, чем  134.77\n",
      "38% скважин в 3 регионе содержат больше сырья, чем  111.34\n"
     ]
    }
   ],
   "source": [
    "print(\"36% скважин в 1 регионе содержат больше сырья, чем \",\n",
    "      round(df1[\"product\"].quantile(0.64),2))\n",
    "print(\"16% скважин в 2 регионе содержат больше сырья, чем \",\n",
    "      round(df2[\"product\"].quantile(0.84),2))\n",
    "print(\"38% скважин в 3 регионе содержат больше сырья, чем \",\n",
    "      round(df3[\"product\"].quantile(0.62),2))"
   ]
  },
  {
   "cell_type": "markdown",
   "metadata": {},
   "source": [
    "### Вывод\n",
    "Исходя из полученных данных, средний запас сырья в каждом регионе ниже и недостаточен для безубыточной разработки новых скважин."
   ]
  },
  {
   "cell_type": "markdown",
   "metadata": {},
   "source": [
    "## Расчёт прибыли и рисков "
   ]
  },
  {
   "cell_type": "code",
   "execution_count": 17,
   "metadata": {},
   "outputs": [],
   "source": [
    "# метод для приведения к типу Series\n",
    "def series_type(target, pred):\n",
    "    target = target.reset_index(drop=True)\n",
    "    pred = pd.Series(pred)\n",
    "    return target, pred"
   ]
  },
  {
   "cell_type": "code",
   "execution_count": 18,
   "metadata": {},
   "outputs": [],
   "source": [
    "# приведем целевые и прогнозные значения по всем регионам к одному типу\n",
    "target_valid_1, predicted_valid_1 = series_type(target_valid_1, predicted_valid_1)\n",
    "target_valid_2, predicted_valid_2 = series_type(target_valid_2, predicted_valid_2)\n",
    "target_valid_3, predicted_valid_3 = series_type(target_valid_3, predicted_valid_3)"
   ]
  },
  {
   "cell_type": "code",
   "execution_count": 19,
   "metadata": {},
   "outputs": [],
   "source": [
    "def revenue(target, probabilities, WELL, INCOME, TOTAL_BUDGET): \n",
    "    probs_sorted = probabilities.sort_values(ascending=False) # отсортировали по предсказанным объемам по убыванию\n",
    "    selected = target[probs_sorted.index][:WELL] # отобрали диапазон (от 0 до WELL(200)) c отсортированными индексами\n",
    "    return int(INCOME * selected.sum() - TOTAL_BUDGET) # суммарная прибыль = объемы, умножили на цену, минус инвестиции  "
   ]
  },
  {
   "cell_type": "code",
   "execution_count": 20,
   "metadata": {},
   "outputs": [],
   "source": [
    "# Bootstrap с 1000 выборок\n",
    "def bootstrap_mg (predicted_valid, target_valid, WELL, INCOME, TOTAL_BUDGET):\n",
    "    values = []\n",
    "    state = np.random.RandomState(54321)\n",
    "    \n",
    "    for i in range(1000):\n",
    "        target_subsample = target_valid.sample(n=EXP_WELL, replace=True, random_state=state)\n",
    "        predict_subsample = predicted_valid[target_subsample.index]\n",
    "        values.append(revenue(target_subsample, predict_subsample, WELL, INCOME, TOTAL_BUDGET))\n",
    " \n",
    "    \n",
    "    values = pd.Series(values)\n",
    "    lower = int(values.quantile(0.025))# ВОТ НИЖНИЙ КВАНТИЛЬ\n",
    "    upper = int(values.quantile(0.975))# ВОТ ВЕРХНИЙ КВАНТИЛЬ\n",
    "    risk = int(len(values[values < 0]) / len(values)* 1000)\n",
    "    \n",
    "    print('Ожидаемая средняя прибыль 200 скважин:', round (values.mean()/ 10**6, 2),' млн рублей') #переведем в млн для удобвства восприятие\n",
    "    print('Верхняя граница 95%-го доверительного интервала:', round(upper/ 10**6, 2),' млн рублей')\n",
    "    print('Нижняя граница 95%-го доверительного интервала:', round(lower/ 10**6, 2),' млн рублей')\n",
    "    print('Риск потерь', round(risk, 2)/ 10, '%')\n",
    "    \n",
    "    return values, risk"
   ]
  },
  {
   "cell_type": "code",
   "execution_count": 21,
   "metadata": {},
   "outputs": [
    {
     "name": "stdout",
     "output_type": "stream",
     "text": [
      "Ожидаемая средняя прибыль 200 скважин: 408.96  млн рублей\n",
      "Верхняя граница 95%-го доверительного интервала: 961.63  млн рублей\n",
      "Нижняя граница 95%-го доверительного интервала: -96.36  млн рублей\n",
      "Риск потерь 5.2 %\n"
     ]
    }
   ],
   "source": [
    "values_1 , risk_1 = bootstrap_mg (predicted_valid_1, target_valid_1, WELL, INCOME, TOTAL_BUDGET)"
   ]
  },
  {
   "cell_type": "code",
   "execution_count": 22,
   "metadata": {},
   "outputs": [
    {
     "name": "stdout",
     "output_type": "stream",
     "text": [
      "Ожидаемая средняя прибыль 200 скважин: 471.49  млн рублей\n",
      "Верхняя граница 95%-го доверительного интервала: 911.49  млн рублей\n",
      "Нижняя граница 95%-го доверительного интервала: 52.38  млн рублей\n",
      "Риск потерь 1.2 %\n"
     ]
    }
   ],
   "source": [
    "values_2 , risk_2 = bootstrap_mg (predicted_valid_2, target_valid_2, WELL, INCOME, TOTAL_BUDGET)"
   ]
  },
  {
   "cell_type": "code",
   "execution_count": 23,
   "metadata": {},
   "outputs": [
    {
     "name": "stdout",
     "output_type": "stream",
     "text": [
      "Ожидаемая средняя прибыль 200 скважин: 420.9  млн рублей\n",
      "Верхняя граница 95%-го доверительного интервала: 934.32  млн рублей\n",
      "Нижняя граница 95%-го доверительного интервала: -140.32  млн рублей\n",
      "Риск потерь 7.4 %\n"
     ]
    }
   ],
   "source": [
    "values_3 , risk_3 = bootstrap_mg (predicted_valid_3, target_valid_3, WELL, INCOME, TOTAL_BUDGET)"
   ]
  },
  {
   "cell_type": "markdown",
   "metadata": {},
   "source": [
    "### Выбор региона и вывод"
   ]
  },
  {
   "cell_type": "code",
   "execution_count": 24,
   "metadata": {},
   "outputs": [
    {
     "data": {
      "text/html": [
       "<div>\n",
       "<style scoped>\n",
       "    .dataframe tbody tr th:only-of-type {\n",
       "        vertical-align: middle;\n",
       "    }\n",
       "\n",
       "    .dataframe tbody tr th {\n",
       "        vertical-align: top;\n",
       "    }\n",
       "\n",
       "    .dataframe thead th {\n",
       "        text-align: right;\n",
       "    }\n",
       "</style>\n",
       "<table border=\"1\" class=\"dataframe\">\n",
       "  <thead>\n",
       "    <tr style=\"text-align: right;\">\n",
       "      <th></th>\n",
       "      <th>1 регион</th>\n",
       "      <th>2 регион</th>\n",
       "      <th>3 регион</th>\n",
       "    </tr>\n",
       "  </thead>\n",
       "  <tbody>\n",
       "    <tr>\n",
       "      <th>Средняя ожидаемая прибыль в регионе, млн.руб</th>\n",
       "      <td>408.96</td>\n",
       "      <td>471.49</td>\n",
       "      <td>420.9</td>\n",
       "    </tr>\n",
       "    <tr>\n",
       "      <th>Вероятность убытка, %</th>\n",
       "      <td>5.20</td>\n",
       "      <td>1.20</td>\n",
       "      <td>7.4</td>\n",
       "    </tr>\n",
       "  </tbody>\n",
       "</table>\n",
       "</div>"
      ],
      "text/plain": [
       "                                              1 регион  2 регион  3 регион\n",
       "Средняя ожидаемая прибыль в регионе, млн.руб    408.96    471.49     420.9\n",
       "Вероятность убытка, %                             5.20      1.20       7.4"
      ]
     },
     "execution_count": 24,
     "metadata": {},
     "output_type": "execute_result"
    }
   ],
   "source": [
    "comparison_tabl = pd.DataFrame(index=['Средняя ожидаемая прибыль в регионе, млн.руб','Вероятность убытка, %'], columns=['1 регион','2 регион','3 регион'])\n",
    "comparison_tabl['1 регион'] = round (values_1.mean()/ 10**6, 2), round(risk_1, 2)/ 10\n",
    "comparison_tabl['2 регион'] = round (values_2.mean()/ 10**6, 2), round(risk_2, 2)/ 10\n",
    "comparison_tabl['3 регион'] = round (values_3.mean()/ 10**6, 2), round(risk_3, 2)/ 10\n",
    "comparison_tabl"
   ]
  },
  {
   "cell_type": "markdown",
   "metadata": {},
   "source": [
    "На основании полученных данных можно сделать вывод, что Регион 2 является наиболее привлекательным для разработки. Средняя прибыль в этом регионе составит 471.49 млн.рублей. Два других региона не прошли отбор по минимально допустимому порогу убытка в 2,5%, что позволяют обосновать соответствующий выбор в пользу Региона 2."
   ]
  },
  {
   "cell_type": "markdown",
   "metadata": {},
   "source": [
    "## Общий вывод"
   ]
  },
  {
   "cell_type": "markdown",
   "metadata": {},
   "source": [
    "* Предварительно изучил данные.\n",
    "* Обучил модель *LinearRegression* и проверил ее качество метрикой *RMSE*.\n",
    "* Вычислил объём сырья для безубыточной разработки новой скважины: 111.111 единицы продукта (тыс. баррелей)\n",
    "* С помощью техники *Bootstrap* на 1000 выборок для с разделения каждого предсказанного значения прибыли по регионам.\n",
    "* Исходя из данных и проведенного исследования, несмотря на то, что средний запас сырья во 2 Регионе значительно меньше остальных, другие регионы имеют значительный риск убытков превышающий 2.5%, что позволяет сделать выбор в пользу Региона 2 со средней ожидаемой прибылью 471.49 млн.рублей."
   ]
  }
 ],
 "metadata": {
  "ExecuteTimeLog": [
   {
    "duration": 1827,
    "start_time": "2023-01-18T17:47:43.884Z"
   },
   {
    "duration": 181,
    "start_time": "2023-01-18T17:47:56.628Z"
   },
   {
    "duration": 1762,
    "start_time": "2023-01-18T17:48:31.229Z"
   },
   {
    "duration": 4,
    "start_time": "2023-01-18T17:48:41.690Z"
   },
   {
    "duration": 187,
    "start_time": "2023-01-18T17:48:47.093Z"
   },
   {
    "duration": 132,
    "start_time": "2023-01-18T17:48:57.860Z"
   },
   {
    "duration": 132,
    "start_time": "2023-01-18T17:49:06.258Z"
   },
   {
    "duration": 316,
    "start_time": "2023-01-18T17:49:14.843Z"
   },
   {
    "duration": 6,
    "start_time": "2023-01-18T17:50:24.659Z"
   },
   {
    "duration": 260,
    "start_time": "2023-01-18T17:50:36.601Z"
   },
   {
    "duration": 12,
    "start_time": "2023-01-18T17:50:44.362Z"
   },
   {
    "duration": 6,
    "start_time": "2023-01-18T17:52:06.634Z"
   },
   {
    "duration": 4,
    "start_time": "2023-01-18T17:52:16.720Z"
   },
   {
    "duration": 4,
    "start_time": "2023-01-18T17:52:24.301Z"
   },
   {
    "duration": 25,
    "start_time": "2023-01-18T17:52:31.353Z"
   },
   {
    "duration": 127,
    "start_time": "2023-01-18T17:53:05.457Z"
   },
   {
    "duration": 13,
    "start_time": "2023-01-18T17:53:21.621Z"
   },
   {
    "duration": 7,
    "start_time": "2023-01-18T17:53:57.039Z"
   },
   {
    "duration": 6,
    "start_time": "2023-01-18T17:54:31.760Z"
   },
   {
    "duration": 4,
    "start_time": "2023-01-18T17:54:33.458Z"
   },
   {
    "duration": 6,
    "start_time": "2023-01-18T17:56:16.662Z"
   },
   {
    "duration": 1487,
    "start_time": "2023-01-18T17:56:27.111Z"
   },
   {
    "duration": 1417,
    "start_time": "2023-01-18T17:56:37.666Z"
   },
   {
    "duration": 1444,
    "start_time": "2023-01-18T17:56:52.946Z"
   },
   {
    "duration": 11,
    "start_time": "2023-01-18T17:57:29.876Z"
   },
   {
    "duration": 1578,
    "start_time": "2023-01-18T17:59:10.260Z"
   },
   {
    "duration": 402,
    "start_time": "2023-01-18T17:59:11.843Z"
   },
   {
    "duration": 6,
    "start_time": "2023-01-18T17:59:12.248Z"
   },
   {
    "duration": 239,
    "start_time": "2023-01-18T17:59:12.257Z"
   },
   {
    "duration": 175,
    "start_time": "2023-01-18T17:59:12.499Z"
   },
   {
    "duration": 145,
    "start_time": "2023-01-18T17:59:12.676Z"
   },
   {
    "duration": 360,
    "start_time": "2023-01-18T17:59:12.822Z"
   },
   {
    "duration": 6,
    "start_time": "2023-01-18T17:59:13.183Z"
   },
   {
    "duration": 256,
    "start_time": "2023-01-18T17:59:13.191Z"
   },
   {
    "duration": 96,
    "start_time": "2023-01-18T17:59:13.449Z"
   },
   {
    "duration": 113,
    "start_time": "2023-01-18T17:59:13.547Z"
   },
   {
    "duration": 12,
    "start_time": "2023-01-18T17:59:13.662Z"
   },
   {
    "duration": 6,
    "start_time": "2023-01-18T17:59:13.675Z"
   },
   {
    "duration": 13,
    "start_time": "2023-01-18T17:59:13.684Z"
   },
   {
    "duration": 113,
    "start_time": "2023-01-18T17:59:13.699Z"
   },
   {
    "duration": 40,
    "start_time": "2023-01-18T17:59:13.814Z"
   },
   {
    "duration": 4,
    "start_time": "2023-01-18T17:59:13.855Z"
   },
   {
    "duration": 8,
    "start_time": "2023-01-18T17:59:13.862Z"
   },
   {
    "duration": 7,
    "start_time": "2023-01-18T17:59:13.872Z"
   },
   {
    "duration": 9,
    "start_time": "2023-01-18T17:59:13.881Z"
   },
   {
    "duration": 1571,
    "start_time": "2023-01-18T17:59:13.892Z"
   },
   {
    "duration": 1496,
    "start_time": "2023-01-18T17:59:15.466Z"
   },
   {
    "duration": 1556,
    "start_time": "2023-01-18T17:59:16.964Z"
   },
   {
    "duration": 35,
    "start_time": "2023-01-18T17:59:18.523Z"
   },
   {
    "duration": 2022,
    "start_time": "2023-01-18T20:17:02.087Z"
   },
   {
    "duration": 1503,
    "start_time": "2023-01-18T20:17:04.112Z"
   },
   {
    "duration": 4,
    "start_time": "2023-01-18T20:17:05.616Z"
   },
   {
    "duration": 167,
    "start_time": "2023-01-18T20:17:05.623Z"
   },
   {
    "duration": 127,
    "start_time": "2023-01-18T20:17:05.791Z"
   },
   {
    "duration": 154,
    "start_time": "2023-01-18T20:17:05.920Z"
   },
   {
    "duration": 280,
    "start_time": "2023-01-18T20:17:06.076Z"
   },
   {
    "duration": 5,
    "start_time": "2023-01-18T20:17:06.358Z"
   },
   {
    "duration": 294,
    "start_time": "2023-01-18T20:17:06.365Z"
   },
   {
    "duration": 187,
    "start_time": "2023-01-18T20:17:06.662Z"
   },
   {
    "duration": 7,
    "start_time": "2023-01-18T20:17:06.851Z"
   },
   {
    "duration": 8,
    "start_time": "2023-01-18T20:17:06.859Z"
   },
   {
    "duration": 6,
    "start_time": "2023-01-18T20:17:06.868Z"
   },
   {
    "duration": 12,
    "start_time": "2023-01-18T20:17:06.876Z"
   },
   {
    "duration": 121,
    "start_time": "2023-01-18T20:17:06.890Z"
   },
   {
    "duration": 12,
    "start_time": "2023-01-18T20:17:07.012Z"
   },
   {
    "duration": 24,
    "start_time": "2023-01-18T20:17:07.025Z"
   },
   {
    "duration": 8,
    "start_time": "2023-01-18T20:17:07.051Z"
   },
   {
    "duration": 10,
    "start_time": "2023-01-18T20:17:07.061Z"
   },
   {
    "duration": 6,
    "start_time": "2023-01-18T20:17:07.073Z"
   },
   {
    "duration": 1272,
    "start_time": "2023-01-18T20:17:07.080Z"
   },
   {
    "duration": 1244,
    "start_time": "2023-01-18T20:17:08.354Z"
   },
   {
    "duration": 1241,
    "start_time": "2023-01-18T20:17:09.600Z"
   },
   {
    "duration": 11,
    "start_time": "2023-01-18T20:17:10.843Z"
   },
   {
    "duration": 40,
    "start_time": "2023-01-18T20:20:12.601Z"
   },
   {
    "duration": 1413,
    "start_time": "2023-01-19T01:53:00.711Z"
   },
   {
    "duration": 5,
    "start_time": "2023-01-19T01:53:02.126Z"
   },
   {
    "duration": 1777,
    "start_time": "2023-01-19T01:53:02.133Z"
   },
   {
    "duration": 4,
    "start_time": "2023-01-19T01:53:03.912Z"
   },
   {
    "duration": 148,
    "start_time": "2023-01-19T01:53:03.918Z"
   },
   {
    "duration": 134,
    "start_time": "2023-01-19T01:53:04.067Z"
   },
   {
    "duration": 133,
    "start_time": "2023-01-19T01:53:04.203Z"
   },
   {
    "duration": 292,
    "start_time": "2023-01-19T01:53:04.337Z"
   },
   {
    "duration": 5,
    "start_time": "2023-01-19T01:53:04.631Z"
   },
   {
    "duration": 443,
    "start_time": "2023-01-19T01:53:04.638Z"
   },
   {
    "duration": 100,
    "start_time": "2023-01-19T01:53:05.083Z"
   },
   {
    "duration": 25,
    "start_time": "2023-01-19T01:53:05.185Z"
   },
   {
    "duration": 32,
    "start_time": "2023-01-19T01:53:05.211Z"
   },
   {
    "duration": 42,
    "start_time": "2023-01-19T01:53:05.244Z"
   },
   {
    "duration": 103,
    "start_time": "2023-01-19T01:53:05.287Z"
   },
   {
    "duration": 10,
    "start_time": "2023-01-19T01:53:05.392Z"
   },
   {
    "duration": 7,
    "start_time": "2023-01-19T01:53:05.403Z"
   },
   {
    "duration": 29,
    "start_time": "2023-01-19T01:53:05.412Z"
   },
   {
    "duration": 26,
    "start_time": "2023-01-19T01:53:05.443Z"
   },
   {
    "duration": 28,
    "start_time": "2023-01-19T01:53:05.470Z"
   },
   {
    "duration": 1314,
    "start_time": "2023-01-19T01:53:05.499Z"
   },
   {
    "duration": 1225,
    "start_time": "2023-01-19T01:53:06.815Z"
   },
   {
    "duration": 1282,
    "start_time": "2023-01-19T01:53:08.042Z"
   },
   {
    "duration": 16,
    "start_time": "2023-01-19T01:53:09.325Z"
   },
   {
    "duration": 13,
    "start_time": "2023-01-19T01:54:40.627Z"
   },
   {
    "duration": 12,
    "start_time": "2023-01-19T01:55:03.981Z"
   },
   {
    "duration": 12,
    "start_time": "2023-01-19T01:58:10.564Z"
   },
   {
    "duration": 12,
    "start_time": "2023-01-19T02:10:14.878Z"
   },
   {
    "duration": 1267,
    "start_time": "2023-01-19T02:13:39.100Z"
   },
   {
    "duration": 2,
    "start_time": "2023-01-19T02:13:40.369Z"
   },
   {
    "duration": 344,
    "start_time": "2023-01-19T02:13:40.372Z"
   },
   {
    "duration": 4,
    "start_time": "2023-01-19T02:13:40.718Z"
   },
   {
    "duration": 160,
    "start_time": "2023-01-19T02:13:40.723Z"
   },
   {
    "duration": 112,
    "start_time": "2023-01-19T02:13:40.885Z"
   },
   {
    "duration": 123,
    "start_time": "2023-01-19T02:13:40.999Z"
   },
   {
    "duration": 260,
    "start_time": "2023-01-19T02:13:41.124Z"
   },
   {
    "duration": 5,
    "start_time": "2023-01-19T02:13:41.385Z"
   },
   {
    "duration": 297,
    "start_time": "2023-01-19T02:13:41.392Z"
   },
   {
    "duration": 96,
    "start_time": "2023-01-19T02:13:41.691Z"
   },
   {
    "duration": 102,
    "start_time": "2023-01-19T02:13:41.789Z"
   },
   {
    "duration": 8,
    "start_time": "2023-01-19T02:13:41.893Z"
   },
   {
    "duration": 13,
    "start_time": "2023-01-19T02:13:41.904Z"
   },
   {
    "duration": 120,
    "start_time": "2023-01-19T02:13:41.918Z"
   },
   {
    "duration": 11,
    "start_time": "2023-01-19T02:13:42.040Z"
   },
   {
    "duration": 3,
    "start_time": "2023-01-19T02:13:42.052Z"
   },
   {
    "duration": 27,
    "start_time": "2023-01-19T02:13:42.057Z"
   },
   {
    "duration": 7,
    "start_time": "2023-01-19T02:13:42.086Z"
   },
   {
    "duration": 7,
    "start_time": "2023-01-19T02:13:42.094Z"
   },
   {
    "duration": 1245,
    "start_time": "2023-01-19T02:13:42.103Z"
   },
   {
    "duration": 1202,
    "start_time": "2023-01-19T02:13:43.350Z"
   },
   {
    "duration": 1230,
    "start_time": "2023-01-19T02:13:44.554Z"
   },
   {
    "duration": 11,
    "start_time": "2023-01-19T02:13:45.785Z"
   },
   {
    "duration": 2043,
    "start_time": "2023-01-19T08:13:07.272Z"
   },
   {
    "duration": 7,
    "start_time": "2023-01-19T08:13:09.319Z"
   },
   {
    "duration": 358,
    "start_time": "2023-01-19T08:13:09.329Z"
   },
   {
    "duration": 3,
    "start_time": "2023-01-19T08:13:09.689Z"
   },
   {
    "duration": 182,
    "start_time": "2023-01-19T08:13:09.694Z"
   },
   {
    "duration": 144,
    "start_time": "2023-01-19T08:13:09.877Z"
   },
   {
    "duration": 129,
    "start_time": "2023-01-19T08:13:10.023Z"
   },
   {
    "duration": 309,
    "start_time": "2023-01-19T08:13:10.153Z"
   },
   {
    "duration": 4,
    "start_time": "2023-01-19T08:13:10.464Z"
   },
   {
    "duration": 159,
    "start_time": "2023-01-19T08:13:10.470Z"
   },
   {
    "duration": 22,
    "start_time": "2023-01-19T08:13:10.703Z"
   },
   {
    "duration": 101,
    "start_time": "2023-01-19T08:13:10.726Z"
   },
   {
    "duration": 6,
    "start_time": "2023-01-19T08:13:10.829Z"
   },
   {
    "duration": 13,
    "start_time": "2023-01-19T08:13:10.836Z"
   },
   {
    "duration": 124,
    "start_time": "2023-01-19T08:13:10.851Z"
   },
   {
    "duration": 13,
    "start_time": "2023-01-19T08:13:10.976Z"
   },
   {
    "duration": 15,
    "start_time": "2023-01-19T08:13:11.005Z"
   },
   {
    "duration": 9,
    "start_time": "2023-01-19T08:13:11.022Z"
   },
   {
    "duration": 6,
    "start_time": "2023-01-19T08:13:11.033Z"
   },
   {
    "duration": 11,
    "start_time": "2023-01-19T08:13:11.040Z"
   },
   {
    "duration": 1411,
    "start_time": "2023-01-19T08:13:11.052Z"
   },
   {
    "duration": 1415,
    "start_time": "2023-01-19T08:13:12.465Z"
   },
   {
    "duration": 1518,
    "start_time": "2023-01-19T08:13:13.881Z"
   },
   {
    "duration": 17,
    "start_time": "2023-01-19T08:13:15.405Z"
   }
  ],
  "kernelspec": {
   "display_name": "Python 3 (ipykernel)",
   "language": "python",
   "name": "python3"
  },
  "language_info": {
   "codemirror_mode": {
    "name": "ipython",
    "version": 3
   },
   "file_extension": ".py",
   "mimetype": "text/x-python",
   "name": "python",
   "nbconvert_exporter": "python",
   "pygments_lexer": "ipython3",
   "version": "3.9.13"
  },
  "toc": {
   "base_numbering": 1,
   "nav_menu": {},
   "number_sections": true,
   "sideBar": true,
   "skip_h1_title": true,
   "title_cell": "Table of Contents",
   "title_sidebar": "Contents",
   "toc_cell": false,
   "toc_position": {},
   "toc_section_display": true,
   "toc_window_display": false
  }
 },
 "nbformat": 4,
 "nbformat_minor": 2
}
