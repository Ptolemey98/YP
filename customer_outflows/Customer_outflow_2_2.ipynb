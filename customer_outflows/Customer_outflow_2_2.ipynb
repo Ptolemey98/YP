{
 "cells": [
  {
   "cell_type": "markdown",
   "metadata": {},
   "source": [
    "# Отток клиентов"
   ]
  },
  {
   "attachments": {},
   "cell_type": "markdown",
   "metadata": {},
   "source": [
    "## Описание проекта\n",
    "Из «Бета-Банка» стали уходить клиенты. Каждый месяц. Немного, но заметно. Банковские маркетологи посчитали: сохранять текущих клиентов дешевле, чем привлекать новых.\n",
    "\n",
    "Нужно спрогнозировать, уйдёт клиент из банка в ближайшее время или нет. Вам предоставлены исторические данные о поведении клиентов и расторжении договоров с банком. \n",
    "\n",
    "Постройте модель с предельно большим значением *F1*-меры. Чтобы сдать проект успешно, нужно довести метрику до 0.59. Проверьте *F1*-меру на тестовой выборке самостоятельно.\n",
    "\n",
    "Дополнительно измеряйте *AUC-ROC*, сравнивайте её значение с *F1*-мерой.\n",
    "\n",
    "---\n",
    "\n",
    "<h2>Содержание</h2>\n",
    "\n",
    "<div class=\"toc\">\n",
    "  <ul>\n",
    "    <li><a href=\"#Подготовка-данных\">Подготовка данных</a></li>\n",
    "      <ul>\n",
    "        <li><a href=\"#Формирование-выборок\">Формирование выборок</a></li>\n",
    "      </ul>      \n",
    "    <li><a href=\"#Исследование-задачи\">Исследование задачи</a></li>\n",
    "       <ul>\n",
    "        <li><a href=\"#Изучим-модели-без-учета-дисбаланса\">Изучим модели без учета дисбаланса</a></li>\n",
    "      </ul>    \n",
    "    <li><a href=\"#Борьба-с-дисбалансом\">Борьба с дисбалансом</a></li>\n",
    "    <li><a href=\"#Исследование-метрики-AUC-ROC\">Исследование метрики AUC-ROC</a></li>\n",
    "    <li><a href=\"#Тестирование-модели\">Тестирование модели</a></li>\n",
    "    <li><a href=\"#Общий-вывод\">Общий вывод</a></li>\n",
    "  </ul>\n",
    "</div>\n",
    "\n",
    "<style>\n",
    "  .toc ul {\n",
    "    font-size: 14px;\n",
    "  }\n",
    "</style>\n",
    "\n",
    "---\n",
    "\n",
    "### Цели и задачи\n",
    "\n",
    "**Цель** - Построить модель, способную спрогнозировать, уйдёт клиент из банка в ближайшее время или нет.\n",
    "\n",
    "**Задачи**:\n",
    "    \n",
    "    1. Загрузить и подготовить данные.        \n",
    "    2. Исследовать баланс классов, обучить модель без учёта дисбаланса.       \n",
    "    3. Улучшить качество модели, учитывая дисбаланс классов. Обучить разные модели и найдите лучшую.\n",
    "    4. Провести финальное тестирование.    \n",
    "    5. Сделать выводы по итогам работы.\n",
    "    \n",
    "---\n",
    "    \n",
    "### Описание данных\n",
    "\n",
    "#### Признаки\n",
    "\n",
    "- `RowNumber` — индекс строки в данных\n",
    "- `CustomerId` — уникальный идентификатор клиента\n",
    "- `Surname` — фамилия\n",
    "- `CreditScore` — кредитный рейтинг\n",
    "- `Geography` — страна проживания\n",
    "- `Gender` — пол\n",
    "- `Age` — возраст\n",
    "- `Tenure` — сколько лет человек является клиентом банка\n",
    "- `Balance` — баланс на счёте\n",
    "- `NumOfProducts` — количество продуктов банка, используемых клиентом\n",
    "- `HasCrCard` — наличие кредитной карты\n",
    "- `IsActiveMember` — активность клиента\n",
    "- `EstimatedSalary` — предполагаемая зарплата\n",
    "#### Целевой признак\n",
    "- `Exited` — факт ухода клиента\n",
    "\n",
    "---"
   ]
  },
  {
   "cell_type": "markdown",
   "metadata": {},
   "source": [
    "## Подготовка данных"
   ]
  },
  {
   "cell_type": "code",
   "execution_count": 1,
   "metadata": {},
   "outputs": [],
   "source": [
    "import pandas as pd \n",
    "import matplotlib.pyplot as plt\n",
    "import seaborn as sns\n",
    "from tqdm import tqdm\n",
    "import numpy as np\n",
    "\n",
    "from sklearn.model_selection import train_test_split\n",
    "from sklearn.preprocessing import StandardScaler\n",
    "from sklearn.linear_model import LogisticRegression\n",
    "from sklearn.ensemble import RandomForestClassifier\n",
    "from sklearn.tree import DecisionTreeClassifier\n",
    "from sklearn.metrics import f1_score, confusion_matrix, roc_auc_score, roc_curve, precision_score, recall_score, accuracy_score\n",
    "from sklearn.utils import shuffle\n",
    "\n",
    "import warnings\n",
    "warnings.filterwarnings(\"ignore\")"
   ]
  },
  {
   "cell_type": "code",
   "execution_count": 2,
   "metadata": {},
   "outputs": [],
   "source": [
    "data = pd.read_csv(\"/datasets/Churn.csv\")"
   ]
  },
  {
   "cell_type": "code",
   "execution_count": 3,
   "metadata": {},
   "outputs": [
    {
     "name": "stdout",
     "output_type": "stream",
     "text": [
      "<class 'pandas.core.frame.DataFrame'>\n",
      "RangeIndex: 10000 entries, 0 to 9999\n",
      "Data columns (total 14 columns):\n",
      " #   Column           Non-Null Count  Dtype  \n",
      "---  ------           --------------  -----  \n",
      " 0   RowNumber        10000 non-null  int64  \n",
      " 1   CustomerId       10000 non-null  int64  \n",
      " 2   Surname          10000 non-null  object \n",
      " 3   CreditScore      10000 non-null  int64  \n",
      " 4   Geography        10000 non-null  object \n",
      " 5   Gender           10000 non-null  object \n",
      " 6   Age              10000 non-null  int64  \n",
      " 7   Tenure           9091 non-null   float64\n",
      " 8   Balance          10000 non-null  float64\n",
      " 9   NumOfProducts    10000 non-null  int64  \n",
      " 10  HasCrCard        10000 non-null  int64  \n",
      " 11  IsActiveMember   10000 non-null  int64  \n",
      " 12  EstimatedSalary  10000 non-null  float64\n",
      " 13  Exited           10000 non-null  int64  \n",
      "dtypes: float64(3), int64(8), object(3)\n",
      "memory usage: 1.1+ MB\n"
     ]
    },
    {
     "data": {
      "text/html": [
       "<div>\n",
       "<style scoped>\n",
       "    .dataframe tbody tr th:only-of-type {\n",
       "        vertical-align: middle;\n",
       "    }\n",
       "\n",
       "    .dataframe tbody tr th {\n",
       "        vertical-align: top;\n",
       "    }\n",
       "\n",
       "    .dataframe thead th {\n",
       "        text-align: right;\n",
       "    }\n",
       "</style>\n",
       "<table border=\"1\" class=\"dataframe\">\n",
       "  <thead>\n",
       "    <tr style=\"text-align: right;\">\n",
       "      <th></th>\n",
       "      <th>RowNumber</th>\n",
       "      <th>CustomerId</th>\n",
       "      <th>Surname</th>\n",
       "      <th>CreditScore</th>\n",
       "      <th>Geography</th>\n",
       "      <th>Gender</th>\n",
       "      <th>Age</th>\n",
       "      <th>Tenure</th>\n",
       "      <th>Balance</th>\n",
       "      <th>NumOfProducts</th>\n",
       "      <th>HasCrCard</th>\n",
       "      <th>IsActiveMember</th>\n",
       "      <th>EstimatedSalary</th>\n",
       "      <th>Exited</th>\n",
       "    </tr>\n",
       "  </thead>\n",
       "  <tbody>\n",
       "    <tr>\n",
       "      <th>0</th>\n",
       "      <td>1</td>\n",
       "      <td>15634602</td>\n",
       "      <td>Hargrave</td>\n",
       "      <td>619</td>\n",
       "      <td>France</td>\n",
       "      <td>Female</td>\n",
       "      <td>42</td>\n",
       "      <td>2.0</td>\n",
       "      <td>0.00</td>\n",
       "      <td>1</td>\n",
       "      <td>1</td>\n",
       "      <td>1</td>\n",
       "      <td>101348.88</td>\n",
       "      <td>1</td>\n",
       "    </tr>\n",
       "    <tr>\n",
       "      <th>1</th>\n",
       "      <td>2</td>\n",
       "      <td>15647311</td>\n",
       "      <td>Hill</td>\n",
       "      <td>608</td>\n",
       "      <td>Spain</td>\n",
       "      <td>Female</td>\n",
       "      <td>41</td>\n",
       "      <td>1.0</td>\n",
       "      <td>83807.86</td>\n",
       "      <td>1</td>\n",
       "      <td>0</td>\n",
       "      <td>1</td>\n",
       "      <td>112542.58</td>\n",
       "      <td>0</td>\n",
       "    </tr>\n",
       "    <tr>\n",
       "      <th>2</th>\n",
       "      <td>3</td>\n",
       "      <td>15619304</td>\n",
       "      <td>Onio</td>\n",
       "      <td>502</td>\n",
       "      <td>France</td>\n",
       "      <td>Female</td>\n",
       "      <td>42</td>\n",
       "      <td>8.0</td>\n",
       "      <td>159660.80</td>\n",
       "      <td>3</td>\n",
       "      <td>1</td>\n",
       "      <td>0</td>\n",
       "      <td>113931.57</td>\n",
       "      <td>1</td>\n",
       "    </tr>\n",
       "    <tr>\n",
       "      <th>3</th>\n",
       "      <td>4</td>\n",
       "      <td>15701354</td>\n",
       "      <td>Boni</td>\n",
       "      <td>699</td>\n",
       "      <td>France</td>\n",
       "      <td>Female</td>\n",
       "      <td>39</td>\n",
       "      <td>1.0</td>\n",
       "      <td>0.00</td>\n",
       "      <td>2</td>\n",
       "      <td>0</td>\n",
       "      <td>0</td>\n",
       "      <td>93826.63</td>\n",
       "      <td>0</td>\n",
       "    </tr>\n",
       "    <tr>\n",
       "      <th>4</th>\n",
       "      <td>5</td>\n",
       "      <td>15737888</td>\n",
       "      <td>Mitchell</td>\n",
       "      <td>850</td>\n",
       "      <td>Spain</td>\n",
       "      <td>Female</td>\n",
       "      <td>43</td>\n",
       "      <td>2.0</td>\n",
       "      <td>125510.82</td>\n",
       "      <td>1</td>\n",
       "      <td>1</td>\n",
       "      <td>1</td>\n",
       "      <td>79084.10</td>\n",
       "      <td>0</td>\n",
       "    </tr>\n",
       "  </tbody>\n",
       "</table>\n",
       "</div>"
      ],
      "text/plain": [
       "   RowNumber  CustomerId   Surname  CreditScore Geography  Gender  Age  \\\n",
       "0          1    15634602  Hargrave          619    France  Female   42   \n",
       "1          2    15647311      Hill          608     Spain  Female   41   \n",
       "2          3    15619304      Onio          502    France  Female   42   \n",
       "3          4    15701354      Boni          699    France  Female   39   \n",
       "4          5    15737888  Mitchell          850     Spain  Female   43   \n",
       "\n",
       "   Tenure    Balance  NumOfProducts  HasCrCard  IsActiveMember  \\\n",
       "0     2.0       0.00              1          1               1   \n",
       "1     1.0   83807.86              1          0               1   \n",
       "2     8.0  159660.80              3          1               0   \n",
       "3     1.0       0.00              2          0               0   \n",
       "4     2.0  125510.82              1          1               1   \n",
       "\n",
       "   EstimatedSalary  Exited  \n",
       "0        101348.88       1  \n",
       "1        112542.58       0  \n",
       "2        113931.57       1  \n",
       "3         93826.63       0  \n",
       "4         79084.10       0  "
      ]
     },
     "metadata": {},
     "output_type": "display_data"
    },
    {
     "name": "stdout",
     "output_type": "stream",
     "text": [
      "\n",
      "Число дубликатов: 0\n",
      "Пропуски:\n",
      " RowNumber            0\n",
      "CustomerId           0\n",
      "Surname              0\n",
      "CreditScore          0\n",
      "Geography            0\n",
      "Gender               0\n",
      "Age                  0\n",
      "Tenure             909\n",
      "Balance              0\n",
      "NumOfProducts        0\n",
      "HasCrCard            0\n",
      "IsActiveMember       0\n",
      "EstimatedSalary      0\n",
      "Exited               0\n",
      "dtype: int64\n"
     ]
    },
    {
     "data": {
      "text/html": [
       "<div>\n",
       "<style scoped>\n",
       "    .dataframe tbody tr th:only-of-type {\n",
       "        vertical-align: middle;\n",
       "    }\n",
       "\n",
       "    .dataframe tbody tr th {\n",
       "        vertical-align: top;\n",
       "    }\n",
       "\n",
       "    .dataframe thead th {\n",
       "        text-align: right;\n",
       "    }\n",
       "</style>\n",
       "<table border=\"1\" class=\"dataframe\">\n",
       "  <thead>\n",
       "    <tr style=\"text-align: right;\">\n",
       "      <th></th>\n",
       "      <th>RowNumber</th>\n",
       "      <th>CustomerId</th>\n",
       "      <th>CreditScore</th>\n",
       "      <th>Age</th>\n",
       "      <th>Tenure</th>\n",
       "      <th>Balance</th>\n",
       "      <th>NumOfProducts</th>\n",
       "      <th>HasCrCard</th>\n",
       "      <th>IsActiveMember</th>\n",
       "      <th>EstimatedSalary</th>\n",
       "      <th>Exited</th>\n",
       "    </tr>\n",
       "  </thead>\n",
       "  <tbody>\n",
       "    <tr>\n",
       "      <th>count</th>\n",
       "      <td>10000.00000</td>\n",
       "      <td>1.000000e+04</td>\n",
       "      <td>10000.000000</td>\n",
       "      <td>10000.000000</td>\n",
       "      <td>9091.000000</td>\n",
       "      <td>10000.000000</td>\n",
       "      <td>10000.000000</td>\n",
       "      <td>10000.00000</td>\n",
       "      <td>10000.000000</td>\n",
       "      <td>10000.000000</td>\n",
       "      <td>10000.000000</td>\n",
       "    </tr>\n",
       "    <tr>\n",
       "      <th>mean</th>\n",
       "      <td>5000.50000</td>\n",
       "      <td>1.569094e+07</td>\n",
       "      <td>650.528800</td>\n",
       "      <td>38.921800</td>\n",
       "      <td>4.997690</td>\n",
       "      <td>76485.889288</td>\n",
       "      <td>1.530200</td>\n",
       "      <td>0.70550</td>\n",
       "      <td>0.515100</td>\n",
       "      <td>100090.239881</td>\n",
       "      <td>0.203700</td>\n",
       "    </tr>\n",
       "    <tr>\n",
       "      <th>std</th>\n",
       "      <td>2886.89568</td>\n",
       "      <td>7.193619e+04</td>\n",
       "      <td>96.653299</td>\n",
       "      <td>10.487806</td>\n",
       "      <td>2.894723</td>\n",
       "      <td>62397.405202</td>\n",
       "      <td>0.581654</td>\n",
       "      <td>0.45584</td>\n",
       "      <td>0.499797</td>\n",
       "      <td>57510.492818</td>\n",
       "      <td>0.402769</td>\n",
       "    </tr>\n",
       "    <tr>\n",
       "      <th>min</th>\n",
       "      <td>1.00000</td>\n",
       "      <td>1.556570e+07</td>\n",
       "      <td>350.000000</td>\n",
       "      <td>18.000000</td>\n",
       "      <td>0.000000</td>\n",
       "      <td>0.000000</td>\n",
       "      <td>1.000000</td>\n",
       "      <td>0.00000</td>\n",
       "      <td>0.000000</td>\n",
       "      <td>11.580000</td>\n",
       "      <td>0.000000</td>\n",
       "    </tr>\n",
       "    <tr>\n",
       "      <th>25%</th>\n",
       "      <td>2500.75000</td>\n",
       "      <td>1.562853e+07</td>\n",
       "      <td>584.000000</td>\n",
       "      <td>32.000000</td>\n",
       "      <td>2.000000</td>\n",
       "      <td>0.000000</td>\n",
       "      <td>1.000000</td>\n",
       "      <td>0.00000</td>\n",
       "      <td>0.000000</td>\n",
       "      <td>51002.110000</td>\n",
       "      <td>0.000000</td>\n",
       "    </tr>\n",
       "    <tr>\n",
       "      <th>50%</th>\n",
       "      <td>5000.50000</td>\n",
       "      <td>1.569074e+07</td>\n",
       "      <td>652.000000</td>\n",
       "      <td>37.000000</td>\n",
       "      <td>5.000000</td>\n",
       "      <td>97198.540000</td>\n",
       "      <td>1.000000</td>\n",
       "      <td>1.00000</td>\n",
       "      <td>1.000000</td>\n",
       "      <td>100193.915000</td>\n",
       "      <td>0.000000</td>\n",
       "    </tr>\n",
       "    <tr>\n",
       "      <th>75%</th>\n",
       "      <td>7500.25000</td>\n",
       "      <td>1.575323e+07</td>\n",
       "      <td>718.000000</td>\n",
       "      <td>44.000000</td>\n",
       "      <td>7.000000</td>\n",
       "      <td>127644.240000</td>\n",
       "      <td>2.000000</td>\n",
       "      <td>1.00000</td>\n",
       "      <td>1.000000</td>\n",
       "      <td>149388.247500</td>\n",
       "      <td>0.000000</td>\n",
       "    </tr>\n",
       "    <tr>\n",
       "      <th>max</th>\n",
       "      <td>10000.00000</td>\n",
       "      <td>1.581569e+07</td>\n",
       "      <td>850.000000</td>\n",
       "      <td>92.000000</td>\n",
       "      <td>10.000000</td>\n",
       "      <td>250898.090000</td>\n",
       "      <td>4.000000</td>\n",
       "      <td>1.00000</td>\n",
       "      <td>1.000000</td>\n",
       "      <td>199992.480000</td>\n",
       "      <td>1.000000</td>\n",
       "    </tr>\n",
       "  </tbody>\n",
       "</table>\n",
       "</div>"
      ],
      "text/plain": [
       "         RowNumber    CustomerId   CreditScore           Age       Tenure  \\\n",
       "count  10000.00000  1.000000e+04  10000.000000  10000.000000  9091.000000   \n",
       "mean    5000.50000  1.569094e+07    650.528800     38.921800     4.997690   \n",
       "std     2886.89568  7.193619e+04     96.653299     10.487806     2.894723   \n",
       "min        1.00000  1.556570e+07    350.000000     18.000000     0.000000   \n",
       "25%     2500.75000  1.562853e+07    584.000000     32.000000     2.000000   \n",
       "50%     5000.50000  1.569074e+07    652.000000     37.000000     5.000000   \n",
       "75%     7500.25000  1.575323e+07    718.000000     44.000000     7.000000   \n",
       "max    10000.00000  1.581569e+07    850.000000     92.000000    10.000000   \n",
       "\n",
       "             Balance  NumOfProducts    HasCrCard  IsActiveMember  \\\n",
       "count   10000.000000   10000.000000  10000.00000    10000.000000   \n",
       "mean    76485.889288       1.530200      0.70550        0.515100   \n",
       "std     62397.405202       0.581654      0.45584        0.499797   \n",
       "min         0.000000       1.000000      0.00000        0.000000   \n",
       "25%         0.000000       1.000000      0.00000        0.000000   \n",
       "50%     97198.540000       1.000000      1.00000        1.000000   \n",
       "75%    127644.240000       2.000000      1.00000        1.000000   \n",
       "max    250898.090000       4.000000      1.00000        1.000000   \n",
       "\n",
       "       EstimatedSalary        Exited  \n",
       "count     10000.000000  10000.000000  \n",
       "mean     100090.239881      0.203700  \n",
       "std       57510.492818      0.402769  \n",
       "min          11.580000      0.000000  \n",
       "25%       51002.110000      0.000000  \n",
       "50%      100193.915000      0.000000  \n",
       "75%      149388.247500      0.000000  \n",
       "max      199992.480000      1.000000  "
      ]
     },
     "metadata": {},
     "output_type": "display_data"
    }
   ],
   "source": [
    "#Выводим все, знакомимся с данными\n",
    "data.info()\n",
    "display(data.head())\n",
    "print('\\nЧисло дубликатов:', data.duplicated().sum())\n",
    "print('Пропуски:\\n', data.isnull().sum())\n",
    "display(data.describe())"
   ]
  },
  {
   "cell_type": "code",
   "execution_count": 4,
   "metadata": {},
   "outputs": [
    {
     "data": {
      "text/plain": [
       "array(['France', 'Spain', 'Germany'], dtype=object)"
      ]
     },
     "metadata": {},
     "output_type": "display_data"
    }
   ],
   "source": [
    "display(data['Geography'].unique())"
   ]
  },
  {
   "cell_type": "markdown",
   "metadata": {},
   "source": [
    "* `RowNumber` — Cтолбец дублирует информацию базы данных и не несет никакой пользы в обучении модели. Удаляю столбец\n",
    "* `CustomerId` — Уникальный идентификатор клиента, так же не несет никакой пользы в обучении модели. Дубликатов нет, удаляю столбец\n",
    "* `Surname` — Фамилия не несет ценности для обучения модели. Удаляю столбец\n",
    "* `CreditScore` — Кредитный рейтинг. Пригодится для исследования\n",
    "* `Geography` — Cтрана проживания. Всего 3 уникальных значения, выполню преобразование OHE \n",
    "* `Gender` — Пол. Выполню преобразование OHE \n",
    "* `Age` — Возраст. Пригодится для исследования\n",
    "* `Tenure` — Сколько лет человек является клиентом банка. Пригодится для исследования, изменю тип данных на int, заполню пропуски медианным по датафрейму значением 5 лет.\n",
    "* `Balance` — Баланс на счёте. Пригодится для исследования.\n",
    "* `NumOfProducts` — Количество продуктов банка, используемых клиентом. Пригодится для исследования.\n",
    "* `HasCrCard` — Наличие кредитной карты. Пригодится для исследования.\n",
    "* `IsActiveMember` — Активность клиента. Пригодится для исследования.\n",
    "* `EstimatedSalary` — Предполагаемая зарплата. Пригодится для исследования.\n",
    "* `Exited` — Факт ухода клиента. Пригодится для исследования."
   ]
  },
  {
   "cell_type": "code",
   "execution_count": 5,
   "metadata": {},
   "outputs": [],
   "source": [
    "data_del = [\"RowNumber\", 'CustomerId', 'Surname']# Столбцы на удаление\n",
    "df_ml = data.drop(data_del, axis=1) #Данные для обучения модели"
   ]
  },
  {
   "cell_type": "code",
   "execution_count": 6,
   "metadata": {},
   "outputs": [
    {
     "data": {
      "text/plain": [
       "array([ 2.,  1.,  8.,  7.,  4.,  6.,  3., 10.,  5.,  9.,  0., nan])"
      ]
     },
     "metadata": {},
     "output_type": "display_data"
    },
    {
     "data": {
      "image/png": "[encoded data removed]",
      "text/plain": [
       "<Figure size 640x480 with 2 Axes>"
      ]
     },
     "metadata": {},
     "output_type": "display_data"
    }
   ],
   "source": [
    "#Смотрю пропуски\n",
    "display(df_ml['Tenure'].unique())\n",
    "cols = df_ml.columns[:]\n",
    "colours = ['#000099', '#ffff00'] \n",
    "sns.heatmap(df_ml[cols].isnull(), cmap=sns.color_palette(colours))\n",
    "plt.show()"
   ]
  },
  {
   "cell_type": "code",
   "execution_count": 7,
   "metadata": {},
   "outputs": [
    {
     "data": {
      "image/png": "[encoded data removed]",
      "text/plain": [
       "<Figure size 500x500 with 1 Axes>"
      ]
     },
     "metadata": {},
     "output_type": "display_data"
    }
   ],
   "source": [
    "df_ml[\"Tenure\"].hist(figsize=(5, 5));"
   ]
  },
  {
   "cell_type": "code",
   "execution_count": 8,
   "metadata": {},
   "outputs": [],
   "source": [
    "#Убираю пропуски и меняю тип данных\n",
    "df_ml['Tenure'] = df_ml['Tenure'].fillna(pd.Series(np.random.randint(1, 11, size=len(df_ml['Tenure'].isna()))))\n",
    "df_ml['Tenure'] = df_ml['Tenure'].astype(int)"
   ]
  },
  {
   "cell_type": "code",
   "execution_count": 9,
   "metadata": {},
   "outputs": [
    {
     "name": "stdout",
     "output_type": "stream",
     "text": [
      "Пропуски:\n",
      " CreditScore        0\n",
      "Geography          0\n",
      "Gender             0\n",
      "Age                0\n",
      "Tenure             0\n",
      "Balance            0\n",
      "NumOfProducts      0\n",
      "HasCrCard          0\n",
      "IsActiveMember     0\n",
      "EstimatedSalary    0\n",
      "Exited             0\n",
      "dtype: int64\n"
     ]
    },
    {
     "data": {
      "image/png": "[encoded data removed]",
      "text/plain": [
       "<Figure size 500x500 with 1 Axes>"
      ]
     },
     "metadata": {},
     "output_type": "display_data"
    }
   ],
   "source": [
    "print('Пропуски:\\n', df_ml.isnull().sum())\n",
    "df_ml[\"Tenure\"].hist(figsize=(5, 5));"
   ]
  },
  {
   "cell_type": "code",
   "execution_count": 10,
   "metadata": {},
   "outputs": [
    {
     "name": "stdout",
     "output_type": "stream",
     "text": [
      "<class 'pandas.core.frame.DataFrame'>\n",
      "RangeIndex: 10000 entries, 0 to 9999\n",
      "Data columns (total 11 columns):\n",
      " #   Column           Non-Null Count  Dtype  \n",
      "---  ------           --------------  -----  \n",
      " 0   CreditScore      10000 non-null  int64  \n",
      " 1   Geography        10000 non-null  object \n",
      " 2   Gender           10000 non-null  object \n",
      " 3   Age              10000 non-null  int64  \n",
      " 4   Tenure           10000 non-null  int32  \n",
      " 5   Balance          10000 non-null  float64\n",
      " 6   NumOfProducts    10000 non-null  int64  \n",
      " 7   HasCrCard        10000 non-null  int64  \n",
      " 8   IsActiveMember   10000 non-null  int64  \n",
      " 9   EstimatedSalary  10000 non-null  float64\n",
      " 10  Exited           10000 non-null  int64  \n",
      "dtypes: float64(2), int32(1), int64(6), object(2)\n",
      "memory usage: 820.4+ KB\n"
     ]
    },
    {
     "data": {
      "text/html": [
       "<div>\n",
       "<style scoped>\n",
       "    .dataframe tbody tr th:only-of-type {\n",
       "        vertical-align: middle;\n",
       "    }\n",
       "\n",
       "    .dataframe tbody tr th {\n",
       "        vertical-align: top;\n",
       "    }\n",
       "\n",
       "    .dataframe thead th {\n",
       "        text-align: right;\n",
       "    }\n",
       "</style>\n",
       "<table border=\"1\" class=\"dataframe\">\n",
       "  <thead>\n",
       "    <tr style=\"text-align: right;\">\n",
       "      <th></th>\n",
       "      <th>CreditScore</th>\n",
       "      <th>Geography</th>\n",
       "      <th>Gender</th>\n",
       "      <th>Age</th>\n",
       "      <th>Tenure</th>\n",
       "      <th>Balance</th>\n",
       "      <th>NumOfProducts</th>\n",
       "      <th>HasCrCard</th>\n",
       "      <th>IsActiveMember</th>\n",
       "      <th>EstimatedSalary</th>\n",
       "      <th>Exited</th>\n",
       "    </tr>\n",
       "  </thead>\n",
       "  <tbody>\n",
       "    <tr>\n",
       "      <th>0</th>\n",
       "      <td>619</td>\n",
       "      <td>France</td>\n",
       "      <td>Female</td>\n",
       "      <td>42</td>\n",
       "      <td>2</td>\n",
       "      <td>0.00</td>\n",
       "      <td>1</td>\n",
       "      <td>1</td>\n",
       "      <td>1</td>\n",
       "      <td>101348.88</td>\n",
       "      <td>1</td>\n",
       "    </tr>\n",
       "    <tr>\n",
       "      <th>1</th>\n",
       "      <td>608</td>\n",
       "      <td>Spain</td>\n",
       "      <td>Female</td>\n",
       "      <td>41</td>\n",
       "      <td>1</td>\n",
       "      <td>83807.86</td>\n",
       "      <td>1</td>\n",
       "      <td>0</td>\n",
       "      <td>1</td>\n",
       "      <td>112542.58</td>\n",
       "      <td>0</td>\n",
       "    </tr>\n",
       "    <tr>\n",
       "      <th>2</th>\n",
       "      <td>502</td>\n",
       "      <td>France</td>\n",
       "      <td>Female</td>\n",
       "      <td>42</td>\n",
       "      <td>8</td>\n",
       "      <td>159660.80</td>\n",
       "      <td>3</td>\n",
       "      <td>1</td>\n",
       "      <td>0</td>\n",
       "      <td>113931.57</td>\n",
       "      <td>1</td>\n",
       "    </tr>\n",
       "    <tr>\n",
       "      <th>3</th>\n",
       "      <td>699</td>\n",
       "      <td>France</td>\n",
       "      <td>Female</td>\n",
       "      <td>39</td>\n",
       "      <td>1</td>\n",
       "      <td>0.00</td>\n",
       "      <td>2</td>\n",
       "      <td>0</td>\n",
       "      <td>0</td>\n",
       "      <td>93826.63</td>\n",
       "      <td>0</td>\n",
       "    </tr>\n",
       "    <tr>\n",
       "      <th>4</th>\n",
       "      <td>850</td>\n",
       "      <td>Spain</td>\n",
       "      <td>Female</td>\n",
       "      <td>43</td>\n",
       "      <td>2</td>\n",
       "      <td>125510.82</td>\n",
       "      <td>1</td>\n",
       "      <td>1</td>\n",
       "      <td>1</td>\n",
       "      <td>79084.10</td>\n",
       "      <td>0</td>\n",
       "    </tr>\n",
       "  </tbody>\n",
       "</table>\n",
       "</div>"
      ],
      "text/plain": [
       "   CreditScore Geography  Gender  Age  Tenure    Balance  NumOfProducts  \\\n",
       "0          619    France  Female   42       2       0.00              1   \n",
       "1          608     Spain  Female   41       1   83807.86              1   \n",
       "2          502    France  Female   42       8  159660.80              3   \n",
       "3          699    France  Female   39       1       0.00              2   \n",
       "4          850     Spain  Female   43       2  125510.82              1   \n",
       "\n",
       "   HasCrCard  IsActiveMember  EstimatedSalary  Exited  \n",
       "0          1               1        101348.88       1  \n",
       "1          0               1        112542.58       0  \n",
       "2          1               0        113931.57       1  \n",
       "3          0               0         93826.63       0  \n",
       "4          1               1         79084.10       0  "
      ]
     },
     "metadata": {},
     "output_type": "display_data"
    }
   ],
   "source": [
    "# Оцениваю обработанные данные\n",
    "df_ml.info()\n",
    "display(df_ml.head())"
   ]
  },
  {
   "cell_type": "code",
   "execution_count": 11,
   "metadata": {},
   "outputs": [
    {
     "data": {
      "image/png": "[encoded data removed]",
      "text/plain": [
       "<Figure size 1000x1500 with 9 Axes>"
      ]
     },
     "metadata": {},
     "output_type": "display_data"
    }
   ],
   "source": [
    "df_ml.hist(figsize=(10, 15));"
   ]
  },
  {
   "cell_type": "code",
   "execution_count": 12,
   "metadata": {},
   "outputs": [
    {
     "data": {
      "text/html": [
       "<div>\n",
       "<style scoped>\n",
       "    .dataframe tbody tr th:only-of-type {\n",
       "        vertical-align: middle;\n",
       "    }\n",
       "\n",
       "    .dataframe tbody tr th {\n",
       "        vertical-align: top;\n",
       "    }\n",
       "\n",
       "    .dataframe thead th {\n",
       "        text-align: right;\n",
       "    }\n",
       "</style>\n",
       "<table border=\"1\" class=\"dataframe\">\n",
       "  <thead>\n",
       "    <tr style=\"text-align: right;\">\n",
       "      <th></th>\n",
       "      <th>CreditScore</th>\n",
       "      <th>Age</th>\n",
       "      <th>Tenure</th>\n",
       "      <th>Balance</th>\n",
       "      <th>NumOfProducts</th>\n",
       "      <th>HasCrCard</th>\n",
       "      <th>IsActiveMember</th>\n",
       "      <th>EstimatedSalary</th>\n",
       "      <th>Exited</th>\n",
       "    </tr>\n",
       "  </thead>\n",
       "  <tbody>\n",
       "    <tr>\n",
       "      <th>CreditScore</th>\n",
       "      <td>1.000000</td>\n",
       "      <td>-0.007974</td>\n",
       "      <td>0.003100</td>\n",
       "      <td>0.005687</td>\n",
       "      <td>0.012568</td>\n",
       "      <td>-0.003802</td>\n",
       "      <td>0.024262</td>\n",
       "      <td>0.001237</td>\n",
       "      <td>-0.023289</td>\n",
       "    </tr>\n",
       "    <tr>\n",
       "      <th>Age</th>\n",
       "      <td>-0.007974</td>\n",
       "      <td>1.000000</td>\n",
       "      <td>-0.010294</td>\n",
       "      <td>0.033304</td>\n",
       "      <td>-0.058566</td>\n",
       "      <td>-0.015278</td>\n",
       "      <td>0.039839</td>\n",
       "      <td>-0.002431</td>\n",
       "      <td>0.323968</td>\n",
       "    </tr>\n",
       "    <tr>\n",
       "      <th>Tenure</th>\n",
       "      <td>0.003100</td>\n",
       "      <td>-0.010294</td>\n",
       "      <td>1.000000</td>\n",
       "      <td>-0.004141</td>\n",
       "      <td>0.008942</td>\n",
       "      <td>0.025740</td>\n",
       "      <td>-0.029378</td>\n",
       "      <td>0.007291</td>\n",
       "      <td>-0.010079</td>\n",
       "    </tr>\n",
       "    <tr>\n",
       "      <th>Balance</th>\n",
       "      <td>0.005687</td>\n",
       "      <td>0.033304</td>\n",
       "      <td>-0.004141</td>\n",
       "      <td>1.000000</td>\n",
       "      <td>-0.316627</td>\n",
       "      <td>-0.009835</td>\n",
       "      <td>-0.011497</td>\n",
       "      <td>0.011778</td>\n",
       "      <td>0.111110</td>\n",
       "    </tr>\n",
       "    <tr>\n",
       "      <th>NumOfProducts</th>\n",
       "      <td>0.012568</td>\n",
       "      <td>-0.058566</td>\n",
       "      <td>0.008942</td>\n",
       "      <td>-0.316627</td>\n",
       "      <td>1.000000</td>\n",
       "      <td>0.003859</td>\n",
       "      <td>0.016292</td>\n",
       "      <td>0.012570</td>\n",
       "      <td>-0.125282</td>\n",
       "    </tr>\n",
       "    <tr>\n",
       "      <th>HasCrCard</th>\n",
       "      <td>-0.003802</td>\n",
       "      <td>-0.015278</td>\n",
       "      <td>0.025740</td>\n",
       "      <td>-0.009835</td>\n",
       "      <td>0.003859</td>\n",
       "      <td>1.000000</td>\n",
       "      <td>-0.011866</td>\n",
       "      <td>-0.010041</td>\n",
       "      <td>-0.007138</td>\n",
       "    </tr>\n",
       "    <tr>\n",
       "      <th>IsActiveMember</th>\n",
       "      <td>0.024262</td>\n",
       "      <td>0.039839</td>\n",
       "      <td>-0.029378</td>\n",
       "      <td>-0.011497</td>\n",
       "      <td>0.016292</td>\n",
       "      <td>-0.011866</td>\n",
       "      <td>1.000000</td>\n",
       "      <td>-0.011469</td>\n",
       "      <td>-0.156128</td>\n",
       "    </tr>\n",
       "    <tr>\n",
       "      <th>EstimatedSalary</th>\n",
       "      <td>0.001237</td>\n",
       "      <td>-0.002431</td>\n",
       "      <td>0.007291</td>\n",
       "      <td>0.011778</td>\n",
       "      <td>0.012570</td>\n",
       "      <td>-0.010041</td>\n",
       "      <td>-0.011469</td>\n",
       "      <td>1.000000</td>\n",
       "      <td>0.012081</td>\n",
       "    </tr>\n",
       "    <tr>\n",
       "      <th>Exited</th>\n",
       "      <td>-0.023289</td>\n",
       "      <td>0.323968</td>\n",
       "      <td>-0.010079</td>\n",
       "      <td>0.111110</td>\n",
       "      <td>-0.125282</td>\n",
       "      <td>-0.007138</td>\n",
       "      <td>-0.156128</td>\n",
       "      <td>0.012081</td>\n",
       "      <td>1.000000</td>\n",
       "    </tr>\n",
       "  </tbody>\n",
       "</table>\n",
       "</div>"
      ],
      "text/plain": [
       "                 CreditScore       Age    Tenure   Balance  NumOfProducts  \\\n",
       "CreditScore         1.000000 -0.007974  0.003100  0.005687       0.012568   \n",
       "Age                -0.007974  1.000000 -0.010294  0.033304      -0.058566   \n",
       "Tenure              0.003100 -0.010294  1.000000 -0.004141       0.008942   \n",
       "Balance             0.005687  0.033304 -0.004141  1.000000      -0.316627   \n",
       "NumOfProducts       0.012568 -0.058566  0.008942 -0.316627       1.000000   \n",
       "HasCrCard          -0.003802 -0.015278  0.025740 -0.009835       0.003859   \n",
       "IsActiveMember      0.024262  0.039839 -0.029378 -0.011497       0.016292   \n",
       "EstimatedSalary     0.001237 -0.002431  0.007291  0.011778       0.012570   \n",
       "Exited             -0.023289  0.323968 -0.010079  0.111110      -0.125282   \n",
       "\n",
       "                 HasCrCard  IsActiveMember  EstimatedSalary    Exited  \n",
       "CreditScore      -0.003802        0.024262         0.001237 -0.023289  \n",
       "Age              -0.015278        0.039839        -0.002431  0.323968  \n",
       "Tenure            0.025740       -0.029378         0.007291 -0.010079  \n",
       "Balance          -0.009835       -0.011497         0.011778  0.111110  \n",
       "NumOfProducts     0.003859        0.016292         0.012570 -0.125282  \n",
       "HasCrCard         1.000000       -0.011866        -0.010041 -0.007138  \n",
       "IsActiveMember   -0.011866        1.000000        -0.011469 -0.156128  \n",
       "EstimatedSalary  -0.010041       -0.011469         1.000000  0.012081  \n",
       "Exited           -0.007138       -0.156128         0.012081  1.000000  "
      ]
     },
     "execution_count": 12,
     "metadata": {},
     "output_type": "execute_result"
    }
   ],
   "source": [
    "df_ml.corr(method='spearman')"
   ]
  },
  {
   "cell_type": "markdown",
   "metadata": {},
   "source": [
    "Заметной корреляции нет"
   ]
  },
  {
   "cell_type": "markdown",
   "metadata": {},
   "source": [
    "### Формирование выборок"
   ]
  },
  {
   "cell_type": "markdown",
   "metadata": {},
   "source": [
    "Данные разобьем на три части: обучающую, валидационную и тестовую. Исходные данные разобью в соотношении 60%, 20%, 20%."
   ]
  },
  {
   "cell_type": "code",
   "execution_count": 13,
   "metadata": {},
   "outputs": [],
   "source": [
    "features = df_ml.drop(\"Exited\", axis=1) # признаки \n",
    "target = df_ml[\"Exited\"] # целевой признак"
   ]
  },
  {
   "cell_type": "markdown",
   "metadata": {},
   "source": [
    "#### Обучающая выборка"
   ]
  },
  {
   "cell_type": "code",
   "execution_count": 14,
   "metadata": {},
   "outputs": [
    {
     "name": "stdout",
     "output_type": "stream",
     "text": [
      "(6000, 10)\n",
      "(6000,)\n"
     ]
    }
   ],
   "source": [
    "# Обучающая и (валидационная + тестовая)\n",
    "features_train, features_valid, target_train, target_valid = train_test_split(\n",
    "                                                                              features, \n",
    "                                                                              target, \n",
    "                                                                              test_size=0.4, \n",
    "                                                                              random_state=54321\n",
    "                                                                             ) \n",
    "print(features_train.shape)\n",
    "print(target_train.shape)"
   ]
  },
  {
   "cell_type": "code",
   "execution_count": 15,
   "metadata": {},
   "outputs": [],
   "source": [
    "# Валидациоонная и тестовая\n",
    "features_valid, features_test, target_valid, target_test = train_test_split(features_valid, \n",
    "                                                                            target_valid, \n",
    "                                                                            test_size=0.5, \n",
    "                                                                            random_state=54321\n",
    "                                                                           ) "
   ]
  },
  {
   "cell_type": "markdown",
   "metadata": {},
   "source": [
    "#### Валидациоонная выборка"
   ]
  },
  {
   "cell_type": "code",
   "execution_count": 16,
   "metadata": {},
   "outputs": [
    {
     "name": "stdout",
     "output_type": "stream",
     "text": [
      "(2000, 10)\n",
      "(2000,)\n"
     ]
    }
   ],
   "source": [
    "print(features_valid.shape)\n",
    "print(target_valid.shape)"
   ]
  },
  {
   "cell_type": "markdown",
   "metadata": {},
   "source": [
    "#### Тестовая выборка"
   ]
  },
  {
   "cell_type": "code",
   "execution_count": 17,
   "metadata": {},
   "outputs": [
    {
     "name": "stdout",
     "output_type": "stream",
     "text": [
      "(2000, 10)\n",
      "(2000,)\n"
     ]
    }
   ],
   "source": [
    "print(features_test.shape)\n",
    "print(target_test.shape)"
   ]
  },
  {
   "cell_type": "code",
   "execution_count": 18,
   "metadata": {},
   "outputs": [],
   "source": [
    "# кодирование ohe\n",
    "features_train = pd.get_dummies(features_train, drop_first=True)\n",
    "features_valid = pd.get_dummies(features_valid, drop_first=True)\n",
    "features_test = pd.get_dummies(features_test, drop_first=True)\n",
    "\n",
    "#Для масштабирования методом scaler зафиксируем численные признаки\n",
    "numeric = ['CreditScore', 'Age', 'Tenure', 'Balance', 'NumOfProducts', 'EstimatedSalary'] \n",
    "scaler = StandardScaler()\n",
    "scaler.fit(features_train[numeric])\n",
    "\n",
    "#Масштабируем численные признаки обучающей выборки\n",
    "features_train[numeric] = scaler.transform(features_train[numeric])\n",
    "#Валидационной выборки \n",
    "features_valid[numeric] = scaler.transform(features_valid[numeric])\n",
    "#Тестовой выборки \n",
    "features_test[numeric] = scaler.transform(features_test[numeric])"
   ]
  },
  {
   "cell_type": "code",
   "execution_count": 19,
   "metadata": {},
   "outputs": [
    {
     "data": {
      "text/html": [
       "<div>\n",
       "<style scoped>\n",
       "    .dataframe tbody tr th:only-of-type {\n",
       "        vertical-align: middle;\n",
       "    }\n",
       "\n",
       "    .dataframe tbody tr th {\n",
       "        vertical-align: top;\n",
       "    }\n",
       "\n",
       "    .dataframe thead th {\n",
       "        text-align: right;\n",
       "    }\n",
       "</style>\n",
       "<table border=\"1\" class=\"dataframe\">\n",
       "  <thead>\n",
       "    <tr style=\"text-align: right;\">\n",
       "      <th></th>\n",
       "      <th>CreditScore</th>\n",
       "      <th>Age</th>\n",
       "      <th>Tenure</th>\n",
       "      <th>Balance</th>\n",
       "      <th>NumOfProducts</th>\n",
       "      <th>HasCrCard</th>\n",
       "      <th>IsActiveMember</th>\n",
       "      <th>EstimatedSalary</th>\n",
       "      <th>Geography_Germany</th>\n",
       "      <th>Geography_Spain</th>\n",
       "      <th>Gender_Male</th>\n",
       "    </tr>\n",
       "  </thead>\n",
       "  <tbody>\n",
       "    <tr>\n",
       "      <th>5241</th>\n",
       "      <td>-0.780083</td>\n",
       "      <td>0.197157</td>\n",
       "      <td>-1.386043</td>\n",
       "      <td>-1.229774</td>\n",
       "      <td>0.813812</td>\n",
       "      <td>0</td>\n",
       "      <td>0</td>\n",
       "      <td>-0.527135</td>\n",
       "      <td>0</td>\n",
       "      <td>0</td>\n",
       "      <td>1</td>\n",
       "    </tr>\n",
       "    <tr>\n",
       "      <th>5716</th>\n",
       "      <td>-0.400308</td>\n",
       "      <td>-0.180991</td>\n",
       "      <td>-1.386043</td>\n",
       "      <td>0.651137</td>\n",
       "      <td>0.813812</td>\n",
       "      <td>0</td>\n",
       "      <td>1</td>\n",
       "      <td>1.051744</td>\n",
       "      <td>1</td>\n",
       "      <td>0</td>\n",
       "      <td>1</td>\n",
       "    </tr>\n",
       "    <tr>\n",
       "      <th>8581</th>\n",
       "      <td>-0.667177</td>\n",
       "      <td>0.386232</td>\n",
       "      <td>-1.041299</td>\n",
       "      <td>-1.229774</td>\n",
       "      <td>0.813812</td>\n",
       "      <td>1</td>\n",
       "      <td>0</td>\n",
       "      <td>-0.198282</td>\n",
       "      <td>0</td>\n",
       "      <td>0</td>\n",
       "      <td>0</td>\n",
       "    </tr>\n",
       "    <tr>\n",
       "      <th>3808</th>\n",
       "      <td>0.523471</td>\n",
       "      <td>0.197157</td>\n",
       "      <td>-1.730787</td>\n",
       "      <td>1.184406</td>\n",
       "      <td>-0.917089</td>\n",
       "      <td>0</td>\n",
       "      <td>1</td>\n",
       "      <td>0.468420</td>\n",
       "      <td>1</td>\n",
       "      <td>0</td>\n",
       "      <td>1</td>\n",
       "    </tr>\n",
       "    <tr>\n",
       "      <th>8541</th>\n",
       "      <td>-0.030796</td>\n",
       "      <td>0.764380</td>\n",
       "      <td>-0.007067</td>\n",
       "      <td>0.460340</td>\n",
       "      <td>0.813812</td>\n",
       "      <td>1</td>\n",
       "      <td>1</td>\n",
       "      <td>0.987144</td>\n",
       "      <td>0</td>\n",
       "      <td>1</td>\n",
       "      <td>1</td>\n",
       "    </tr>\n",
       "  </tbody>\n",
       "</table>\n",
       "</div>"
      ],
      "text/plain": [
       "      CreditScore       Age    Tenure   Balance  NumOfProducts  HasCrCard  \\\n",
       "5241    -0.780083  0.197157 -1.386043 -1.229774       0.813812          0   \n",
       "5716    -0.400308 -0.180991 -1.386043  0.651137       0.813812          0   \n",
       "8581    -0.667177  0.386232 -1.041299 -1.229774       0.813812          1   \n",
       "3808     0.523471  0.197157 -1.730787  1.184406      -0.917089          0   \n",
       "8541    -0.030796  0.764380 -0.007067  0.460340       0.813812          1   \n",
       "\n",
       "      IsActiveMember  EstimatedSalary  Geography_Germany  Geography_Spain  \\\n",
       "5241               0        -0.527135                  0                0   \n",
       "5716               1         1.051744                  1                0   \n",
       "8581               0        -0.198282                  0                0   \n",
       "3808               1         0.468420                  1                0   \n",
       "8541               1         0.987144                  0                1   \n",
       "\n",
       "      Gender_Male  \n",
       "5241            1  \n",
       "5716            1  \n",
       "8581            0  \n",
       "3808            1  \n",
       "8541            1  "
      ]
     },
     "execution_count": 19,
     "metadata": {},
     "output_type": "execute_result"
    }
   ],
   "source": [
    "features_train.head()"
   ]
  },
  {
   "cell_type": "markdown",
   "metadata": {},
   "source": [
    "### Вывод"
   ]
  },
  {
   "cell_type": "markdown",
   "metadata": {},
   "source": [
    "* Предварительно оценил данные.\n",
    "* Обработал данные: Заполнил пропуски и изменил тип данных, удалил не влияющие на исследование столбцы, применил прямое кодирование OHE.\n",
    "* Разбил данные на обучающую, валидационную и тестовую выборку.\n",
    "* Стандартизировал маштабирование признаков для трех выборок."
   ]
  },
  {
   "cell_type": "markdown",
   "metadata": {},
   "source": [
    "## Исследование задачи"
   ]
  },
  {
   "cell_type": "markdown",
   "metadata": {},
   "source": [
    "Проверим выборку на дисбаланс классов"
   ]
  },
  {
   "cell_type": "code",
   "execution_count": 20,
   "metadata": {},
   "outputs": [
    {
     "data": {
      "text/plain": [
       "0    0.798\n",
       "1    0.202\n",
       "Name: Exited, dtype: float64"
      ]
     },
     "execution_count": 20,
     "metadata": {},
     "output_type": "execute_result"
    },
    {
     "data": {
      "image/png": "[encoded data removed]",
      "text/plain": [
       "<Figure size 300x300 with 1 Axes>"
      ]
     },
     "metadata": {},
     "output_type": "display_data"
    }
   ],
   "source": [
    "# Смотрим дисбаланс классов\n",
    "target_train.plot(kind ='hist', bins=2, figsize=(3,3))\n",
    "target_train.value_counts(normalize = True)"
   ]
  },
  {
   "cell_type": "markdown",
   "metadata": {},
   "source": [
    "В нашей выборке отрицательных ответов  ≈ 80% , положитительных ≈ 20%. С уверенностью можем сказать, что имеется дисбаланс. "
   ]
  },
  {
   "cell_type": "markdown",
   "metadata": {},
   "source": [
    "### Изучим модели без учета дисбаланса"
   ]
  },
  {
   "cell_type": "code",
   "execution_count": 21,
   "metadata": {},
   "outputs": [],
   "source": [
    "# функция для изучения точности, полноты и F1-меры\n",
    "def rec_prec_f1(target_valid, prediction):\n",
    "    print(\"Точность\", precision_score(target_valid, prediction))\n",
    "    print(\"Полнота\" , recall_score(target_valid, prediction))\n",
    "    print(\"F1-мера\", f1_score(target_valid, prediction))"
   ]
  },
  {
   "cell_type": "code",
   "execution_count": 22,
   "metadata": {},
   "outputs": [],
   "source": [
    "# функция для изучения метрики AUC_ROC\n",
    "def auc_roc_digit (model):\n",
    "    probabilities_valid = model.predict_proba(features_valid)\n",
    "    probabilities_one_valid = probabilities_valid[:, 1]\n",
    "\n",
    "    auc_roc = roc_auc_score(target_valid, probabilities_one_valid)\n",
    "    return auc_roc"
   ]
  },
  {
   "cell_type": "markdown",
   "metadata": {},
   "source": [
    "Исследуем модели классификации до учета дисбаланса, оценим качество моделей по F1-мере и AUC-ROC."
   ]
  },
  {
   "cell_type": "code",
   "execution_count": 23,
   "metadata": {},
   "outputs": [
    {
     "name": "stdout",
     "output_type": "stream",
     "text": [
      "best max_depth = 7\n",
      "Точность 0.4681818181818182\n",
      "Полнота 0.515\n",
      "F1-мера 0.49047619047619057\n"
     ]
    }
   ],
   "source": [
    "# DecisionTreeClassifier\n",
    "best_model_dtc = None\n",
    "best_result_dtc = 0\n",
    "best_max_depth_dtc = 0\n",
    "\n",
    "for depth in range(1, 101):\n",
    "    model_dtc = DecisionTreeClassifier(random_state=54321, max_depth=depth).fit(features_train, target_train) \n",
    "    predictions_valid_dtc = model_dtc.predict(features_valid) # предсказания модели\n",
    "    result_dtc = f1_score(target_valid, predictions_valid_dtc) # качество модели\n",
    "    if result_dtc > best_result_dtc:\n",
    "        best_model_dtc = model_dtc\n",
    "        best_result_dtc = result_dtc\n",
    "        best_max_depth_dtc = depth\n",
    "\n",
    "print('best max_depth =', best_max_depth_dtc)\n",
    "rec_prec_f1(target_valid, predictions_valid_dtc)"
   ]
  },
  {
   "cell_type": "code",
   "execution_count": 24,
   "metadata": {},
   "outputs": [
    {
     "data": {
      "text/plain": [
       "array([[1366,  234],\n",
       "       [ 194,  206]], dtype=int64)"
      ]
     },
     "execution_count": 24,
     "metadata": {},
     "output_type": "execute_result"
    }
   ],
   "source": [
    "#смотрим матрицу ошибок\n",
    "confusion_matrix(target_valid, predictions_valid_dtc)"
   ]
  },
  {
   "cell_type": "markdown",
   "metadata": {},
   "source": [
    "##### Вывод\n",
    "Решающее дерево часто выдает неверные предсказания (FN) и (FP). Низкое значение F1-меры, соответсвенно низкое качество модели, проблема в точности и полноте."
   ]
  },
  {
   "cell_type": "code",
   "execution_count": 25,
   "metadata": {
    "scrolled": true
   },
   "outputs": [
    {
     "name": "stderr",
     "output_type": "stream",
     "text": [
      "100%|██████████| 20/20 [04:48<00:00, 14.45s/it]"
     ]
    },
    {
     "name": "stdout",
     "output_type": "stream",
     "text": [
      "best est = 41\n",
      "best max_depth = 18\n",
      "Точность 0.7531914893617021\n",
      "Полнота 0.4425\n",
      "F1-мера 0.5574803149606299\n"
     ]
    },
    {
     "name": "stderr",
     "output_type": "stream",
     "text": [
      "\n"
     ]
    }
   ],
   "source": [
    "# RandomForestClassifier\n",
    "\n",
    "best_model_rfc = None\n",
    "best_est_rfc = 0\n",
    "best_result_rfc = 0\n",
    "best_depth_rfc = 0\n",
    "\n",
    "\n",
    "for depth in tqdm(range(1, 21)):\n",
    "    for est in range(1, 51):\n",
    "        model_rfc = RandomForestClassifier(random_state=54321, n_estimators=est, max_depth = depth).fit(features_train, target_train)\n",
    "        predictions_valid_rfc = model_rfc.predict(features_valid)\n",
    "        result_rfc = f1_score(predictions_valid_rfc, target_valid)\n",
    "        if best_result_rfc < result_rfc:\n",
    "            best_model_rfc = model_rfc\n",
    "            best_est_rfc = est\n",
    "            best_result_rfc = result_rfc\n",
    "            best_depth_rfc = depth\n",
    "            \n",
    "print('best est =', best_est_rfc)\n",
    "print('best max_depth =', best_depth_rfc) \n",
    "rec_prec_f1(target_valid, predictions_valid_rfc)"
   ]
  },
  {
   "cell_type": "code",
   "execution_count": 26,
   "metadata": {},
   "outputs": [
    {
     "data": {
      "text/plain": [
       "array([[1542,   58],\n",
       "       [ 223,  177]], dtype=int64)"
      ]
     },
     "execution_count": 26,
     "metadata": {},
     "output_type": "execute_result"
    }
   ],
   "source": [
    "confusion_matrix(target_valid, predictions_valid_rfc)"
   ]
  },
  {
   "cell_type": "markdown",
   "metadata": {},
   "source": [
    "##### Вывод\n",
    "Случайный лес часто выдает ложно отрицательные предсказания (FN). Низкое значение F1-меры, соответсвенно низкое качество модели, проблема в полноте. Высокая точность модели объясняется высокой долей негативных ответов в валидационной выборке"
   ]
  },
  {
   "cell_type": "code",
   "execution_count": 27,
   "metadata": {},
   "outputs": [
    {
     "name": "stdout",
     "output_type": "stream",
     "text": [
      "Точность 0.7064220183486238\n",
      "Полнота 0.1925\n",
      "F1-мера 0.30255402750491156\n"
     ]
    }
   ],
   "source": [
    "# Logistic Regression\n",
    "model_lr = LogisticRegression (random_state=54321).fit(features_train, target_train)\n",
    "predictions_valid_lr = model_lr.predict(features_valid)\n",
    "best_result_lr = f1_score(predictions_valid_lr, target_valid)\n",
    "\n",
    "rec_prec_f1(target_valid, predictions_valid_lr)"
   ]
  },
  {
   "cell_type": "code",
   "execution_count": 28,
   "metadata": {},
   "outputs": [
    {
     "data": {
      "text/plain": [
       "array([[1568,   32],\n",
       "       [ 323,   77]], dtype=int64)"
      ]
     },
     "execution_count": 28,
     "metadata": {},
     "output_type": "execute_result"
    }
   ],
   "source": [
    "confusion_matrix(target_valid, predictions_valid_lr)"
   ]
  },
  {
   "cell_type": "markdown",
   "metadata": {},
   "source": [
    "##### Вывод\n",
    "Логичстическая регрессия часто выдает ложно отрицательные предсказания (FN). Низкое значение F1-меры, соответсвенно низкое качество модели, проблема в полноте."
   ]
  },
  {
   "cell_type": "markdown",
   "metadata": {},
   "source": [
    "### Общий вывод по моделям без учета дисбаланса\n",
    "Рассматривая данные с дисбалансом по трем моделями можно сделать вывод, что самая лучшая модель оказалась Случайный лес. При лучшем значении гиперпараметров est = 28, max_depth = 15, мы имеем F1 меру =0.570 на валидационной выборке."
   ]
  },
  {
   "cell_type": "markdown",
   "metadata": {},
   "source": [
    "## Борьба с дисбалансом"
   ]
  },
  {
   "cell_type": "markdown",
   "metadata": {},
   "source": [
    "Раннее мы выяснили, что в нашей выборке положительных ответов 20%, а отрицательных 80%, cоотношение 1:4. Значит нужно увеличить количество положительных ответов в 4 раза или уменьшить количество отрицательных в 4 раза."
   ]
  },
  {
   "cell_type": "code",
   "execution_count": 29,
   "metadata": {},
   "outputs": [],
   "source": [
    "##Функция для увеличения класса в выборке \n",
    "def upsample(features, target, repeat):\n",
    "    features_zeros = features[target == 0]\n",
    "    features_ones = features[target == 1]\n",
    "    target_zeros = target[target == 0]\n",
    "    target_ones = target[target == 1]\n",
    "\n",
    "    #Увеличиваем и соединяем обратно\n",
    "    features_upsampled = pd.concat([features_zeros] + [features_ones] * repeat)\n",
    "    target_upsampled = pd.concat([target_zeros] + [target_ones] * repeat)\n",
    "    \n",
    "    # Перемешиваем\n",
    "    features_upsampled, target_upsampled = shuffle(\n",
    "        features_upsampled, target_upsampled, random_state=54321)\n",
    "    \n",
    "    return features_upsampled, target_upsampled"
   ]
  },
  {
   "cell_type": "code",
   "execution_count": 30,
   "metadata": {},
   "outputs": [
    {
     "name": "stdout",
     "output_type": "stream",
     "text": [
      "1    0.503113\n",
      "0    0.496887\n",
      "Name: Exited, dtype: float64\n"
     ]
    },
    {
     "data": {
      "image/png": "[encoded data removed]",
      "text/plain": [
       "<Figure size 300x300 with 1 Axes>"
      ]
     },
     "metadata": {},
     "output_type": "display_data"
    }
   ],
   "source": [
    "features_train_upsampled, target_train_upsampled = upsample(features_train, target_train, 4)\n",
    "target_train_upsampled.plot(kind ='hist', bins=3, figsize=(3,3))\n",
    "print(target_train_upsampled.value_counts(normalize = 1))"
   ]
  },
  {
   "cell_type": "markdown",
   "metadata": {},
   "source": [
    "Хотя функция уже балансирует выборку, чек-лист просит применить несколько способов борьбы с дисбалансом. Рассмотрим функцию уменьшение выборки."
   ]
  },
  {
   "cell_type": "code",
   "execution_count": 31,
   "metadata": {},
   "outputs": [],
   "source": [
    "def downsample(features, target, fraction):\n",
    "    features_zeros = features[target == 0]\n",
    "    features_ones = features[target == 1]\n",
    "    target_zeros = target[target == 0]\n",
    "    target_ones = target[target == 1]\n",
    "\n",
    "    features_downsampled = pd.concat(\n",
    "        [features_zeros.sample(frac=fraction, random_state=54321)] + [features_ones])\n",
    "    target_downsampled = pd.concat(\n",
    "        [target_zeros.sample(frac=fraction, random_state=54321)] + [target_ones])\n",
    "    \n",
    "    features_downsampled, target_downsampled = shuffle(\n",
    "        features_downsampled, target_downsampled, random_state=54321)\n",
    "    \n",
    "    return features_downsampled, target_downsampled"
   ]
  },
  {
   "cell_type": "code",
   "execution_count": 32,
   "metadata": {},
   "outputs": [
    {
     "name": "stdout",
     "output_type": "stream",
     "text": [
      "1    0.503113\n",
      "0    0.496887\n",
      "Name: Exited, dtype: float64\n"
     ]
    },
    {
     "data": {
      "image/png": "[encoded data removed]",
      "text/plain": [
       "<Figure size 300x300 with 1 Axes>"
      ]
     },
     "metadata": {},
     "output_type": "display_data"
    }
   ],
   "source": [
    "features_downsampled, target_downsampled = downsample(features_train, target_train, 0.25)\n",
    "target_downsampled.plot(kind ='hist', bins=3, figsize=(3,3))\n",
    "print(target_train_upsampled.value_counts(normalize = 1))"
   ]
  },
  {
   "cell_type": "markdown",
   "metadata": {},
   "source": [
    "Выборка сбалансирована, обучим модели."
   ]
  },
  {
   "cell_type": "code",
   "execution_count": 34,
   "metadata": {},
   "outputs": [
    {
     "name": "stdout",
     "output_type": "stream",
     "text": [
      "Старые значения Решающего дерева:\n",
      "best max_depth = 7\n",
      "Точность 0.4681818181818182\n",
      "Полнота 0.515\n",
      "F1-мера 0.49047619047619057\n",
      "\n",
      "Новые значения Решающего дерева:\n",
      "best max_depth = 7\n",
      "Точность 0.4713216957605985\n",
      "Полнота 0.4725\n",
      "F1-мера 0.47191011235955055\n"
     ]
    }
   ],
   "source": [
    "best_model_dtc_new = None\n",
    "best_result_dtc_new = 0\n",
    "best_max_depth_dtc_new = 0\n",
    "\n",
    "for depth in range(1, 101):\n",
    "    model_dtc_new = DecisionTreeClassifier(random_state=54321, max_depth=depth).fit(features_train_upsampled, target_train_upsampled) \n",
    "    predictions_valid_dtc_new = model_dtc_new.predict(features_valid) # предсказания модели\n",
    "    result_dtc = f1_score(target_valid, predictions_valid_dtc_new) # качество модели\n",
    "    if result_dtc > best_result_dtc_new:\n",
    "        best_model_dtc_new = model_dtc\n",
    "        best_result_dtc_new = result_dtc\n",
    "        best_max_depth_dtc_new = depth\n",
    "\n",
    "\n",
    "print(\"Старые значения Решающего дерева:\\n\"\n",
    "    \"best max_depth = 7\\n\"\n",
    "    \"Точность 0.4681818181818182\\n\"\n",
    "    \"Полнота 0.515\\n\"\n",
    "    \"F1-мера 0.49047619047619057\") \n",
    "print(\"\\nНовые значения Решающего дерева:\") \n",
    "print('best max_depth =', best_max_depth_dtc)\n",
    "rec_prec_f1(target_valid, predictions_valid_dtc_new)"
   ]
  },
  {
   "cell_type": "markdown",
   "metadata": {},
   "source": [
    "##### Вывод\n",
    "Модель решающее дерево качественно упала по всем показателям."
   ]
  },
  {
   "cell_type": "code",
   "execution_count": 35,
   "metadata": {},
   "outputs": [
    {
     "name": "stderr",
     "output_type": "stream",
     "text": [
      "100%|██████████| 20/20 [06:27<00:00, 19.39s/it]"
     ]
    },
    {
     "name": "stdout",
     "output_type": "stream",
     "text": [
      "Старые значения Случайного леса:\n",
      "best est = 41\n",
      "best max_depth = 18\n",
      "Точность 0.7531914893617021\n",
      "Полнота 0.4425\n",
      "F1-мера 0.5574803149606299\n",
      "\n",
      "Новые значения Случайного леса:\n",
      "best est = 50\n",
      "best max_depth = 20\n",
      "Точность 0.6787878787878788\n",
      "Полнота 0.56\n",
      "F1-мера 0.6136986301369864\n"
     ]
    },
    {
     "name": "stderr",
     "output_type": "stream",
     "text": [
      "\n"
     ]
    }
   ],
   "source": [
    "best_model_rfc_new = None\n",
    "best_est_rfc_new = 0\n",
    "best_result_rfc_new = 0\n",
    "best_depth_rfc_new = 0\n",
    "\n",
    "\n",
    "for depth in tqdm(range(1, 21)):\n",
    "    for est in range(1, 51):\n",
    "        model_rfc_new = RandomForestClassifier(random_state=54321, n_estimators=est, max_depth = depth).fit(features_train_upsampled, target_train_upsampled)\n",
    "        predictions_valid_rfc_new = model_rfc_new.predict(features_valid)\n",
    "        result_rfc = f1_score(predictions_valid_rfc_new, target_valid)\n",
    "        if best_result_rfc < result_rfc:\n",
    "            best_model_rfc_new = model_rfc\n",
    "            best_est_rfc_new = est\n",
    "            best_result_rfc_new = result_rfc\n",
    "            best_depth_rfc_new = depth\n",
    " \n",
    "\n",
    "print(\"Старые значения Случайного леса:\\n\"\n",
    "    \"best est = 41\\n\"\n",
    "    \"best max_depth = 18\\n\"\n",
    "    \"Точность 0.7531914893617021\\n\"\n",
    "    \"Полнота 0.4425\\n\"\n",
    "    \"F1-мера 0.5574803149606299\") \n",
    "print(\"\\nНовые значения Случайного леса:\") \n",
    "print('best est =', best_est_rfc_new)\n",
    "print('best max_depth =', best_depth_rfc_new) \n",
    "rec_prec_f1(target_valid, predictions_valid_rfc_new)"
   ]
  },
  {
   "cell_type": "markdown",
   "metadata": {},
   "source": [
    "##### Вывод\n",
    "Модель случайный лес качественно выросла и уже показывает резульаты F1 меры = 0.613, что выше нашего целевого целевого значения (0.59)."
   ]
  },
  {
   "cell_type": "code",
   "execution_count": 36,
   "metadata": {},
   "outputs": [
    {
     "name": "stdout",
     "output_type": "stream",
     "text": [
      "Старые значения Логистической регрессии:\n",
      "Точность 0.7064220183486238\n",
      "Полнота 0.1925\n",
      "F1-мера 0.30255402750491156\n",
      "\n",
      "Новые значения Случайного леса:\n",
      "Точность 0.39357429718875503\n",
      "Полнота 0.735\n",
      "F1-мера 0.5126416739319966\n"
     ]
    }
   ],
   "source": [
    "model_lr_new = LogisticRegression (random_state=54321).fit(features_train_upsampled, target_train_upsampled)\n",
    "predictions_valid_lr_new = model_lr_new.predict(features_valid)\n",
    "best_result_lr = f1_score(predictions_valid_lr_new, target_valid)\n",
    "\n",
    "print(\"Старые значения Логистической регрессии:\\n\"\n",
    "    \"Точность 0.7064220183486238\\n\"\n",
    "    \"Полнота 0.1925\\n\"\n",
    "    \"F1-мера 0.30255402750491156\") \n",
    "print(\"\\nНовые значения Случайного леса:\") \n",
    "rec_prec_f1(target_valid, predictions_valid_lr_new)"
   ]
  },
  {
   "cell_type": "markdown",
   "metadata": {},
   "source": [
    "##### Вывод\n",
    "Модель логистическая регрессия качественно выросла, но недостаточно для целевого показателя."
   ]
  },
  {
   "cell_type": "markdown",
   "metadata": {},
   "source": [
    "### Общий вывод по моделям с учетом дисбаланса\n",
    "* Показатели всех моделей улучшились, кроме Решающего дерева. \n",
    "* Лучшие результаты показывает модель случайный лес (RandomForestClassifier). На валидационной выборке показывает резульаты F1 меры = 0.613, что выше целевого целевого значения."
   ]
  },
  {
   "cell_type": "markdown",
   "metadata": {},
   "source": [
    "## Исследование метрики AUC-ROC"
   ]
  },
  {
   "cell_type": "markdown",
   "metadata": {},
   "source": [
    "Сравним AUC-ROC метрики разных моделей"
   ]
  },
  {
   "cell_type": "code",
   "execution_count": 37,
   "metadata": {},
   "outputs": [],
   "source": [
    "# функция для графика по auc-roc\n",
    "def auc_roc_plot (model):\n",
    "    probabilities_valid = model.predict_proba(features_valid)\n",
    "    probabilities_one_valid = probabilities_valid[:, 1]\n",
    "\n",
    "    fpr, tpr, thresholds=roc_curve(target_valid, probabilities_one_valid)\n",
    "    return fpr, tpr"
   ]
  },
  {
   "cell_type": "code",
   "execution_count": 38,
   "metadata": {},
   "outputs": [
    {
     "data": {
      "image/png": "[encoded data removed]",
      "text/plain": [
       "<Figure size 1000x700 with 1 Axes>"
      ]
     },
     "metadata": {},
     "output_type": "display_data"
    },
    {
     "name": "stdout",
     "output_type": "stream",
     "text": [
      "Метрика ROC-кривая: для Решающего дерева = 0.6843750000000001\n",
      "Метрика ROC-кривая: для Случайного леса = 0.8472828124999999\n",
      "Метрика ROC-кривая: для Логистической регрессии = 0.7814828125\n"
     ]
    }
   ],
   "source": [
    "plt.figure(figsize=(10,7))\n",
    "plt.plot([0, 1], [0, 1], linestyle='--')\n",
    "plt.xlim([0.0, 1.0])\n",
    "plt.ylim([0.0, 1.0])\n",
    "list1, list2 = auc_roc_plot(model_dtc)\n",
    "plt.plot(list1, list2)\n",
    "list1, list2 = auc_roc_plot(model_rfc)\n",
    "plt.plot(list1, list2)\n",
    "list1, list2 = auc_roc_plot(model_lr)\n",
    "plt.plot(list1, list2)\n",
    "plt.xlabel('False Positive Rate')\n",
    "plt.ylabel('True Positive Rate')\n",
    "plt.title('ROC-кривая моделей с дисбалансом')\n",
    "plt.legend(('Случайная модель','Решающее дерево','Случайный лес','Логистическая регрессия'),\n",
    "           loc= 'upper left') \n",
    "plt.show()\n",
    "\n",
    "print(\"Метрика ROC-кривая: для Решающего дерева =\", auc_roc_digit (model_dtc))\n",
    "print(\"Метрика ROC-кривая: для Случайного леса =\", auc_roc_digit (model_rfc))\n",
    "print(\"Метрика ROC-кривая: для Логистической регрессии =\", auc_roc_digit (model_lr))"
   ]
  },
  {
   "cell_type": "code",
   "execution_count": 39,
   "metadata": {},
   "outputs": [
    {
     "data": {
      "image/png": "[encoded data removed]",
      "text/plain": [
       "<Figure size 1000x700 with 1 Axes>"
      ]
     },
     "metadata": {},
     "output_type": "display_data"
    },
    {
     "name": "stdout",
     "output_type": "stream",
     "text": [
      "Метрика ROC-кривая: для Решающего дерева = 0.6699999999999999\n",
      "Метрика ROC-кривая: для Случайного леса = 0.8412835937500002\n",
      "Метрика ROC-кривая: для Логистической регрессии = 0.7854484374999999\n"
     ]
    }
   ],
   "source": [
    "plt.figure(figsize=(10,7))\n",
    "plt.plot([0, 1], [0, 1], linestyle='--')\n",
    "plt.xlim([0.0, 1.0])\n",
    "plt.ylim([0.0, 1.0])\n",
    "list1, list2 = auc_roc_plot(model_dtc_new)\n",
    "plt.plot(list1, list2)\n",
    "list1, list2 = auc_roc_plot(model_rfc_new)\n",
    "plt.plot(list1, list2)\n",
    "list1, list2 = auc_roc_plot(model_lr_new)\n",
    "plt.plot(list1, list2)\n",
    "plt.xlabel('False Positive Rate')\n",
    "plt.ylabel('True Positive Rate')\n",
    "plt.title('ROC-кривая новых моделей')\n",
    "plt.legend(('Случайная модель','Решающее дерево','Случайный лес','Логистическая регрессия'),\n",
    "           loc= 'upper left') \n",
    "plt.show()\n",
    "\n",
    "print(\"Метрика ROC-кривая: для Решающего дерева =\", auc_roc_digit (model_dtc_new))\n",
    "print(\"Метрика ROC-кривая: для Случайного леса =\", auc_roc_digit (model_rfc_new))\n",
    "print(\"Метрика ROC-кривая: для Логистической регрессии =\", auc_roc_digit (model_lr_new))"
   ]
  },
  {
   "cell_type": "markdown",
   "metadata": {},
   "source": [
    "### Вывод \n",
    "* Лучший результат AUC_ROC метрики показывает модель случайного лес (RandomForestClassifier). \n",
    "* Дисбаланс в выборке незначительно повлиял на метрику AUC_ROC."
   ]
  },
  {
   "cell_type": "markdown",
   "metadata": {},
   "source": [
    "## Тестирование модели"
   ]
  },
  {
   "cell_type": "markdown",
   "metadata": {},
   "source": [
    "Проведем тест модели показавший лучший результат - Случайный лес (RandomForestClassifier)"
   ]
  },
  {
   "cell_type": "code",
   "execution_count": 40,
   "metadata": {},
   "outputs": [
    {
     "name": "stdout",
     "output_type": "stream",
     "text": [
      "Точность 0.6513513513513514\n",
      "Полнота 0.5670588235294117\n",
      "F1-мера 0.6062893081761006\n"
     ]
    }
   ],
   "source": [
    "#Обучим финальную модель\n",
    "model_final = RandomForestClassifier(\n",
    "    class_weight = 'balanced', max_depth= 20,  n_estimators = 50, random_state=35434\n",
    "    ).fit(features_train_upsampled, target_train_upsampled)\n",
    "model_final_prediction = model_final.predict(features_test)\n",
    "\n",
    "rec_prec_f1(target_test, model_final_prediction)"
   ]
  },
  {
   "cell_type": "markdown",
   "metadata": {},
   "source": [
    "Целевой показатель (F1-мера выше 0.59) получен."
   ]
  },
  {
   "cell_type": "code",
   "execution_count": 41,
   "metadata": {},
   "outputs": [
    {
     "data": {
      "image/png": "[encoded data removed]",
      "text/plain": [
       "<Figure size 1000x700 with 1 Axes>"
      ]
     },
     "metadata": {},
     "output_type": "display_data"
    },
    {
     "name": "stdout",
     "output_type": "stream",
     "text": [
      "Метрика ROC-кривая: для Случайного леса = 0.8420679687500001\n"
     ]
    }
   ],
   "source": [
    "plt.figure(figsize=(10,7))\n",
    "plt.plot([0, 1], [0, 1], linestyle='--')\n",
    "plt.xlim([0.0, 1.0])\n",
    "plt.ylim([0.0, 1.0])\n",
    "list1, list2 = auc_roc_plot(model_final)\n",
    "plt.plot(list1, list2)\n",
    "plt.xlabel('False Positive Rate')\n",
    "plt.ylabel('True Positive Rate')\n",
    "plt.title('ROC-кривая')\n",
    "plt.legend(('Случайная модель','Случайный лес'),\n",
    "           loc= 'upper left') \n",
    "plt.show()\n",
    "print(\"Метрика ROC-кривая: для Случайного леса =\", auc_roc_digit (model_final))"
   ]
  },
  {
   "cell_type": "markdown",
   "metadata": {},
   "source": [
    "Значение площади над константной прямой, модель адекватна."
   ]
  },
  {
   "cell_type": "markdown",
   "metadata": {},
   "source": [
    "## Общий вывод"
   ]
  },
  {
   "cell_type": "markdown",
   "metadata": {},
   "source": [
    "* Изучил и подготовил данные к исследованию.\n",
    "* Изучил влияние дисбаланса классов на модели классификации применяя метрики, такие как *F1-мера* и *AUC_ROC*.\n",
    "* Применил методы для преобразования дисбаланса классов, такие как *upsample* и *downsample*.\n",
    "* Провел тестирование моделей, в ходе которой лучший результат показала модель  *RandomForestClassifier*: \n",
    "    \n",
    "    Точность = 0.6513513513513514,\n",
    "    Полнота = 0.5670588235294117, \n",
    "    F1-мера = 0.6062893081761006, \n",
    "    AUC_ROC = 0.8420679687500001.   "
   ]
  }
 ],
 "metadata": {
  "ExecuteTimeLog": [
   {
    "duration": 1670,
    "start_time": "2023-01-14T01:22:58.605Z"
   },
   {
    "duration": 171,
    "start_time": "2023-01-14T01:23:00.277Z"
   },
   {
    "duration": 0,
    "start_time": "2023-01-14T01:23:00.453Z"
   },
   {
    "duration": 0,
    "start_time": "2023-01-14T01:23:00.456Z"
   },
   {
    "duration": 0,
    "start_time": "2023-01-14T01:23:00.457Z"
   },
   {
    "duration": 0,
    "start_time": "2023-01-14T01:23:00.458Z"
   },
   {
    "duration": 0,
    "start_time": "2023-01-14T01:23:00.459Z"
   },
   {
    "duration": 0,
    "start_time": "2023-01-14T01:23:00.460Z"
   },
   {
    "duration": 0,
    "start_time": "2023-01-14T01:23:00.462Z"
   },
   {
    "duration": 0,
    "start_time": "2023-01-14T01:23:00.463Z"
   },
   {
    "duration": 0,
    "start_time": "2023-01-14T01:23:00.464Z"
   },
   {
    "duration": 0,
    "start_time": "2023-01-14T01:23:00.465Z"
   },
   {
    "duration": 0,
    "start_time": "2023-01-14T01:23:00.466Z"
   },
   {
    "duration": 0,
    "start_time": "2023-01-14T01:23:00.467Z"
   },
   {
    "duration": 0,
    "start_time": "2023-01-14T01:23:00.468Z"
   },
   {
    "duration": 0,
    "start_time": "2023-01-14T01:23:00.470Z"
   },
   {
    "duration": 0,
    "start_time": "2023-01-14T01:23:00.471Z"
   },
   {
    "duration": 0,
    "start_time": "2023-01-14T01:23:00.472Z"
   },
   {
    "duration": 0,
    "start_time": "2023-01-14T01:23:00.473Z"
   },
   {
    "duration": 0,
    "start_time": "2023-01-14T01:23:00.475Z"
   },
   {
    "duration": 0,
    "start_time": "2023-01-14T01:23:00.476Z"
   },
   {
    "duration": 0,
    "start_time": "2023-01-14T01:23:00.477Z"
   },
   {
    "duration": 0,
    "start_time": "2023-01-14T01:23:00.479Z"
   },
   {
    "duration": 0,
    "start_time": "2023-01-14T01:23:00.480Z"
   },
   {
    "duration": 0,
    "start_time": "2023-01-14T01:23:00.482Z"
   },
   {
    "duration": 0,
    "start_time": "2023-01-14T01:23:00.483Z"
   },
   {
    "duration": 0,
    "start_time": "2023-01-14T01:23:00.522Z"
   },
   {
    "duration": 0,
    "start_time": "2023-01-14T01:23:00.526Z"
   },
   {
    "duration": 0,
    "start_time": "2023-01-14T01:23:00.529Z"
   },
   {
    "duration": 0,
    "start_time": "2023-01-14T01:23:00.530Z"
   },
   {
    "duration": 0,
    "start_time": "2023-01-14T01:23:00.531Z"
   },
   {
    "duration": 0,
    "start_time": "2023-01-14T01:23:00.532Z"
   },
   {
    "duration": 0,
    "start_time": "2023-01-14T01:23:00.535Z"
   },
   {
    "duration": 0,
    "start_time": "2023-01-14T01:23:00.536Z"
   },
   {
    "duration": 0,
    "start_time": "2023-01-14T01:23:00.537Z"
   },
   {
    "duration": 3,
    "start_time": "2023-01-14T01:23:00.858Z"
   },
   {
    "duration": 196,
    "start_time": "2023-01-14T01:23:00.863Z"
   },
   {
    "duration": 0,
    "start_time": "2023-01-14T01:23:01.061Z"
   },
   {
    "duration": 0,
    "start_time": "2023-01-14T01:23:01.062Z"
   },
   {
    "duration": 0,
    "start_time": "2023-01-14T01:23:01.064Z"
   },
   {
    "duration": 100,
    "start_time": "2023-01-14T01:23:01.151Z"
   },
   {
    "duration": 1536,
    "start_time": "2023-01-14T01:23:40.001Z"
   },
   {
    "duration": 211,
    "start_time": "2023-01-14T01:23:41.539Z"
   },
   {
    "duration": 91,
    "start_time": "2023-01-14T01:23:41.752Z"
   },
   {
    "duration": 9,
    "start_time": "2023-01-14T01:23:41.851Z"
   },
   {
    "duration": 8,
    "start_time": "2023-01-14T01:23:41.862Z"
   },
   {
    "duration": 523,
    "start_time": "2023-01-14T01:23:41.871Z"
   },
   {
    "duration": 5,
    "start_time": "2023-01-14T01:23:42.395Z"
   },
   {
    "duration": 21,
    "start_time": "2023-01-14T01:23:42.401Z"
   },
   {
    "duration": 25,
    "start_time": "2023-01-14T01:23:42.423Z"
   },
   {
    "duration": 1350,
    "start_time": "2023-01-14T01:23:42.452Z"
   },
   {
    "duration": 47,
    "start_time": "2023-01-14T01:23:43.803Z"
   },
   {
    "duration": 5,
    "start_time": "2023-01-14T01:23:43.851Z"
   },
   {
    "duration": 21,
    "start_time": "2023-01-14T01:23:43.857Z"
   },
   {
    "duration": 6,
    "start_time": "2023-01-14T01:23:43.879Z"
   },
   {
    "duration": 5,
    "start_time": "2023-01-14T01:23:43.886Z"
   },
   {
    "duration": 6,
    "start_time": "2023-01-14T01:23:43.893Z"
   },
   {
    "duration": 39,
    "start_time": "2023-01-14T01:23:43.900Z"
   },
   {
    "duration": 13,
    "start_time": "2023-01-14T01:23:43.941Z"
   },
   {
    "duration": 125,
    "start_time": "2023-01-14T01:23:43.955Z"
   },
   {
    "duration": 4,
    "start_time": "2023-01-14T01:23:44.082Z"
   },
   {
    "duration": 10,
    "start_time": "2023-01-14T01:23:44.088Z"
   },
   {
    "duration": 2909,
    "start_time": "2023-01-14T01:23:44.100Z"
   },
   {
    "duration": 25,
    "start_time": "2023-01-14T01:23:47.010Z"
   },
   {
    "duration": 139533,
    "start_time": "2023-01-14T01:23:47.037Z"
   },
   {
    "duration": 6,
    "start_time": "2023-01-14T01:26:06.572Z"
   },
   {
    "duration": 852,
    "start_time": "2023-01-14T01:26:06.580Z"
   },
   {
    "duration": 19,
    "start_time": "2023-01-14T01:26:07.435Z"
   },
   {
    "duration": 32,
    "start_time": "2023-01-14T01:26:07.525Z"
   },
   {
    "duration": 116,
    "start_time": "2023-01-14T01:26:07.559Z"
   },
   {
    "duration": 4,
    "start_time": "2023-01-14T01:26:07.677Z"
   },
   {
    "duration": 122,
    "start_time": "2023-01-14T01:26:07.682Z"
   },
   {
    "duration": 3562,
    "start_time": "2023-01-14T01:26:07.806Z"
   },
   {
    "duration": 192776,
    "start_time": "2023-01-14T01:26:11.370Z"
   },
   {
    "duration": 131,
    "start_time": "2023-01-14T01:29:24.148Z"
   },
   {
    "duration": 0,
    "start_time": "2023-01-14T01:29:24.281Z"
   },
   {
    "duration": 0,
    "start_time": "2023-01-14T01:29:24.283Z"
   },
   {
    "duration": 0,
    "start_time": "2023-01-14T01:29:24.285Z"
   },
   {
    "duration": 0,
    "start_time": "2023-01-14T01:29:24.286Z"
   },
   {
    "duration": 0,
    "start_time": "2023-01-14T01:29:24.288Z"
   },
   {
    "duration": 0,
    "start_time": "2023-01-14T01:29:24.289Z"
   },
   {
    "duration": 525,
    "start_time": "2023-01-14T01:29:39.442Z"
   },
   {
    "duration": 3,
    "start_time": "2023-01-14T01:29:45.106Z"
   },
   {
    "duration": 478,
    "start_time": "2023-01-14T01:29:48.154Z"
   },
   {
    "duration": 498,
    "start_time": "2023-01-14T01:30:02.943Z"
   },
   {
    "duration": 514,
    "start_time": "2023-01-14T01:30:10.075Z"
   },
   {
    "duration": 244,
    "start_time": "2023-01-14T01:30:12.648Z"
   },
   {
    "duration": 4,
    "start_time": "2023-01-14T01:30:59.255Z"
   },
   {
    "duration": 24,
    "start_time": "2023-01-14T01:31:09.756Z"
   },
   {
    "duration": 1434,
    "start_time": "2023-01-14T01:36:08.207Z"
   },
   {
    "duration": 49,
    "start_time": "2023-01-14T01:36:09.643Z"
   },
   {
    "duration": 81,
    "start_time": "2023-01-14T01:36:09.694Z"
   },
   {
    "duration": 5,
    "start_time": "2023-01-14T01:36:09.776Z"
   },
   {
    "duration": 55,
    "start_time": "2023-01-14T01:36:09.783Z"
   },
   {
    "duration": 635,
    "start_time": "2023-01-14T01:36:09.840Z"
   },
   {
    "duration": 5,
    "start_time": "2023-01-14T01:36:10.476Z"
   },
   {
    "duration": 18,
    "start_time": "2023-01-14T01:36:10.482Z"
   },
   {
    "duration": 50,
    "start_time": "2023-01-14T01:36:10.502Z"
   },
   {
    "duration": 1396,
    "start_time": "2023-01-14T01:36:10.554Z"
   },
   {
    "duration": 39,
    "start_time": "2023-01-14T01:36:11.952Z"
   },
   {
    "duration": 4,
    "start_time": "2023-01-14T01:36:11.993Z"
   },
   {
    "duration": 37,
    "start_time": "2023-01-14T01:36:11.999Z"
   },
   {
    "duration": 7,
    "start_time": "2023-01-14T01:36:12.039Z"
   },
   {
    "duration": 11,
    "start_time": "2023-01-14T01:36:12.052Z"
   },
   {
    "duration": 5,
    "start_time": "2023-01-14T01:36:12.064Z"
   },
   {
    "duration": 37,
    "start_time": "2023-01-14T01:36:12.071Z"
   },
   {
    "duration": 28,
    "start_time": "2023-01-14T01:36:12.110Z"
   },
   {
    "duration": 113,
    "start_time": "2023-01-14T01:36:12.148Z"
   },
   {
    "duration": 3,
    "start_time": "2023-01-14T01:36:12.262Z"
   },
   {
    "duration": 7,
    "start_time": "2023-01-14T01:36:12.266Z"
   },
   {
    "duration": 2992,
    "start_time": "2023-01-14T01:36:12.274Z"
   },
   {
    "duration": 6,
    "start_time": "2023-01-14T01:36:15.268Z"
   },
   {
    "duration": 29134,
    "start_time": "2023-01-14T01:36:15.275Z"
   },
   {
    "duration": 0,
    "start_time": "2023-01-14T01:36:44.411Z"
   },
   {
    "duration": 0,
    "start_time": "2023-01-14T01:36:44.412Z"
   },
   {
    "duration": 0,
    "start_time": "2023-01-14T01:36:44.412Z"
   },
   {
    "duration": 0,
    "start_time": "2023-01-14T01:36:44.413Z"
   },
   {
    "duration": 0,
    "start_time": "2023-01-14T01:36:44.424Z"
   },
   {
    "duration": 0,
    "start_time": "2023-01-14T01:36:44.425Z"
   },
   {
    "duration": 0,
    "start_time": "2023-01-14T01:36:44.425Z"
   },
   {
    "duration": 0,
    "start_time": "2023-01-14T01:36:44.426Z"
   },
   {
    "duration": 0,
    "start_time": "2023-01-14T01:36:44.427Z"
   },
   {
    "duration": 0,
    "start_time": "2023-01-14T01:36:44.428Z"
   },
   {
    "duration": 0,
    "start_time": "2023-01-14T01:36:44.428Z"
   },
   {
    "duration": 0,
    "start_time": "2023-01-14T01:36:44.429Z"
   },
   {
    "duration": 0,
    "start_time": "2023-01-14T01:36:44.430Z"
   },
   {
    "duration": 0,
    "start_time": "2023-01-14T01:36:44.430Z"
   },
   {
    "duration": 0,
    "start_time": "2023-01-14T01:36:44.431Z"
   },
   {
    "duration": 1528,
    "start_time": "2023-01-14T14:20:13.294Z"
   },
   {
    "duration": 81,
    "start_time": "2023-01-14T14:20:17.646Z"
   },
   {
    "duration": 70,
    "start_time": "2023-01-14T14:20:19.645Z"
   },
   {
    "duration": 4,
    "start_time": "2023-01-14T14:20:24.184Z"
   },
   {
    "duration": 4,
    "start_time": "2023-01-14T14:20:28.004Z"
   },
   {
    "duration": 543,
    "start_time": "2023-01-14T14:20:32.666Z"
   },
   {
    "duration": 173,
    "start_time": "2023-01-14T14:22:07.667Z"
   },
   {
    "duration": 118,
    "start_time": "2023-01-14T14:22:21.209Z"
   },
   {
    "duration": 107,
    "start_time": "2023-01-14T14:40:04.253Z"
   },
   {
    "duration": 3,
    "start_time": "2023-01-14T14:41:13.961Z"
   },
   {
    "duration": 9,
    "start_time": "2023-01-14T14:41:21.089Z"
   },
   {
    "duration": 4,
    "start_time": "2023-01-14T14:42:25.271Z"
   },
   {
    "duration": 11,
    "start_time": "2023-01-14T14:42:30.573Z"
   },
   {
    "duration": 14,
    "start_time": "2023-01-14T14:43:06.437Z"
   },
   {
    "duration": 5,
    "start_time": "2023-01-14T14:44:15.555Z"
   },
   {
    "duration": 6,
    "start_time": "2023-01-14T14:44:18.360Z"
   },
   {
    "duration": 165,
    "start_time": "2023-01-14T14:44:29.258Z"
   },
   {
    "duration": 1296,
    "start_time": "2023-01-14T14:45:52.699Z"
   },
   {
    "duration": 41,
    "start_time": "2023-01-14T14:45:53.997Z"
   },
   {
    "duration": 66,
    "start_time": "2023-01-14T14:45:54.039Z"
   },
   {
    "duration": 4,
    "start_time": "2023-01-14T14:45:54.107Z"
   },
   {
    "duration": 12,
    "start_time": "2023-01-14T14:45:54.113Z"
   },
   {
    "duration": 514,
    "start_time": "2023-01-14T14:45:54.126Z"
   },
   {
    "duration": 114,
    "start_time": "2023-01-14T14:45:58.158Z"
   },
   {
    "duration": 5,
    "start_time": "2023-01-14T14:46:07.907Z"
   },
   {
    "duration": 146,
    "start_time": "2023-01-14T14:46:10.594Z"
   },
   {
    "duration": 1390,
    "start_time": "2023-01-14T14:47:38.617Z"
   },
   {
    "duration": 44,
    "start_time": "2023-01-14T14:47:40.009Z"
   },
   {
    "duration": 82,
    "start_time": "2023-01-14T14:47:40.054Z"
   },
   {
    "duration": 6,
    "start_time": "2023-01-14T14:47:40.139Z"
   },
   {
    "duration": 8,
    "start_time": "2023-01-14T14:47:40.147Z"
   },
   {
    "duration": 557,
    "start_time": "2023-01-14T14:47:40.157Z"
   },
   {
    "duration": 132,
    "start_time": "2023-01-14T14:47:40.716Z"
   },
   {
    "duration": 121,
    "start_time": "2023-01-14T14:47:48.983Z"
   },
   {
    "duration": 118,
    "start_time": "2023-01-14T14:47:53.063Z"
   },
   {
    "duration": 696,
    "start_time": "2023-01-14T14:50:39.636Z"
   },
   {
    "duration": 4,
    "start_time": "2023-01-14T14:50:58.157Z"
   },
   {
    "duration": 236,
    "start_time": "2023-01-14T14:51:00.857Z"
   },
   {
    "duration": 43,
    "start_time": "2023-01-14T14:57:47.138Z"
   },
   {
    "duration": 1387,
    "start_time": "2023-01-14T14:57:54.420Z"
   },
   {
    "duration": 41,
    "start_time": "2023-01-14T14:57:55.809Z"
   },
   {
    "duration": 69,
    "start_time": "2023-01-14T14:57:55.851Z"
   },
   {
    "duration": 4,
    "start_time": "2023-01-14T14:57:55.922Z"
   },
   {
    "duration": 9,
    "start_time": "2023-01-14T14:57:55.928Z"
   },
   {
    "duration": 527,
    "start_time": "2023-01-14T14:57:55.939Z"
   },
   {
    "duration": 117,
    "start_time": "2023-01-14T14:57:56.467Z"
   },
   {
    "duration": 5,
    "start_time": "2023-01-14T14:57:56.585Z"
   },
   {
    "duration": 132,
    "start_time": "2023-01-14T14:57:56.591Z"
   },
   {
    "duration": 2,
    "start_time": "2023-01-14T14:57:56.725Z"
   },
   {
    "duration": 20,
    "start_time": "2023-01-14T14:58:04.595Z"
   },
   {
    "duration": 972,
    "start_time": "2023-01-14T14:58:12.641Z"
   },
   {
    "duration": 1714,
    "start_time": "2023-01-15T11:17:02.962Z"
   },
   {
    "duration": 367,
    "start_time": "2023-01-15T11:17:04.678Z"
   },
   {
    "duration": 80,
    "start_time": "2023-01-15T11:17:05.046Z"
   },
   {
    "duration": 4,
    "start_time": "2023-01-15T11:17:05.128Z"
   },
   {
    "duration": 20,
    "start_time": "2023-01-15T11:17:05.134Z"
   },
   {
    "duration": 635,
    "start_time": "2023-01-15T11:17:05.155Z"
   },
   {
    "duration": 132,
    "start_time": "2023-01-15T11:17:05.792Z"
   },
   {
    "duration": 5,
    "start_time": "2023-01-15T11:17:05.926Z"
   },
   {
    "duration": 150,
    "start_time": "2023-01-15T11:17:05.932Z"
   },
   {
    "duration": 85,
    "start_time": "2023-01-15T11:17:06.084Z"
   },
   {
    "duration": 0,
    "start_time": "2023-01-15T11:17:06.172Z"
   },
   {
    "duration": 0,
    "start_time": "2023-01-15T11:17:06.174Z"
   },
   {
    "duration": 0,
    "start_time": "2023-01-15T11:17:06.176Z"
   },
   {
    "duration": 0,
    "start_time": "2023-01-15T11:17:06.178Z"
   },
   {
    "duration": 0,
    "start_time": "2023-01-15T11:17:06.179Z"
   },
   {
    "duration": 0,
    "start_time": "2023-01-15T11:17:06.180Z"
   },
   {
    "duration": 0,
    "start_time": "2023-01-15T11:17:06.182Z"
   },
   {
    "duration": 0,
    "start_time": "2023-01-15T11:17:06.183Z"
   },
   {
    "duration": 0,
    "start_time": "2023-01-15T11:17:06.185Z"
   },
   {
    "duration": 0,
    "start_time": "2023-01-15T11:17:06.186Z"
   },
   {
    "duration": 0,
    "start_time": "2023-01-15T11:17:06.187Z"
   },
   {
    "duration": 1551,
    "start_time": "2023-01-15T11:17:44.322Z"
   },
   {
    "duration": 43,
    "start_time": "2023-01-15T11:17:45.875Z"
   },
   {
    "duration": 82,
    "start_time": "2023-01-15T11:17:45.920Z"
   },
   {
    "duration": 5,
    "start_time": "2023-01-15T11:17:46.004Z"
   },
   {
    "duration": 7,
    "start_time": "2023-01-15T11:17:46.011Z"
   },
   {
    "duration": 593,
    "start_time": "2023-01-15T11:17:46.020Z"
   },
   {
    "duration": 146,
    "start_time": "2023-01-15T11:17:46.615Z"
   },
   {
    "duration": 6,
    "start_time": "2023-01-15T11:17:46.763Z"
   },
   {
    "duration": 166,
    "start_time": "2023-01-15T11:17:46.771Z"
   },
   {
    "duration": 13,
    "start_time": "2023-01-15T11:17:46.938Z"
   },
   {
    "duration": 23,
    "start_time": "2023-01-15T11:17:46.953Z"
   },
   {
    "duration": 1177,
    "start_time": "2023-01-15T11:17:46.978Z"
   },
   {
    "duration": 30,
    "start_time": "2023-01-15T11:17:48.157Z"
   },
   {
    "duration": 5,
    "start_time": "2023-01-15T11:17:48.190Z"
   },
   {
    "duration": 12,
    "start_time": "2023-01-15T11:17:48.196Z"
   },
   {
    "duration": 6,
    "start_time": "2023-01-15T11:17:48.211Z"
   },
   {
    "duration": 33,
    "start_time": "2023-01-15T11:17:48.218Z"
   },
   {
    "duration": 5,
    "start_time": "2023-01-15T11:17:48.254Z"
   },
   {
    "duration": 47,
    "start_time": "2023-01-15T11:18:15.801Z"
   },
   {
    "duration": 13,
    "start_time": "2023-01-15T11:18:18.913Z"
   },
   {
    "duration": 117,
    "start_time": "2023-01-15T11:19:13.285Z"
   },
   {
    "duration": 3,
    "start_time": "2023-01-15T11:19:17.910Z"
   },
   {
    "duration": 3,
    "start_time": "2023-01-15T11:19:19.299Z"
   },
   {
    "duration": 3119,
    "start_time": "2023-01-15T11:19:29.432Z"
   },
   {
    "duration": 8,
    "start_time": "2023-01-15T11:19:42.259Z"
   },
   {
    "duration": 152644,
    "start_time": "2023-01-15T11:20:30.600Z"
   },
   {
    "duration": 7,
    "start_time": "2023-01-15T11:23:34.189Z"
   },
   {
    "duration": 319,
    "start_time": "2023-01-15T11:23:39.838Z"
   },
   {
    "duration": 8,
    "start_time": "2023-01-15T11:23:43.982Z"
   },
   {
    "duration": 5,
    "start_time": "2023-01-15T11:27:48.472Z"
   },
   {
    "duration": 117,
    "start_time": "2023-01-15T11:27:58.580Z"
   },
   {
    "duration": 4,
    "start_time": "2023-01-15T11:28:02.360Z"
   },
   {
    "duration": 125,
    "start_time": "2023-01-15T11:28:04.164Z"
   },
   {
    "duration": 3779,
    "start_time": "2023-01-15T11:28:10.223Z"
   },
   {
    "duration": 201477,
    "start_time": "2023-01-15T11:28:58.084Z"
   },
   {
    "duration": 217,
    "start_time": "2023-01-15T11:33:55.135Z"
   },
   {
    "duration": 4,
    "start_time": "2023-01-15T11:34:04.649Z"
   },
   {
    "duration": 451,
    "start_time": "2023-01-15T11:34:07.201Z"
   },
   {
    "duration": 453,
    "start_time": "2023-01-15T11:34:18.002Z"
   },
   {
    "duration": 530,
    "start_time": "2023-01-15T11:34:30.089Z"
   },
   {
    "duration": 239,
    "start_time": "2023-01-15T11:35:00.681Z"
   },
   {
    "duration": 3,
    "start_time": "2023-01-15T11:38:22.049Z"
   },
   {
    "duration": 1622,
    "start_time": "2023-01-15T11:43:52.322Z"
   },
   {
    "duration": 45,
    "start_time": "2023-01-15T11:43:53.946Z"
   },
   {
    "duration": 85,
    "start_time": "2023-01-15T11:43:53.993Z"
   },
   {
    "duration": 6,
    "start_time": "2023-01-15T11:43:54.080Z"
   },
   {
    "duration": 10,
    "start_time": "2023-01-15T11:43:54.089Z"
   },
   {
    "duration": 592,
    "start_time": "2023-01-15T11:43:54.101Z"
   },
   {
    "duration": 158,
    "start_time": "2023-01-15T11:43:54.695Z"
   },
   {
    "duration": 7,
    "start_time": "2023-01-15T11:43:54.856Z"
   },
   {
    "duration": 175,
    "start_time": "2023-01-15T11:43:54.865Z"
   },
   {
    "duration": 10,
    "start_time": "2023-01-15T11:43:55.042Z"
   },
   {
    "duration": 43,
    "start_time": "2023-01-15T11:43:55.054Z"
   },
   {
    "duration": 1276,
    "start_time": "2023-01-15T11:43:55.099Z"
   },
   {
    "duration": 28,
    "start_time": "2023-01-15T11:43:56.377Z"
   },
   {
    "duration": 5,
    "start_time": "2023-01-15T11:43:56.408Z"
   },
   {
    "duration": 14,
    "start_time": "2023-01-15T11:43:56.414Z"
   },
   {
    "duration": 7,
    "start_time": "2023-01-15T11:43:56.453Z"
   },
   {
    "duration": 15,
    "start_time": "2023-01-15T11:43:56.462Z"
   },
   {
    "duration": 11,
    "start_time": "2023-01-15T11:43:56.479Z"
   },
   {
    "duration": 84,
    "start_time": "2023-01-15T11:43:56.492Z"
   },
   {
    "duration": 12,
    "start_time": "2023-01-15T11:43:56.578Z"
   },
   {
    "duration": 8,
    "start_time": "2023-01-15T11:43:56.592Z"
   },
   {
    "duration": 128,
    "start_time": "2023-01-15T11:43:56.602Z"
   },
   {
    "duration": 4,
    "start_time": "2023-01-15T11:43:56.732Z"
   },
   {
    "duration": 5,
    "start_time": "2023-01-15T11:43:56.751Z"
   },
   {
    "duration": 3334,
    "start_time": "2023-01-15T11:43:56.759Z"
   },
   {
    "duration": 8,
    "start_time": "2023-01-15T11:44:00.095Z"
   },
   {
    "duration": 154111,
    "start_time": "2023-01-15T11:44:00.105Z"
   },
   {
    "duration": 6,
    "start_time": "2023-01-15T11:46:34.217Z"
   },
   {
    "duration": 327,
    "start_time": "2023-01-15T11:46:34.225Z"
   },
   {
    "duration": 7,
    "start_time": "2023-01-15T11:46:34.554Z"
   },
   {
    "duration": 15,
    "start_time": "2023-01-15T11:46:34.562Z"
   },
   {
    "duration": 158,
    "start_time": "2023-01-15T11:46:34.579Z"
   },
   {
    "duration": 5,
    "start_time": "2023-01-15T11:46:34.750Z"
   },
   {
    "duration": 174,
    "start_time": "2023-01-15T11:46:34.757Z"
   },
   {
    "duration": 4123,
    "start_time": "2023-01-15T11:46:34.933Z"
   },
   {
    "duration": 204711,
    "start_time": "2023-01-15T11:46:39.058Z"
   },
   {
    "duration": 286,
    "start_time": "2023-01-15T11:50:03.771Z"
   },
   {
    "duration": 89,
    "start_time": "2023-01-15T11:50:04.063Z"
   },
   {
    "duration": 401,
    "start_time": "2023-01-15T11:50:04.154Z"
   },
   {
    "duration": 596,
    "start_time": "2023-01-15T11:50:04.557Z"
   },
   {
    "duration": 713,
    "start_time": "2023-01-15T11:50:05.159Z"
   },
   {
    "duration": 231,
    "start_time": "2023-01-15T11:50:05.874Z"
   }
  ],
  "kernelspec": {
   "display_name": "Python 3 (ipykernel)",
   "language": "python",
   "name": "python3"
  },
  "language_info": {
   "codemirror_mode": {
    "name": "ipython",
    "version": 3
   },
   "file_extension": ".py",
   "mimetype": "text/x-python",
   "name": "python",
   "nbconvert_exporter": "python",
   "pygments_lexer": "ipython3",
   "version": "3.9.13"
  },
  "toc": {
   "base_numbering": 1,
   "nav_menu": {},
   "number_sections": false,
   "sideBar": true,
   "skip_h1_title": true,
   "title_cell": "Содержание",
   "title_sidebar": "Contents",
   "toc_cell": true,
   "toc_position": {},
   "toc_section_display": true,
   "toc_window_display": false
  }
 },
 "nbformat": 4,
 "nbformat_minor": 2
}
